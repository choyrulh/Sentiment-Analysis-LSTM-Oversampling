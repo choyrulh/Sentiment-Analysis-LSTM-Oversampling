{
 "cells": [
  {
   "cell_type": "code",
   "execution_count": 1,
   "metadata": {},
   "outputs": [
    {
     "name": "stderr",
     "output_type": "stream",
     "text": [
      "2023-02-03 10:54:45.789488: I tensorflow/core/platform/cpu_feature_guard.cc:193] This TensorFlow binary is optimized with oneAPI Deep Neural Network Library (oneDNN) to use the following CPU instructions in performance-critical operations:  AVX2 FMA\n",
      "To enable them in other operations, rebuild TensorFlow with the appropriate compiler flags.\n",
      "2023-02-03 10:54:47.541276: W tensorflow/compiler/xla/stream_executor/platform/default/dso_loader.cc:64] Could not load dynamic library 'libcudart.so.11.0'; dlerror: libcudart.so.11.0: cannot open shared object file: No such file or directory\n",
      "2023-02-03 10:54:47.541299: I tensorflow/compiler/xla/stream_executor/cuda/cudart_stub.cc:29] Ignore above cudart dlerror if you do not have a GPU set up on your machine.\n",
      "2023-02-03 10:54:56.580146: W tensorflow/compiler/xla/stream_executor/platform/default/dso_loader.cc:64] Could not load dynamic library 'libnvinfer.so.7'; dlerror: libnvinfer.so.7: cannot open shared object file: No such file or directory\n",
      "2023-02-03 10:54:56.580552: W tensorflow/compiler/xla/stream_executor/platform/default/dso_loader.cc:64] Could not load dynamic library 'libnvinfer_plugin.so.7'; dlerror: libnvinfer_plugin.so.7: cannot open shared object file: No such file or directory\n",
      "2023-02-03 10:54:56.580598: W tensorflow/compiler/tf2tensorrt/utils/py_utils.cc:38] TF-TRT Warning: Cannot dlopen some TensorRT libraries. If you would like to use Nvidia GPU with TensorRT, please make sure the missing libraries mentioned above are installed properly.\n"
     ]
    }
   ],
   "source": [
    "import re\n",
    "import numpy as np\n",
    "import pandas as pd\n",
    "from sklearn.model_selection import train_test_split\n",
    "import matplotlib.pyplot as plt\n",
    "\n",
    "from keras.models import Sequential, load_model\n",
    "from keras.layers import Dense, LSTM, Embedding, Dropout\n",
    "from keras.preprocessing.text import Tokenizer\n",
    "from keras.utils import pad_sequences"
   ]
  },
  {
   "cell_type": "markdown",
   "metadata": {},
   "source": [
    "## Data Preprocessing"
   ]
  },
  {
   "cell_type": "code",
   "execution_count": 2,
   "metadata": {},
   "outputs": [
    {
     "data": {
      "text/html": [
       "<div>\n",
       "<style scoped>\n",
       "    .dataframe tbody tr th:only-of-type {\n",
       "        vertical-align: middle;\n",
       "    }\n",
       "\n",
       "    .dataframe tbody tr th {\n",
       "        vertical-align: top;\n",
       "    }\n",
       "\n",
       "    .dataframe thead th {\n",
       "        text-align: right;\n",
       "    }\n",
       "</style>\n",
       "<table border=\"1\" class=\"dataframe\">\n",
       "  <thead>\n",
       "    <tr style=\"text-align: right;\">\n",
       "      <th></th>\n",
       "      <th>tweet</th>\n",
       "      <th>label</th>\n",
       "    </tr>\n",
       "  </thead>\n",
       "  <tbody>\n",
       "    <tr>\n",
       "      <th>37</th>\n",
       "      <td>ciptakankah kekacauan seperti 30 september 19...</td>\n",
       "      <td>dukungan</td>\n",
       "    </tr>\n",
       "    <tr>\n",
       "      <th>1410</th>\n",
       "      <td>awalnya ngotot nyapres tapi gk laku turun stan...</td>\n",
       "      <td>hujatan</td>\n",
       "    </tr>\n",
       "    <tr>\n",
       "      <th>1275</th>\n",
       "      <td>ini alasan peneliti senior brin jagokan anies ...</td>\n",
       "      <td>dukungan</td>\n",
       "    </tr>\n",
       "    <tr>\n",
       "      <th>182</th>\n",
       "      <td></td>\n",
       "      <td>NaN</td>\n",
       "    </tr>\n",
       "    <tr>\n",
       "      <th>1175</th>\n",
       "      <td>masyarakat telah muak melihat drama anies basw...</td>\n",
       "      <td>hujatan</td>\n",
       "    </tr>\n",
       "    <tr>\n",
       "      <th>...</th>\n",
       "      <td>...</td>\n",
       "      <td>...</td>\n",
       "    </tr>\n",
       "    <tr>\n",
       "      <th>1385</th>\n",
       "      <td>menurut anda yang pantas jadi ri nanti adalah ...</td>\n",
       "      <td>netral</td>\n",
       "    </tr>\n",
       "    <tr>\n",
       "      <th>1087</th>\n",
       "      <td>NaN</td>\n",
       "      <td>NaN</td>\n",
       "    </tr>\n",
       "    <tr>\n",
       "      <th>571</th>\n",
       "      <td>belum mulai masih lama</td>\n",
       "      <td>netral</td>\n",
       "    </tr>\n",
       "    <tr>\n",
       "      <th>1098</th>\n",
       "      <td>mdy asmara caiirrr dulu ama ps skrg ama ab maj...</td>\n",
       "      <td>hujatan</td>\n",
       "    </tr>\n",
       "    <tr>\n",
       "      <th>1310</th>\n",
       "      <td>relawananies insya allahjangan lupa pakai kata...</td>\n",
       "      <td>dukungan</td>\n",
       "    </tr>\n",
       "  </tbody>\n",
       "</table>\n",
       "<p>1739 rows × 2 columns</p>\n",
       "</div>"
      ],
      "text/plain": [
       "                                                  tweet     label\n",
       "37     ciptakankah kekacauan seperti 30 september 19...  dukungan\n",
       "1410  awalnya ngotot nyapres tapi gk laku turun stan...   hujatan\n",
       "1275  ini alasan peneliti senior brin jagokan anies ...  dukungan\n",
       "182                                                           NaN\n",
       "1175  masyarakat telah muak melihat drama anies basw...   hujatan\n",
       "...                                                 ...       ...\n",
       "1385  menurut anda yang pantas jadi ri nanti adalah ...    netral\n",
       "1087                                                NaN       NaN\n",
       "571                             belum mulai masih lama     netral\n",
       "1098  mdy asmara caiirrr dulu ama ps skrg ama ab maj...   hujatan\n",
       "1310  relawananies insya allahjangan lupa pakai kata...  dukungan\n",
       "\n",
       "[1739 rows x 2 columns]"
      ]
     },
     "execution_count": 2,
     "metadata": {},
     "output_type": "execute_result"
    }
   ],
   "source": [
    "# read dataset\n",
    "\n",
    "dt = pd.read_csv('data_train.csv')\n",
    "dt = dt.sample(frac=1)\n",
    "\n",
    "dt"
   ]
  },
  {
   "cell_type": "code",
   "execution_count": 3,
   "metadata": {},
   "outputs": [
    {
     "data": {
      "text/html": [
       "<div>\n",
       "<style scoped>\n",
       "    .dataframe tbody tr th:only-of-type {\n",
       "        vertical-align: middle;\n",
       "    }\n",
       "\n",
       "    .dataframe tbody tr th {\n",
       "        vertical-align: top;\n",
       "    }\n",
       "\n",
       "    .dataframe thead th {\n",
       "        text-align: right;\n",
       "    }\n",
       "</style>\n",
       "<table border=\"1\" class=\"dataframe\">\n",
       "  <thead>\n",
       "    <tr style=\"text-align: right;\">\n",
       "      <th></th>\n",
       "      <th>tweet</th>\n",
       "      <th>label</th>\n",
       "    </tr>\n",
       "  </thead>\n",
       "  <tbody>\n",
       "    <tr>\n",
       "      <th>37</th>\n",
       "      <td>ciptakankah kekacauan seperti 30 september 19...</td>\n",
       "      <td>dukungan</td>\n",
       "    </tr>\n",
       "    <tr>\n",
       "      <th>1410</th>\n",
       "      <td>awalnya ngotot nyapres tapi gk laku turun stan...</td>\n",
       "      <td>hujatan</td>\n",
       "    </tr>\n",
       "    <tr>\n",
       "      <th>1275</th>\n",
       "      <td>ini alasan peneliti senior brin jagokan anies ...</td>\n",
       "      <td>dukungan</td>\n",
       "    </tr>\n",
       "    <tr>\n",
       "      <th>1175</th>\n",
       "      <td>masyarakat telah muak melihat drama anies basw...</td>\n",
       "      <td>hujatan</td>\n",
       "    </tr>\n",
       "    <tr>\n",
       "      <th>981</th>\n",
       "      <td>dlu benci metro tv skrg pasti cinta bgt</td>\n",
       "      <td>dukungan</td>\n",
       "    </tr>\n",
       "    <tr>\n",
       "      <th>...</th>\n",
       "      <td>...</td>\n",
       "      <td>...</td>\n",
       "    </tr>\n",
       "    <tr>\n",
       "      <th>1190</th>\n",
       "      <td>memalukan niat anies baswedan mau perpisahan m...</td>\n",
       "      <td>hujatan</td>\n",
       "    </tr>\n",
       "    <tr>\n",
       "      <th>1385</th>\n",
       "      <td>menurut anda yang pantas jadi ri nanti adalah ...</td>\n",
       "      <td>netral</td>\n",
       "    </tr>\n",
       "    <tr>\n",
       "      <th>571</th>\n",
       "      <td>belum mulai masih lama</td>\n",
       "      <td>netral</td>\n",
       "    </tr>\n",
       "    <tr>\n",
       "      <th>1098</th>\n",
       "      <td>mdy asmara caiirrr dulu ama ps skrg ama ab maj...</td>\n",
       "      <td>hujatan</td>\n",
       "    </tr>\n",
       "    <tr>\n",
       "      <th>1310</th>\n",
       "      <td>relawananies insya allahjangan lupa pakai kata...</td>\n",
       "      <td>dukungan</td>\n",
       "    </tr>\n",
       "  </tbody>\n",
       "</table>\n",
       "<p>1236 rows × 2 columns</p>\n",
       "</div>"
      ],
      "text/plain": [
       "                                                  tweet     label\n",
       "37     ciptakankah kekacauan seperti 30 september 19...  dukungan\n",
       "1410  awalnya ngotot nyapres tapi gk laku turun stan...   hujatan\n",
       "1275  ini alasan peneliti senior brin jagokan anies ...  dukungan\n",
       "1175  masyarakat telah muak melihat drama anies basw...   hujatan\n",
       "981             dlu benci metro tv skrg pasti cinta bgt  dukungan\n",
       "...                                                 ...       ...\n",
       "1190  memalukan niat anies baswedan mau perpisahan m...   hujatan\n",
       "1385  menurut anda yang pantas jadi ri nanti adalah ...    netral\n",
       "571                             belum mulai masih lama     netral\n",
       "1098  mdy asmara caiirrr dulu ama ps skrg ama ab maj...   hujatan\n",
       "1310  relawananies insya allahjangan lupa pakai kata...  dukungan\n",
       "\n",
       "[1236 rows x 2 columns]"
      ]
     },
     "execution_count": 3,
     "metadata": {},
     "output_type": "execute_result"
    }
   ],
   "source": [
    "# delete NaN data\n",
    "dt.dropna(inplace=True)\n",
    "\n",
    "dt"
   ]
  },
  {
   "cell_type": "code",
   "execution_count": 4,
   "metadata": {},
   "outputs": [],
   "source": [
    "# update label\n",
    "\n",
    "dt['label'] = dt['label'].replace({'pujian':'dukungan', 'hujatan':'tidak mendukung'})"
   ]
  },
  {
   "cell_type": "code",
   "execution_count": null,
   "metadata": {},
   "outputs": [],
   "source": []
  },
  {
   "cell_type": "markdown",
   "metadata": {},
   "source": [
    "## Data Preparation"
   ]
  },
  {
   "cell_type": "code",
   "execution_count": 5,
   "metadata": {},
   "outputs": [
    {
     "data": {
      "text/plain": [
       "dukungan           569\n",
       "tidak mendukung    486\n",
       "netral             181\n",
       "Name: label, dtype: int64"
      ]
     },
     "execution_count": 5,
     "metadata": {},
     "output_type": "execute_result"
    },
    {
     "data": {
      "image/png": "[encoded data removed]",
      "text/plain": [
       "<Figure size 432x288 with 1 Axes>"
      ]
     },
     "metadata": {
      "needs_background": "light"
     },
     "output_type": "display_data"
    }
   ],
   "source": [
    "# visualize data\n",
    "\n",
    "dt['label'].value_counts().sort_index().plot.bar()\n",
    "dt['label'].value_counts()"
   ]
  },
  {
   "cell_type": "markdown",
   "metadata": {},
   "source": [
    "# Oversampling"
   ]
  },
  {
   "cell_type": "code",
   "execution_count": 6,
   "metadata": {},
   "outputs": [],
   "source": [
    "minority_class = 'netral'\n",
    "num_samples_to_oversample = dt['label'].value_counts()['dukungan'] - dt['label'].value_counts()[minority_class]"
   ]
  },
  {
   "cell_type": "code",
   "execution_count": 7,
   "metadata": {},
   "outputs": [],
   "source": [
    "minority_df = dt[dt['label'] == minority_class]"
   ]
  },
  {
   "cell_type": "code",
   "execution_count": 8,
   "metadata": {},
   "outputs": [],
   "source": [
    "oversampled_df = minority_df.sample(num_samples_to_oversample, replace=True)\n"
   ]
  },
  {
   "cell_type": "code",
   "execution_count": 9,
   "metadata": {},
   "outputs": [],
   "source": [
    "dt = pd.concat([dt, oversampled_df])"
   ]
  },
  {
   "cell_type": "code",
   "execution_count": 10,
   "metadata": {},
   "outputs": [],
   "source": [
    "minority_class = 'tidak mendukung'\n",
    "num_samples_to_oversample = dt['label'].value_counts()['dukungan'] - dt['label'].value_counts()[minority_class]"
   ]
  },
  {
   "cell_type": "code",
   "execution_count": 11,
   "metadata": {},
   "outputs": [],
   "source": [
    "minority_df = dt[dt['label'] == minority_class]"
   ]
  },
  {
   "cell_type": "code",
   "execution_count": 12,
   "metadata": {},
   "outputs": [],
   "source": [
    "oversampled_df = minority_df.sample(num_samples_to_oversample, replace=True)"
   ]
  },
  {
   "cell_type": "code",
   "execution_count": 13,
   "metadata": {},
   "outputs": [],
   "source": [
    "dt = pd.concat([dt, oversampled_df])"
   ]
  },
  {
   "cell_type": "code",
   "execution_count": 14,
   "metadata": {},
   "outputs": [
    {
     "data": {
      "text/plain": [
       "dukungan           569\n",
       "tidak mendukung    569\n",
       "netral             569\n",
       "Name: label, dtype: int64"
      ]
     },
     "execution_count": 14,
     "metadata": {},
     "output_type": "execute_result"
    },
    {
     "data": {
      "image/png": "[encoded data removed]",
      "text/plain": [
       "<Figure size 432x288 with 1 Axes>"
      ]
     },
     "metadata": {
      "needs_background": "light"
     },
     "output_type": "display_data"
    }
   ],
   "source": [
    "dt['label'].value_counts().sort_index().plot.bar()\n",
    "dt['label'].value_counts()"
   ]
  },
  {
   "cell_type": "code",
   "execution_count": 15,
   "metadata": {},
   "outputs": [
    {
     "name": "stdout",
     "output_type": "stream",
     "text": [
      "[[   0    0    0 ...  517   96 2419]\n",
      " [   0    0    0 ...  214   70  269]\n",
      " [   0    0    0 ...    2    6   71]\n",
      " ...\n",
      " [   0    0    0 ... 1190 2159 2160]\n",
      " [   0    0    0 ...    0  557    3]\n",
      " [   0    0    0 ...   10  153  720]]\n"
     ]
    }
   ],
   "source": [
    "# tokenizer text\n",
    "\n",
    "tokenizer = Tokenizer(num_words=5000, split=\" \")\n",
    "\n",
    "tokenizer.fit_on_texts(dt['tweet'].values)\n",
    "X = tokenizer.texts_to_sequences(dt['tweet'].values)\n",
    "X = pad_sequences(X)\n",
    "print(X)"
   ]
  },
  {
   "cell_type": "code",
   "execution_count": 16,
   "metadata": {},
   "outputs": [
    {
     "data": {
      "text/plain": [
       "array([[1, 0, 0],\n",
       "       [0, 0, 1],\n",
       "       [1, 0, 0],\n",
       "       ...,\n",
       "       [0, 0, 1],\n",
       "       [0, 0, 1],\n",
       "       [0, 0, 1]], dtype=uint8)"
      ]
     },
     "execution_count": 16,
     "metadata": {},
     "output_type": "execute_result"
    }
   ],
   "source": [
    "# get label\n",
    "\n",
    "y = pd.get_dummies(dt['label']).values\n",
    "y"
   ]
  },
  {
   "cell_type": "code",
   "execution_count": 17,
   "metadata": {},
   "outputs": [
    {
     "name": "stdout",
     "output_type": "stream",
     "text": [
      "(1707, 3)\n"
     ]
    }
   ],
   "source": [
    "print(y.shape)"
   ]
  },
  {
   "cell_type": "code",
   "execution_count": null,
   "metadata": {},
   "outputs": [],
   "source": []
  },
  {
   "cell_type": "code",
   "execution_count": 18,
   "metadata": {},
   "outputs": [
    {
     "name": "stdout",
     "output_type": "stream",
     "text": [
      "(1365, 51)\n",
      "(342, 51)\n"
     ]
    }
   ],
   "source": [
    "# split dataset random oversampling\n",
    "\n",
    "X_train, X_test, y_train, y_test = train_test_split(X, y, test_size=0.2, random_state=0)\n",
    "\n",
    "print(X_train.shape)\n",
    "print(X_test.shape)"
   ]
  },
  {
   "cell_type": "code",
   "execution_count": 20,
   "metadata": {},
   "outputs": [
    {
     "name": "stdout",
     "output_type": "stream",
     "text": [
      "(1365, 51)\n",
      "(342, 51)\n"
     ]
    }
   ],
   "source": [
    "# split dataset smote tanpa menggunakan tokenizing\n",
    "\n",
    "X_train, X_test, y_train, y_test = train_test_split(X, y, test_size=0.2, random_state=0)\n",
    "\n",
    "print(X_train.shape)\n",
    "print(X_test.shape)"
   ]
  },
  {
   "cell_type": "markdown",
   "metadata": {},
   "source": [
    "## Training Model"
   ]
  },
  {
   "cell_type": "code",
   "execution_count": 21,
   "metadata": {},
   "outputs": [
    {
     "name": "stderr",
     "output_type": "stream",
     "text": [
      "2023-02-03 10:55:28.437105: W tensorflow/compiler/xla/stream_executor/platform/default/dso_loader.cc:64] Could not load dynamic library 'libcudart.so.11.0'; dlerror: libcudart.so.11.0: cannot open shared object file: No such file or directory\n",
      "2023-02-03 10:55:28.441558: W tensorflow/compiler/xla/stream_executor/platform/default/dso_loader.cc:64] Could not load dynamic library 'libcublas.so.11'; dlerror: libcublas.so.11: cannot open shared object file: No such file or directory\n",
      "2023-02-03 10:55:28.441875: W tensorflow/compiler/xla/stream_executor/platform/default/dso_loader.cc:64] Could not load dynamic library 'libcublasLt.so.11'; dlerror: libcublasLt.so.11: cannot open shared object file: No such file or directory\n",
      "2023-02-03 10:55:28.442175: W tensorflow/compiler/xla/stream_executor/platform/default/dso_loader.cc:64] Could not load dynamic library 'libcufft.so.10'; dlerror: libcufft.so.10: cannot open shared object file: No such file or directory\n",
      "2023-02-03 10:55:28.442508: W tensorflow/compiler/xla/stream_executor/platform/default/dso_loader.cc:64] Could not load dynamic library 'libcurand.so.10'; dlerror: libcurand.so.10: cannot open shared object file: No such file or directory\n",
      "2023-02-03 10:55:28.442824: W tensorflow/compiler/xla/stream_executor/platform/default/dso_loader.cc:64] Could not load dynamic library 'libcusolver.so.11'; dlerror: libcusolver.so.11: cannot open shared object file: No such file or directory\n",
      "2023-02-03 10:55:28.443121: W tensorflow/compiler/xla/stream_executor/platform/default/dso_loader.cc:64] Could not load dynamic library 'libcusparse.so.11'; dlerror: libcusparse.so.11: cannot open shared object file: No such file or directory\n",
      "2023-02-03 10:55:28.443461: W tensorflow/compiler/xla/stream_executor/platform/default/dso_loader.cc:64] Could not load dynamic library 'libcudnn.so.8'; dlerror: libcudnn.so.8: cannot open shared object file: No such file or directory\n",
      "2023-02-03 10:55:28.443518: W tensorflow/core/common_runtime/gpu/gpu_device.cc:1934] Cannot dlopen some GPU libraries. Please make sure the missing libraries mentioned above are installed properly if you would like to use GPU. Follow the guide at https://www.tensorflow.org/install/gpu for how to download and setup the required libraries for your platform.\n",
      "Skipping registering GPU devices...\n",
      "2023-02-03 10:55:28.460966: I tensorflow/core/platform/cpu_feature_guard.cc:193] This TensorFlow binary is optimized with oneAPI Deep Neural Network Library (oneDNN) to use the following CPU instructions in performance-critical operations:  AVX2 FMA\n",
      "To enable them in other operations, rebuild TensorFlow with the appropriate compiler flags.\n"
     ]
    },
    {
     "name": "stdout",
     "output_type": "stream",
     "text": [
      "Model: \"sequential\"\n",
      "_________________________________________________________________\n",
      " Layer (type)                Output Shape              Param #   \n",
      "=================================================================\n",
      " embedding (Embedding)       (None, None, 256)         1280000   \n",
      "                                                                 \n",
      " dropout (Dropout)           (None, None, 256)         0         \n",
      "                                                                 \n",
      " lstm (LSTM)                 (None, None, 256)         525312    \n",
      "                                                                 \n",
      " lstm_1 (LSTM)               (None, 256)               525312    \n",
      "                                                                 \n",
      " dense (Dense)               (None, 3)                 771       \n",
      "                                                                 \n",
      "=================================================================\n",
      "Total params: 2,331,395\n",
      "Trainable params: 2,331,395\n",
      "Non-trainable params: 0\n",
      "_________________________________________________________________\n"
     ]
    }
   ],
   "source": [
    "# LSTM Modelling\n",
    "\n",
    "model = Sequential()\n",
    "model.add(Embedding(5000, 256))\n",
    "model.add(Dropout(0.3))\n",
    "model.add(LSTM(256, return_sequences=True, dropout=0.3, recurrent_dropout=0.2))\n",
    "model.add(LSTM(256, dropout=0.3, recurrent_dropout=0.2))\n",
    "model.add(Dense(3, activation='softmax'))\n",
    "model.compile(loss='categorical_crossentropy', optimizer='adam', metrics=['accuracy'])\n",
    "model.summary()"
   ]
  },
  {
   "cell_type": "code",
   "execution_count": null,
   "metadata": {},
   "outputs": [
    {
     "name": "stdout",
     "output_type": "stream",
     "text": [
      "Epoch 1/10\n",
      "43/43 - 19s - loss: 1.0545 - accuracy: 0.4403 - 19s/epoch - 432ms/step\n",
      "Epoch 2/10\n",
      "43/43 - 14s - loss: 0.6051 - accuracy: 0.7582 - 14s/epoch - 314ms/step\n",
      "Epoch 3/10\n",
      "43/43 - 14s - loss: 0.2154 - accuracy: 0.9253 - 14s/epoch - 326ms/step\n",
      "Epoch 4/10\n"
     ]
    }
   ],
   "source": [
    "# train model\n",
    "\n",
    "batch_size = 32\n",
    "epochs = 10\n",
    "\n",
    "model.fit(X_train, y_train, epochs=epochs, batch_size=batch_size, verbose=2)\n",
    "\n",
    "# save model into file .h5\n",
    "\n",
    "model.save('sentiment_analysis.h5')"
   ]
  },
  {
   "cell_type": "code",
   "execution_count": 15,
   "metadata": {},
   "outputs": [],
   "source": [
    "import seaborn as sns\n",
    "import string"
   ]
  },
  {
   "cell_type": "code",
   "execution_count": null,
   "metadata": {},
   "outputs": [],
   "source": []
  },
  {
   "cell_type": "code",
   "execution_count": null,
   "metadata": {},
   "outputs": [],
   "source": [
    "metrics = pd.DataFrame(history.history)\n",
    "\n",
    "metrics.rename(columns = {'loss':'Training_Loss', 'accuracy':\"Training_Accuracy\", 'val_loss':'Validation_Loss', 'val_accuracy':\"Validation_Accuracy\"}, inplace = True)\n"
   ]
  },
  {
   "cell_type": "markdown",
   "metadata": {},
   "source": [
    "## Evaluate Model"
   ]
  },
  {
   "cell_type": "code",
   "execution_count": null,
   "metadata": {},
   "outputs": [],
   "source": [
    "# evaluate model with data test\n",
    "\n",
    "score, acc = model.evaluate(X_test, y_test, verbose = 2, batch_size = batch_size)\n",
    "\n",
    "print(\"score: %.2f\" % (score))\n",
    "print(\"acc: %.2f\" % (acc))"
   ]
  },
  {
   "cell_type": "markdown",
   "metadata": {},
   "source": [
    "## Predict New Dataset"
   ]
  },
  {
   "cell_type": "code",
   "execution_count": 48,
   "metadata": {},
   "outputs": [
    {
     "data": {
      "text/html": [
       "<div>\n",
       "<style scoped>\n",
       "    .dataframe tbody tr th:only-of-type {\n",
       "        vertical-align: middle;\n",
       "    }\n",
       "\n",
       "    .dataframe tbody tr th {\n",
       "        vertical-align: top;\n",
       "    }\n",
       "\n",
       "    .dataframe thead th {\n",
       "        text-align: right;\n",
       "    }\n",
       "</style>\n",
       "<table border=\"1\" class=\"dataframe\">\n",
       "  <thead>\n",
       "    <tr style=\"text-align: right;\">\n",
       "      <th></th>\n",
       "      <th>tweet</th>\n",
       "    </tr>\n",
       "  </thead>\n",
       "  <tbody>\n",
       "    <tr>\n",
       "      <th>0</th>\n",
       "      <td>@M45Broo_ Cebong benar2 panik luar biasa, ini ...</td>\n",
       "    </tr>\n",
       "    <tr>\n",
       "      <th>1</th>\n",
       "      <td>@Relawananies https://t.co/uf5sE0iGLI</td>\n",
       "    </tr>\n",
       "    <tr>\n",
       "      <th>2</th>\n",
       "      <td>RT @BosPurwa: #IndonesiaMemanggil \\n5 Tahun An...</td>\n",
       "    </tr>\n",
       "    <tr>\n",
       "      <th>3</th>\n",
       "      <td>RT @aLy_Bima: Video ini hanya untuk orang yang...</td>\n",
       "    </tr>\n",
       "    <tr>\n",
       "      <th>4</th>\n",
       "      <td>RT @tempodotco: \"Tidak ringan permasalahan di ...</td>\n",
       "    </tr>\n",
       "    <tr>\n",
       "      <th>...</th>\n",
       "      <td>...</td>\n",
       "    </tr>\n",
       "    <tr>\n",
       "      <th>445</th>\n",
       "      <td>RT @Relawananies: Momen haru saat Anies Baswed...</td>\n",
       "    </tr>\n",
       "    <tr>\n",
       "      <th>446</th>\n",
       "      <td>@maspiyuaja Terima kasih om https://t.co/PUgr2...</td>\n",
       "    </tr>\n",
       "    <tr>\n",
       "      <th>447</th>\n",
       "      <td>RT @BosPurwa: #IndonesiaMemanggil \\n5 Tahun An...</td>\n",
       "    </tr>\n",
       "    <tr>\n",
       "      <th>448</th>\n",
       "      <td>RT @OposisiCerdas: Kamhar Lakumani Sebut Anies...</td>\n",
       "    </tr>\n",
       "    <tr>\n",
       "      <th>449</th>\n",
       "      <td>@GunRomli Bosmu ����� gak ngapa ngapain https:...</td>\n",
       "    </tr>\n",
       "  </tbody>\n",
       "</table>\n",
       "<p>450 rows × 1 columns</p>\n",
       "</div>"
      ],
      "text/plain": [
       "                                                 tweet\n",
       "0    @M45Broo_ Cebong benar2 panik luar biasa, ini ...\n",
       "1                @Relawananies https://t.co/uf5sE0iGLI\n",
       "2    RT @BosPurwa: #IndonesiaMemanggil \\n5 Tahun An...\n",
       "3    RT @aLy_Bima: Video ini hanya untuk orang yang...\n",
       "4    RT @tempodotco: \"Tidak ringan permasalahan di ...\n",
       "..                                                 ...\n",
       "445  RT @Relawananies: Momen haru saat Anies Baswed...\n",
       "446  @maspiyuaja Terima kasih om https://t.co/PUgr2...\n",
       "447  RT @BosPurwa: #IndonesiaMemanggil \\n5 Tahun An...\n",
       "448  RT @OposisiCerdas: Kamhar Lakumani Sebut Anies...\n",
       "449  @GunRomli Bosmu ����� gak ngapa ngapain https:...\n",
       "\n",
       "[450 rows x 1 columns]"
      ]
     },
     "execution_count": 48,
     "metadata": {},
     "output_type": "execute_result"
    }
   ],
   "source": [
    "# read new dataset\n",
    "import re\n",
    "import numpy as np\n",
    "import pandas as pd\n",
    "data = pd.read_csv('tweet2.csv')\n",
    "# menghapus kolom id\n",
    "data = data.drop(['id'], axis=1)\n",
    "\n",
    "data"
   ]
  },
  {
   "cell_type": "code",
   "execution_count": 49,
   "metadata": {},
   "outputs": [
    {
     "data": {
      "text/html": [
       "<div>\n",
       "<style scoped>\n",
       "    .dataframe tbody tr th:only-of-type {\n",
       "        vertical-align: middle;\n",
       "    }\n",
       "\n",
       "    .dataframe tbody tr th {\n",
       "        vertical-align: top;\n",
       "    }\n",
       "\n",
       "    .dataframe thead th {\n",
       "        text-align: right;\n",
       "    }\n",
       "</style>\n",
       "<table border=\"1\" class=\"dataframe\">\n",
       "  <thead>\n",
       "    <tr style=\"text-align: right;\">\n",
       "      <th></th>\n",
       "      <th>tweet</th>\n",
       "    </tr>\n",
       "  </thead>\n",
       "  <tbody>\n",
       "    <tr>\n",
       "      <th>0</th>\n",
       "      <td>kenduri rakyat jarnas anies baswedan yogyakart...</td>\n",
       "    </tr>\n",
       "    <tr>\n",
       "      <th>1</th>\n",
       "      <td>brengsek anies baswedan gak bisa kerja sekaran...</td>\n",
       "    </tr>\n",
       "    <tr>\n",
       "      <th>2</th>\n",
       "      <td>hanya pandai omdo ajakelebihan bayar dn php</td>\n",
       "    </tr>\n",
       "    <tr>\n",
       "      <th>3</th>\n",
       "      <td>ketum partai gerindra prabowo subianto memilik...</td>\n",
       "    </tr>\n",
       "    <tr>\n",
       "      <th>4</th>\n",
       "      <td>indonesiamemanggil 5 tahun anies baswedan memi...</td>\n",
       "    </tr>\n",
       "    <tr>\n",
       "      <th>...</th>\n",
       "      <td>...</td>\n",
       "    </tr>\n",
       "    <tr>\n",
       "      <th>430</th>\n",
       "      <td>sinyal buat koalisi ak2412 oktoober 2022jender...</td>\n",
       "    </tr>\n",
       "    <tr>\n",
       "      <th>431</th>\n",
       "      <td>janji anies baswedan menjadi jancukkepulauan b...</td>\n",
       "    </tr>\n",
       "    <tr>\n",
       "      <th>432</th>\n",
       "      <td>kenapa disaat last lap pencitraan</td>\n",
       "    </tr>\n",
       "    <tr>\n",
       "      <th>433</th>\n",
       "      <td>partai koalisi pemerintah 82 suaranya di parle...</td>\n",
       "    </tr>\n",
       "    <tr>\n",
       "      <th>434</th>\n",
       "      <td>wow ada babilungeh</td>\n",
       "    </tr>\n",
       "  </tbody>\n",
       "</table>\n",
       "<p>435 rows × 1 columns</p>\n",
       "</div>"
      ],
      "text/plain": [
       "                                                 tweet\n",
       "0    kenduri rakyat jarnas anies baswedan yogyakart...\n",
       "1    brengsek anies baswedan gak bisa kerja sekaran...\n",
       "2         hanya pandai omdo ajakelebihan bayar dn php \n",
       "3    ketum partai gerindra prabowo subianto memilik...\n",
       "4    indonesiamemanggil 5 tahun anies baswedan memi...\n",
       "..                                                 ...\n",
       "430  sinyal buat koalisi ak2412 oktoober 2022jender...\n",
       "431  janji anies baswedan menjadi jancukkepulauan b...\n",
       "432                 kenapa disaat last lap pencitraan \n",
       "433  partai koalisi pemerintah 82 suaranya di parle...\n",
       "434                                 wow ada babilungeh\n",
       "\n",
       "[435 rows x 1 columns]"
      ]
     },
     "execution_count": 49,
     "metadata": {},
     "output_type": "execute_result"
    }
   ],
   "source": [
    "# data preprocessing\n",
    "\n",
    "def tweetPrepocessing(text):\n",
    "  text = text.lower()\n",
    "  text = re.sub('\\n','', text)\n",
    "  text = re.sub('rt ','', text)\n",
    "  text = re.sub('#','', text)\n",
    "  text = re.sub('@\\w+(?:\\:)\\ ','', text)\n",
    "  text = re.sub(r'(?:\\@|http?\\://|https?\\://|www)\\S+','', text)\n",
    "  text = re.sub('[^a-zA-z0-9\\s]','', text)\n",
    "  text = re.sub('  ',' ', text)\n",
    "\n",
    "  if text == ' ':\n",
    "    return None\n",
    "\n",
    "  return text\n",
    "\n",
    "data = data.sample(frac=1)\n",
    "data['tweet'] = data['tweet'].apply(tweetPrepocessing)\n",
    "data.dropna(inplace=True)\n",
    "data.reset_index(drop=True, inplace = True)\n",
    "\n",
    "data"
   ]
  },
  {
   "cell_type": "code",
   "execution_count": 50,
   "metadata": {},
   "outputs": [
    {
     "name": "stdout",
     "output_type": "stream",
     "text": [
      "[[   0    0    0 ...    1   62  425]\n",
      " [   0    0    0 ...   67   76  428]\n",
      " [   0    0    0 ...  635  218  636]\n",
      " ...\n",
      " [   0    0    0 ... 1546 1547 1548]\n",
      " [   0    0    0 ...   56   18   59]\n",
      " [   0    0    0 ...  453   38 1549]]\n"
     ]
    },
    {
     "data": {
      "text/plain": [
       "(435, 42)"
      ]
     },
     "execution_count": 50,
     "metadata": {},
     "output_type": "execute_result"
    }
   ],
   "source": [
    "from keras.preprocessing.text import Tokenizer\n",
    "from keras.utils import pad_sequences\n",
    "\n",
    "tokenizer = Tokenizer(num_words=5000, split=\" \")\n",
    "\n",
    "tokenizer.fit_on_texts(data['tweet'].values)\n",
    "X = tokenizer.texts_to_sequences(data['tweet'].values)\n",
    "X = pad_sequences(X)\n",
    "print(X)\n",
    "\n",
    "\n",
    "tokenizer.fit_on_texts(data['tweet'].values)\n",
    "\n",
    "X_new = tokenizer.texts_to_sequences(data['tweet'].values)\n",
    "X_new = pad_sequences(X_new)\n",
    "X_new.shape"
   ]
  },
  {
   "cell_type": "code",
   "execution_count": 51,
   "metadata": {},
   "outputs": [],
   "source": [
    "# load model\n",
    "from keras.models import Sequential, load_model\n",
    "mymodel = load_model('sentiment_analysis.h5')"
   ]
  },
  {
   "cell_type": "code",
   "execution_count": 52,
   "metadata": {},
   "outputs": [
    {
     "name": "stdout",
     "output_type": "stream",
     "text": [
      "14/14 [==============================] - 1s 49ms/step\n"
     ]
    }
   ],
   "source": [
    "# predict data\n",
    "\n",
    "pred = mymodel.predict(X_new)"
   ]
  },
  {
   "cell_type": "code",
   "execution_count": 53,
   "metadata": {},
   "outputs": [],
   "source": [
    "# labelling\n",
    "\n",
    "def labelling(array):\n",
    "  labels = ['dukungan', 'netral', 'tidak mendukung']\n",
    "  output = []\n",
    "  for a in array:\n",
    "    output.append(labels[np.argmax(a)])\n",
    "  return output\n",
    "\n",
    "label = labelling(pred)"
   ]
  },
  {
   "cell_type": "code",
   "execution_count": null,
   "metadata": {},
   "outputs": [],
   "source": []
  },
  {
   "cell_type": "code",
   "execution_count": 54,
   "metadata": {},
   "outputs": [
    {
     "data": {
      "text/html": [
       "<div>\n",
       "<style scoped>\n",
       "    .dataframe tbody tr th:only-of-type {\n",
       "        vertical-align: middle;\n",
       "    }\n",
       "\n",
       "    .dataframe tbody tr th {\n",
       "        vertical-align: top;\n",
       "    }\n",
       "\n",
       "    .dataframe thead th {\n",
       "        text-align: right;\n",
       "    }\n",
       "</style>\n",
       "<table border=\"1\" class=\"dataframe\">\n",
       "  <thead>\n",
       "    <tr style=\"text-align: right;\">\n",
       "      <th></th>\n",
       "      <th>tweet</th>\n",
       "      <th>label</th>\n",
       "    </tr>\n",
       "  </thead>\n",
       "  <tbody>\n",
       "    <tr>\n",
       "      <th>0</th>\n",
       "      <td>kenduri rakyat jarnas anies baswedan yogyakart...</td>\n",
       "      <td>netral</td>\n",
       "    </tr>\n",
       "    <tr>\n",
       "      <th>1</th>\n",
       "      <td>brengsek anies baswedan gak bisa kerja sekaran...</td>\n",
       "      <td>netral</td>\n",
       "    </tr>\n",
       "    <tr>\n",
       "      <th>2</th>\n",
       "      <td>hanya pandai omdo ajakelebihan bayar dn php</td>\n",
       "      <td>netral</td>\n",
       "    </tr>\n",
       "    <tr>\n",
       "      <th>3</th>\n",
       "      <td>ketum partai gerindra prabowo subianto memilik...</td>\n",
       "      <td>tidak mendukung</td>\n",
       "    </tr>\n",
       "    <tr>\n",
       "      <th>4</th>\n",
       "      <td>indonesiamemanggil 5 tahun anies baswedan memi...</td>\n",
       "      <td>tidak mendukung</td>\n",
       "    </tr>\n",
       "    <tr>\n",
       "      <th>...</th>\n",
       "      <td>...</td>\n",
       "      <td>...</td>\n",
       "    </tr>\n",
       "    <tr>\n",
       "      <th>430</th>\n",
       "      <td>sinyal buat koalisi ak2412 oktoober 2022jender...</td>\n",
       "      <td>netral</td>\n",
       "    </tr>\n",
       "    <tr>\n",
       "      <th>431</th>\n",
       "      <td>janji anies baswedan menjadi jancukkepulauan b...</td>\n",
       "      <td>dukungan</td>\n",
       "    </tr>\n",
       "    <tr>\n",
       "      <th>432</th>\n",
       "      <td>kenapa disaat last lap pencitraan</td>\n",
       "      <td>tidak mendukung</td>\n",
       "    </tr>\n",
       "    <tr>\n",
       "      <th>433</th>\n",
       "      <td>partai koalisi pemerintah 82 suaranya di parle...</td>\n",
       "      <td>dukungan</td>\n",
       "    </tr>\n",
       "    <tr>\n",
       "      <th>434</th>\n",
       "      <td>wow ada babilungeh</td>\n",
       "      <td>tidak mendukung</td>\n",
       "    </tr>\n",
       "  </tbody>\n",
       "</table>\n",
       "<p>435 rows × 2 columns</p>\n",
       "</div>"
      ],
      "text/plain": [
       "                                                 tweet            label\n",
       "0    kenduri rakyat jarnas anies baswedan yogyakart...           netral\n",
       "1    brengsek anies baswedan gak bisa kerja sekaran...           netral\n",
       "2         hanya pandai omdo ajakelebihan bayar dn php            netral\n",
       "3    ketum partai gerindra prabowo subianto memilik...  tidak mendukung\n",
       "4    indonesiamemanggil 5 tahun anies baswedan memi...  tidak mendukung\n",
       "..                                                 ...              ...\n",
       "430  sinyal buat koalisi ak2412 oktoober 2022jender...           netral\n",
       "431  janji anies baswedan menjadi jancukkepulauan b...         dukungan\n",
       "432                 kenapa disaat last lap pencitraan   tidak mendukung\n",
       "433  partai koalisi pemerintah 82 suaranya di parle...         dukungan\n",
       "434                                 wow ada babilungeh  tidak mendukung\n",
       "\n",
       "[435 rows x 2 columns]"
      ]
     },
     "execution_count": 54,
     "metadata": {},
     "output_type": "execute_result"
    }
   ],
   "source": [
    "# add label to data\n",
    "\n",
    "data['label'] = label\n",
    "\n",
    "data"
   ]
  },
  {
   "cell_type": "code",
   "execution_count": 43,
   "metadata": {},
   "outputs": [],
   "source": [
    "# save to new csv\n",
    "\n",
    "data.to_csv('tweet2_new.csv', index=False)"
   ]
  },
  {
   "cell_type": "code",
   "execution_count": null,
   "metadata": {},
   "outputs": [],
   "source": []
  },
  {
   "cell_type": "code",
   "execution_count": null,
   "metadata": {},
   "outputs": [],
   "source": []
  },
  {
   "cell_type": "code",
   "execution_count": null,
   "metadata": {},
   "outputs": [],
   "source": []
  },
  {
   "cell_type": "code",
   "execution_count": null,
   "metadata": {},
   "outputs": [],
   "source": []
  },
  {
   "cell_type": "code",
   "execution_count": null,
   "metadata": {},
   "outputs": [],
   "source": []
  }
 ],
 "metadata": {
  "kernelspec": {
   "display_name": "Python 3 (ipykernel)",
   "language": "python",
   "name": "python3"
  },
  "language_info": {
   "codemirror_mode": {
    "name": "ipython",
    "version": 3
   },
   "file_extension": ".py",
   "mimetype": "text/x-python",
   "name": "python",
   "nbconvert_exporter": "python",
   "pygments_lexer": "ipython3",
   "version": "3.9.7"
  },
  "vscode": {
   "interpreter": {
    "hash": "65e2cb4ba52f491d98b9dab0c6a41d622f0e8e62820fe5497205364b0533bb9e"
   }
  }
 },
 "nbformat": 4,
 "nbformat_minor": 2
}
