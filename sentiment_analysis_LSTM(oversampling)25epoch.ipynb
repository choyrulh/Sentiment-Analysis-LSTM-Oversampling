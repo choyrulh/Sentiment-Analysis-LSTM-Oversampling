{
 "cells": [
  {
   "cell_type": "code",
   "execution_count": 1,
   "metadata": {},
   "outputs": [
    {
     "name": "stderr",
     "output_type": "stream",
     "text": [
      "2023-03-01 10:01:46.313060: I tensorflow/core/platform/cpu_feature_guard.cc:193] This TensorFlow binary is optimized with oneAPI Deep Neural Network Library (oneDNN) to use the following CPU instructions in performance-critical operations:  AVX2 FMA\n",
      "To enable them in other operations, rebuild TensorFlow with the appropriate compiler flags.\n",
      "2023-03-01 10:01:46.463947: W tensorflow/compiler/xla/stream_executor/platform/default/dso_loader.cc:64] Could not load dynamic library 'libcudart.so.11.0'; dlerror: libcudart.so.11.0: cannot open shared object file: No such file or directory\n",
      "2023-03-01 10:01:46.463975: I tensorflow/compiler/xla/stream_executor/cuda/cudart_stub.cc:29] Ignore above cudart dlerror if you do not have a GPU set up on your machine.\n",
      "2023-03-01 10:01:47.186900: W tensorflow/compiler/xla/stream_executor/platform/default/dso_loader.cc:64] Could not load dynamic library 'libnvinfer.so.7'; dlerror: libnvinfer.so.7: cannot open shared object file: No such file or directory\n",
      "2023-03-01 10:01:47.187014: W tensorflow/compiler/xla/stream_executor/platform/default/dso_loader.cc:64] Could not load dynamic library 'libnvinfer_plugin.so.7'; dlerror: libnvinfer_plugin.so.7: cannot open shared object file: No such file or directory\n",
      "2023-03-01 10:01:47.187026: W tensorflow/compiler/tf2tensorrt/utils/py_utils.cc:38] TF-TRT Warning: Cannot dlopen some TensorRT libraries. If you would like to use Nvidia GPU with TensorRT, please make sure the missing libraries mentioned above are installed properly.\n"
     ]
    }
   ],
   "source": [
    "import re\n",
    "import numpy as np\n",
    "import pandas as pd\n",
    "from sklearn.model_selection import train_test_split\n",
    "import matplotlib.pyplot as plt\n",
    "\n",
    "from keras.models import Sequential, load_model\n",
    "from keras.layers import Dense, LSTM, Embedding, Dropout\n",
    "from keras.preprocessing.text import Tokenizer\n",
    "from keras.utils import pad_sequences"
   ]
  },
  {
   "cell_type": "markdown",
   "metadata": {},
   "source": [
    "## Data Preprocessing"
   ]
  },
  {
   "cell_type": "code",
   "execution_count": 36,
   "metadata": {},
   "outputs": [
    {
     "data": {
      "text/html": [
       "<div>\n",
       "<style scoped>\n",
       "    .dataframe tbody tr th:only-of-type {\n",
       "        vertical-align: middle;\n",
       "    }\n",
       "\n",
       "    .dataframe tbody tr th {\n",
       "        vertical-align: top;\n",
       "    }\n",
       "\n",
       "    .dataframe thead th {\n",
       "        text-align: right;\n",
       "    }\n",
       "</style>\n",
       "<table border=\"1\" class=\"dataframe\">\n",
       "  <thead>\n",
       "    <tr style=\"text-align: right;\">\n",
       "      <th></th>\n",
       "      <th>tweet</th>\n",
       "      <th>label</th>\n",
       "    </tr>\n",
       "  </thead>\n",
       "  <tbody>\n",
       "    <tr>\n",
       "      <th>1455</th>\n",
       "      <td>erwin aksa ungkap pamannya jusuf kalla tak per...</td>\n",
       "      <td>dukungan</td>\n",
       "    </tr>\n",
       "    <tr>\n",
       "      <th>1567</th>\n",
       "      <td>musniumar bohong mus malah di surve amblek das...</td>\n",
       "      <td>hujatan</td>\n",
       "    </tr>\n",
       "    <tr>\n",
       "      <th>1118</th>\n",
       "      <td>ketika anies baswedan buka suara usai diusung ...</td>\n",
       "      <td>dukungan</td>\n",
       "    </tr>\n",
       "    <tr>\n",
       "      <th>1146</th>\n",
       "      <td>NaN</td>\n",
       "      <td>NaN</td>\n",
       "    </tr>\n",
       "    <tr>\n",
       "      <th>1188</th>\n",
       "      <td>anies baswedan hanya bisa bicara omong kosong ...</td>\n",
       "      <td>hujatan</td>\n",
       "    </tr>\n",
       "    <tr>\n",
       "      <th>...</th>\n",
       "      <td>...</td>\n",
       "      <td>...</td>\n",
       "    </tr>\n",
       "    <tr>\n",
       "      <th>534</th>\n",
       "      <td>resmi nasdem deklarasi bpk anies baswedan seb...</td>\n",
       "      <td>dukungan</td>\n",
       "    </tr>\n",
       "    <tr>\n",
       "      <th>167</th>\n",
       "      <td>bgst</td>\n",
       "      <td>hujatan</td>\n",
       "    </tr>\n",
       "    <tr>\n",
       "      <th>943</th>\n",
       "      <td>NaN</td>\n",
       "      <td>NaN</td>\n",
       "    </tr>\n",
       "    <tr>\n",
       "      <th>187</th>\n",
       "      <td>dikit kriminalisasi yang anies lah yg ulama l...</td>\n",
       "      <td>tidak mendukung</td>\n",
       "    </tr>\n",
       "    <tr>\n",
       "      <th>1532</th>\n",
       "      <td>NaN</td>\n",
       "      <td>NaN</td>\n",
       "    </tr>\n",
       "  </tbody>\n",
       "</table>\n",
       "<p>1739 rows × 2 columns</p>\n",
       "</div>"
      ],
      "text/plain": [
       "                                                  tweet            label\n",
       "1455  erwin aksa ungkap pamannya jusuf kalla tak per...         dukungan\n",
       "1567  musniumar bohong mus malah di surve amblek das...          hujatan\n",
       "1118  ketika anies baswedan buka suara usai diusung ...         dukungan\n",
       "1146                                                NaN              NaN\n",
       "1188  anies baswedan hanya bisa bicara omong kosong ...          hujatan\n",
       "...                                                 ...              ...\n",
       "534    resmi nasdem deklarasi bpk anies baswedan seb...         dukungan\n",
       "167                                               bgst           hujatan\n",
       "943                                                 NaN              NaN\n",
       "187    dikit kriminalisasi yang anies lah yg ulama l...  tidak mendukung\n",
       "1532                                                NaN              NaN\n",
       "\n",
       "[1739 rows x 2 columns]"
      ]
     },
     "execution_count": 36,
     "metadata": {},
     "output_type": "execute_result"
    }
   ],
   "source": [
    "# read dataset\n",
    "\n",
    "dt = pd.read_csv('data_train.csv')\n",
    "dt = dt.sample(frac=1)\n",
    "\n",
    "dt"
   ]
  },
  {
   "cell_type": "code",
   "execution_count": 37,
   "metadata": {},
   "outputs": [
    {
     "data": {
      "text/html": [
       "<div>\n",
       "<style scoped>\n",
       "    .dataframe tbody tr th:only-of-type {\n",
       "        vertical-align: middle;\n",
       "    }\n",
       "\n",
       "    .dataframe tbody tr th {\n",
       "        vertical-align: top;\n",
       "    }\n",
       "\n",
       "    .dataframe thead th {\n",
       "        text-align: right;\n",
       "    }\n",
       "</style>\n",
       "<table border=\"1\" class=\"dataframe\">\n",
       "  <thead>\n",
       "    <tr style=\"text-align: right;\">\n",
       "      <th></th>\n",
       "      <th>tweet</th>\n",
       "      <th>label</th>\n",
       "    </tr>\n",
       "  </thead>\n",
       "  <tbody>\n",
       "    <tr>\n",
       "      <th>1455</th>\n",
       "      <td>erwin aksa ungkap pamannya jusuf kalla tak per...</td>\n",
       "      <td>dukungan</td>\n",
       "    </tr>\n",
       "    <tr>\n",
       "      <th>1567</th>\n",
       "      <td>musniumar bohong mus malah di surve amblek das...</td>\n",
       "      <td>hujatan</td>\n",
       "    </tr>\n",
       "    <tr>\n",
       "      <th>1118</th>\n",
       "      <td>ketika anies baswedan buka suara usai diusung ...</td>\n",
       "      <td>dukungan</td>\n",
       "    </tr>\n",
       "    <tr>\n",
       "      <th>1188</th>\n",
       "      <td>anies baswedan hanya bisa bicara omong kosong ...</td>\n",
       "      <td>hujatan</td>\n",
       "    </tr>\n",
       "    <tr>\n",
       "      <th>1475</th>\n",
       "      <td>valosenadya miduk ganjarpranowo bagi buzzerban...</td>\n",
       "      <td>netral</td>\n",
       "    </tr>\n",
       "    <tr>\n",
       "      <th>...</th>\n",
       "      <td>...</td>\n",
       "      <td>...</td>\n",
       "    </tr>\n",
       "    <tr>\n",
       "      <th>198</th>\n",
       "      <td>waduh postingan buat tanggal 16 oktober 2022 u...</td>\n",
       "      <td>hujatan</td>\n",
       "    </tr>\n",
       "    <tr>\n",
       "      <th>308</th>\n",
       "      <td>60 kursi sahli aman sudah kaka hwakakakakakak</td>\n",
       "      <td>hujatan</td>\n",
       "    </tr>\n",
       "    <tr>\n",
       "      <th>534</th>\n",
       "      <td>resmi nasdem deklarasi bpk anies baswedan seb...</td>\n",
       "      <td>dukungan</td>\n",
       "    </tr>\n",
       "    <tr>\n",
       "      <th>167</th>\n",
       "      <td>bgst</td>\n",
       "      <td>hujatan</td>\n",
       "    </tr>\n",
       "    <tr>\n",
       "      <th>187</th>\n",
       "      <td>dikit kriminalisasi yang anies lah yg ulama l...</td>\n",
       "      <td>tidak mendukung</td>\n",
       "    </tr>\n",
       "  </tbody>\n",
       "</table>\n",
       "<p>1236 rows × 2 columns</p>\n",
       "</div>"
      ],
      "text/plain": [
       "                                                  tweet            label\n",
       "1455  erwin aksa ungkap pamannya jusuf kalla tak per...         dukungan\n",
       "1567  musniumar bohong mus malah di surve amblek das...          hujatan\n",
       "1118  ketika anies baswedan buka suara usai diusung ...         dukungan\n",
       "1188  anies baswedan hanya bisa bicara omong kosong ...          hujatan\n",
       "1475  valosenadya miduk ganjarpranowo bagi buzzerban...           netral\n",
       "...                                                 ...              ...\n",
       "198   waduh postingan buat tanggal 16 oktober 2022 u...          hujatan\n",
       "308      60 kursi sahli aman sudah kaka hwakakakakakak           hujatan\n",
       "534    resmi nasdem deklarasi bpk anies baswedan seb...         dukungan\n",
       "167                                               bgst           hujatan\n",
       "187    dikit kriminalisasi yang anies lah yg ulama l...  tidak mendukung\n",
       "\n",
       "[1236 rows x 2 columns]"
      ]
     },
     "execution_count": 37,
     "metadata": {},
     "output_type": "execute_result"
    }
   ],
   "source": [
    "# delete NaN data\n",
    "dt.dropna(inplace=True)\n",
    "\n",
    "dt"
   ]
  },
  {
   "cell_type": "code",
   "execution_count": 38,
   "metadata": {},
   "outputs": [],
   "source": [
    "# update label\n",
    "\n",
    "dt['label'] = dt['label'].replace({'pujian':'dukungan', 'hujatan':'tidak mendukung'})"
   ]
  },
  {
   "cell_type": "code",
   "execution_count": null,
   "metadata": {},
   "outputs": [],
   "source": []
  },
  {
   "cell_type": "markdown",
   "metadata": {},
   "source": [
    "## Data Preparation"
   ]
  },
  {
   "cell_type": "code",
   "execution_count": 40,
   "metadata": {},
   "outputs": [
    {
     "data": {
      "text/plain": [
       "dukungan           569\n",
       "tidak mendukung    486\n",
       "netral             181\n",
       "Name: label, dtype: int64"
      ]
     },
     "execution_count": 40,
     "metadata": {},
     "output_type": "execute_result"
    },
    {
     "data": {
      "image/png": "[encoded data removed]",
      "text/plain": [
       "<Figure size 432x288 with 1 Axes>"
      ]
     },
     "metadata": {},
     "output_type": "display_data"
    }
   ],
   "source": [
    "# visualize data\n",
    "\n",
    "dt['label'].value_counts().sort_index().plot.bar()\n",
    "plt.savefig('hasildataset.jpeg', dpi=300, bbox_inches='tight')\n",
    "dt['label'].value_counts()"
   ]
  },
  {
   "cell_type": "markdown",
   "metadata": {},
   "source": [
    "# Oversampling"
   ]
  },
  {
   "cell_type": "code",
   "execution_count": 6,
   "metadata": {},
   "outputs": [],
   "source": [
    "minority_class = 'netral'\n",
    "num_samples_to_oversample = dt['label'].value_counts()['dukungan'] - dt['label'].value_counts()[minority_class]"
   ]
  },
  {
   "cell_type": "code",
   "execution_count": 7,
   "metadata": {},
   "outputs": [],
   "source": [
    "minority_df = dt[dt['label'] == minority_class]"
   ]
  },
  {
   "cell_type": "code",
   "execution_count": 8,
   "metadata": {},
   "outputs": [],
   "source": [
    "oversampled_df = minority_df.sample(num_samples_to_oversample, replace=True)\n"
   ]
  },
  {
   "cell_type": "code",
   "execution_count": 9,
   "metadata": {},
   "outputs": [],
   "source": [
    "dt = pd.concat([dt, oversampled_df])"
   ]
  },
  {
   "cell_type": "code",
   "execution_count": 10,
   "metadata": {},
   "outputs": [],
   "source": [
    "minority_class = 'tidak mendukung'\n",
    "num_samples_to_oversample = dt['label'].value_counts()['dukungan'] - dt['label'].value_counts()[minority_class]"
   ]
  },
  {
   "cell_type": "code",
   "execution_count": 11,
   "metadata": {},
   "outputs": [],
   "source": [
    "minority_df = dt[dt['label'] == minority_class]"
   ]
  },
  {
   "cell_type": "code",
   "execution_count": 12,
   "metadata": {},
   "outputs": [],
   "source": [
    "oversampled_df = minority_df.sample(num_samples_to_oversample, replace=True)"
   ]
  },
  {
   "cell_type": "code",
   "execution_count": 13,
   "metadata": {},
   "outputs": [],
   "source": [
    "dt = pd.concat([dt, oversampled_df])"
   ]
  },
  {
   "cell_type": "code",
   "execution_count": 35,
   "metadata": {},
   "outputs": [
    {
     "data": {
      "text/plain": [
       "dukungan           569\n",
       "netral             569\n",
       "tidak mendukung    569\n",
       "Name: label, dtype: int64"
      ]
     },
     "execution_count": 35,
     "metadata": {},
     "output_type": "execute_result"
    },
    {
     "data": {
      "image/png": "[encoded data removed]",
      "text/plain": [
       "<Figure size 432x288 with 1 Axes>"
      ]
     },
     "metadata": {},
     "output_type": "display_data"
    }
   ],
   "source": [
    "dt['label'].value_counts().sort_index().plot.bar()\n",
    "plt.savefig('hasiloversampling.jpeg', dpi=300, bbox_inches='tight')\n",
    "dt['label'].value_counts()"
   ]
  },
  {
   "cell_type": "code",
   "execution_count": 15,
   "metadata": {},
   "outputs": [
    {
     "name": "stdout",
     "output_type": "stream",
     "text": [
      "[[   0    0    0 ... 2396   40   95]\n",
      " [   0    0    0 ...  184 1297 2399]\n",
      " [   0    0    0 ...  133  999    3]\n",
      " ...\n",
      " [   0    0    0 ... 1530 1531  131]\n",
      " [   0    0    0 ... 1200  442  352]\n",
      " [   0    0    0 ...   43   71  957]]\n"
     ]
    }
   ],
   "source": [
    "# tokenizer text\n",
    "\n",
    "tokenizer = Tokenizer(num_words=5000, split=\" \")\n",
    "\n",
    "tokenizer.fit_on_texts(dt['tweet'].values)\n",
    "X = tokenizer.texts_to_sequences(dt['tweet'].values)\n",
    "X = pad_sequences(X)\n",
    "print(X)"
   ]
  },
  {
   "cell_type": "code",
   "execution_count": 16,
   "metadata": {},
   "outputs": [
    {
     "data": {
      "text/plain": [
       "array([[1, 0, 0],\n",
       "       [1, 0, 0],\n",
       "       [1, 0, 0],\n",
       "       ...,\n",
       "       [0, 0, 1],\n",
       "       [0, 0, 1],\n",
       "       [0, 0, 1]], dtype=uint8)"
      ]
     },
     "execution_count": 16,
     "metadata": {},
     "output_type": "execute_result"
    }
   ],
   "source": [
    "# get label\n",
    "\n",
    "y = pd.get_dummies(dt['label']).values\n",
    "y"
   ]
  },
  {
   "cell_type": "code",
   "execution_count": 17,
   "metadata": {},
   "outputs": [
    {
     "name": "stdout",
     "output_type": "stream",
     "text": [
      "(1707, 3)\n"
     ]
    }
   ],
   "source": [
    "print(y.shape)"
   ]
  },
  {
   "cell_type": "code",
   "execution_count": null,
   "metadata": {},
   "outputs": [],
   "source": []
  },
  {
   "cell_type": "code",
   "execution_count": 18,
   "metadata": {},
   "outputs": [
    {
     "name": "stdout",
     "output_type": "stream",
     "text": [
      "(1365, 51)\n",
      "(342, 51)\n"
     ]
    }
   ],
   "source": [
    "# split dataset smote tanpa menggunakan tokenizing\n",
    "\n",
    "X_train, X_test, y_train, y_test = train_test_split(X, y, test_size=0.2, random_state=0)\n",
    "\n",
    "print(X_train.shape)\n",
    "print(X_test.shape)"
   ]
  },
  {
   "cell_type": "markdown",
   "metadata": {},
   "source": [
    "## Training Model"
   ]
  },
  {
   "cell_type": "code",
   "execution_count": 19,
   "metadata": {},
   "outputs": [
    {
     "name": "stderr",
     "output_type": "stream",
     "text": [
      "2023-03-01 10:01:56.515543: W tensorflow/compiler/xla/stream_executor/platform/default/dso_loader.cc:64] Could not load dynamic library 'libcudart.so.11.0'; dlerror: libcudart.so.11.0: cannot open shared object file: No such file or directory\n",
      "2023-03-01 10:01:56.515637: W tensorflow/compiler/xla/stream_executor/platform/default/dso_loader.cc:64] Could not load dynamic library 'libcublas.so.11'; dlerror: libcublas.so.11: cannot open shared object file: No such file or directory\n",
      "2023-03-01 10:01:56.515710: W tensorflow/compiler/xla/stream_executor/platform/default/dso_loader.cc:64] Could not load dynamic library 'libcublasLt.so.11'; dlerror: libcublasLt.so.11: cannot open shared object file: No such file or directory\n",
      "2023-03-01 10:01:56.515783: W tensorflow/compiler/xla/stream_executor/platform/default/dso_loader.cc:64] Could not load dynamic library 'libcufft.so.10'; dlerror: libcufft.so.10: cannot open shared object file: No such file or directory\n",
      "2023-03-01 10:01:56.515860: W tensorflow/compiler/xla/stream_executor/platform/default/dso_loader.cc:64] Could not load dynamic library 'libcurand.so.10'; dlerror: libcurand.so.10: cannot open shared object file: No such file or directory\n",
      "2023-03-01 10:01:56.515930: W tensorflow/compiler/xla/stream_executor/platform/default/dso_loader.cc:64] Could not load dynamic library 'libcusolver.so.11'; dlerror: libcusolver.so.11: cannot open shared object file: No such file or directory\n",
      "2023-03-01 10:01:56.515999: W tensorflow/compiler/xla/stream_executor/platform/default/dso_loader.cc:64] Could not load dynamic library 'libcusparse.so.11'; dlerror: libcusparse.so.11: cannot open shared object file: No such file or directory\n",
      "2023-03-01 10:01:56.516070: W tensorflow/compiler/xla/stream_executor/platform/default/dso_loader.cc:64] Could not load dynamic library 'libcudnn.so.8'; dlerror: libcudnn.so.8: cannot open shared object file: No such file or directory\n",
      "2023-03-01 10:01:56.516085: W tensorflow/core/common_runtime/gpu/gpu_device.cc:1934] Cannot dlopen some GPU libraries. Please make sure the missing libraries mentioned above are installed properly if you would like to use GPU. Follow the guide at https://www.tensorflow.org/install/gpu for how to download and setup the required libraries for your platform.\n",
      "Skipping registering GPU devices...\n",
      "2023-03-01 10:01:56.516392: I tensorflow/core/platform/cpu_feature_guard.cc:193] This TensorFlow binary is optimized with oneAPI Deep Neural Network Library (oneDNN) to use the following CPU instructions in performance-critical operations:  AVX2 FMA\n",
      "To enable them in other operations, rebuild TensorFlow with the appropriate compiler flags.\n"
     ]
    },
    {
     "name": "stdout",
     "output_type": "stream",
     "text": [
      "Model: \"sequential\"\n",
      "_________________________________________________________________\n",
      " Layer (type)                Output Shape              Param #   \n",
      "=================================================================\n",
      " embedding (Embedding)       (None, None, 256)         1280000   \n",
      "                                                                 \n",
      " dropout (Dropout)           (None, None, 256)         0         \n",
      "                                                                 \n",
      " lstm (LSTM)                 (None, None, 256)         525312    \n",
      "                                                                 \n",
      " lstm_1 (LSTM)               (None, 256)               525312    \n",
      "                                                                 \n",
      " dense (Dense)               (None, 3)                 771       \n",
      "                                                                 \n",
      "=================================================================\n",
      "Total params: 2,331,395\n",
      "Trainable params: 2,331,395\n",
      "Non-trainable params: 0\n",
      "_________________________________________________________________\n"
     ]
    }
   ],
   "source": [
    "# LSTM Modelling\n",
    "\n",
    "model = Sequential()\n",
    "model.add(Embedding(5000, 256))\n",
    "model.add(Dropout(0.3))\n",
    "model.add(LSTM(256, return_sequences=True, dropout=0.3, recurrent_dropout=0.2))\n",
    "model.add(LSTM(256, dropout=0.3, recurrent_dropout=0.2))\n",
    "model.add(Dense(3, activation='softmax'))\n",
    "model.compile(loss='categorical_crossentropy', optimizer='adam', metrics=['accuracy'])\n",
    "model.summary()"
   ]
  },
  {
   "cell_type": "code",
   "execution_count": null,
   "metadata": {},
   "outputs": [],
   "source": []
  },
  {
   "cell_type": "code",
   "execution_count": 20,
   "metadata": {},
   "outputs": [],
   "source": [
    "import seaborn as sns\n",
    "import matplotlib.pyplot as plt"
   ]
  },
  {
   "cell_type": "code",
   "execution_count": 21,
   "metadata": {},
   "outputs": [
    {
     "name": "stdout",
     "output_type": "stream",
     "text": [
      "Epoch 1/25\n",
      "43/43 - 22s - loss: 1.0496 - accuracy: 0.4337 - val_loss: 0.9388 - val_accuracy: 0.5994 - 22s/epoch - 504ms/step\n",
      "Epoch 2/25\n",
      "43/43 - 17s - loss: 0.7097 - accuracy: 0.7070 - val_loss: 0.6101 - val_accuracy: 0.7544 - 17s/epoch - 384ms/step\n",
      "Epoch 3/25\n",
      "43/43 - 17s - loss: 0.2823 - accuracy: 0.8938 - val_loss: 0.5406 - val_accuracy: 0.7953 - 17s/epoch - 397ms/step\n",
      "Epoch 4/25\n",
      "43/43 - 20s - loss: 0.1157 - accuracy: 0.9604 - val_loss: 0.5907 - val_accuracy: 0.8187 - 20s/epoch - 459ms/step\n",
      "Epoch 5/25\n",
      "43/43 - 20s - loss: 0.0496 - accuracy: 0.9810 - val_loss: 0.6011 - val_accuracy: 0.7924 - 20s/epoch - 470ms/step\n",
      "Epoch 6/25\n",
      "43/43 - 18s - loss: 0.0542 - accuracy: 0.9853 - val_loss: 0.6909 - val_accuracy: 0.8333 - 18s/epoch - 430ms/step\n",
      "Epoch 7/25\n",
      "43/43 - 18s - loss: 0.0299 - accuracy: 0.9897 - val_loss: 0.8050 - val_accuracy: 0.8363 - 18s/epoch - 425ms/step\n",
      "Epoch 8/25\n",
      "43/43 - 26s - loss: 0.0360 - accuracy: 0.9897 - val_loss: 0.7460 - val_accuracy: 0.8246 - 26s/epoch - 594ms/step\n",
      "Epoch 9/25\n",
      "43/43 - 32s - loss: 0.0063 - accuracy: 0.9985 - val_loss: 0.7543 - val_accuracy: 0.8099 - 32s/epoch - 754ms/step\n",
      "Epoch 10/25\n",
      "43/43 - 33s - loss: 0.0041 - accuracy: 0.9985 - val_loss: 0.7331 - val_accuracy: 0.8421 - 33s/epoch - 758ms/step\n",
      "Epoch 11/25\n",
      "43/43 - 32s - loss: 0.0059 - accuracy: 0.9985 - val_loss: 0.7221 - val_accuracy: 0.8392 - 32s/epoch - 745ms/step\n",
      "Epoch 12/25\n",
      "43/43 - 32s - loss: 0.0055 - accuracy: 0.9963 - val_loss: 0.7431 - val_accuracy: 0.8275 - 32s/epoch - 743ms/step\n",
      "Epoch 13/25\n",
      "43/43 - 33s - loss: 0.0015 - accuracy: 1.0000 - val_loss: 0.7705 - val_accuracy: 0.8304 - 33s/epoch - 764ms/step\n",
      "Epoch 14/25\n",
      "43/43 - 35s - loss: 0.0012 - accuracy: 1.0000 - val_loss: 0.7851 - val_accuracy: 0.8246 - 35s/epoch - 805ms/step\n",
      "Epoch 15/25\n",
      "43/43 - 34s - loss: 7.9942e-04 - accuracy: 1.0000 - val_loss: 0.9383 - val_accuracy: 0.8099 - 34s/epoch - 800ms/step\n",
      "Epoch 16/25\n",
      "43/43 - 33s - loss: 7.8225e-04 - accuracy: 1.0000 - val_loss: 0.7959 - val_accuracy: 0.8216 - 33s/epoch - 773ms/step\n",
      "Epoch 17/25\n",
      "43/43 - 33s - loss: 2.3378e-04 - accuracy: 1.0000 - val_loss: 0.8232 - val_accuracy: 0.8304 - 33s/epoch - 760ms/step\n",
      "Epoch 18/25\n",
      "43/43 - 28s - loss: 1.7544e-04 - accuracy: 1.0000 - val_loss: 0.8474 - val_accuracy: 0.8275 - 28s/epoch - 646ms/step\n",
      "Epoch 19/25\n",
      "43/43 - 17s - loss: 9.1418e-05 - accuracy: 1.0000 - val_loss: 0.8702 - val_accuracy: 0.8246 - 17s/epoch - 391ms/step\n",
      "Epoch 20/25\n",
      "43/43 - 17s - loss: 1.4560e-04 - accuracy: 1.0000 - val_loss: 0.8854 - val_accuracy: 0.8216 - 17s/epoch - 387ms/step\n",
      "Epoch 21/25\n",
      "43/43 - 19s - loss: 1.7021e-04 - accuracy: 1.0000 - val_loss: 0.9039 - val_accuracy: 0.8216 - 19s/epoch - 437ms/step\n",
      "Epoch 22/25\n",
      "43/43 - 17s - loss: 2.3292e-04 - accuracy: 1.0000 - val_loss: 0.9102 - val_accuracy: 0.8187 - 17s/epoch - 398ms/step\n",
      "Epoch 23/25\n",
      "43/43 - 17s - loss: 1.4051e-04 - accuracy: 1.0000 - val_loss: 0.9116 - val_accuracy: 0.8187 - 17s/epoch - 389ms/step\n",
      "Epoch 24/25\n",
      "43/43 - 17s - loss: 1.4415e-04 - accuracy: 1.0000 - val_loss: 0.9258 - val_accuracy: 0.8216 - 17s/epoch - 390ms/step\n",
      "Epoch 25/25\n",
      "43/43 - 17s - loss: 9.3871e-05 - accuracy: 1.0000 - val_loss: 0.9387 - val_accuracy: 0.8246 - 17s/epoch - 387ms/step\n"
     ]
    }
   ],
   "source": [
    "batch_size = 32\n",
    "epochs = 25\n",
    "\n",
    "history = model.fit(X_train, y_train, epochs=epochs, batch_size=batch_size, verbose=2, validation_data=(X_test, y_test))"
   ]
  },
  {
   "cell_type": "code",
   "execution_count": null,
   "metadata": {},
   "outputs": [],
   "source": [
    "# save model into file .h5\n",
    "\n",
    "model.save('sentiment_analysis.h5')"
   ]
  },
  {
   "cell_type": "code",
   "execution_count": 22,
   "metadata": {},
   "outputs": [],
   "source": [
    "# Mengambil data dari history pelatihan model\n",
    "train_loss = history.history['loss']\n",
    "val_loss = history.history['val_loss']\n",
    "train_acc = history.history['accuracy']\n",
    "val_acc = history.history['val_accuracy']"
   ]
  },
  {
   "cell_type": "code",
   "execution_count": 23,
   "metadata": {},
   "outputs": [
    {
     "data": {
      "text/plain": [
       "<Figure size 864x360 with 0 Axes>"
      ]
     },
     "metadata": {},
     "output_type": "display_data"
    }
   ],
   "source": [
    "# Membuat plot\n",
    "plt.figure(figsize=(12,5))\n",
    "sns.set_style(\"whitegrid\")"
   ]
  },
  {
   "cell_type": "code",
   "execution_count": 32,
   "metadata": {},
   "outputs": [
    {
     "data": {
      "image/png": "[encoded data removed]",
      "text/plain": [
       "<Figure size 432x288 with 1 Axes>"
      ]
     },
     "metadata": {},
     "output_type": "display_data"
    }
   ],
   "source": [
    "plt.subplot(1,2,1)\n",
    "sns.lineplot(x=range(1,epochs+1), y=train_loss, label='Training Loss')\n",
    "sns.lineplot(x=range(1,epochs+1), y=val_loss, label='Validation Loss')\n",
    "plt.title('Loss')\n",
    "plt.xlabel('Epochs')\n",
    "plt.ylabel('Loss')\n",
    "plt.legend()\n",
    "plt.savefig('hasilplot1.jpeg', dpi=300, bbox_inches='tight')"
   ]
  },
  {
   "cell_type": "code",
   "execution_count": 33,
   "metadata": {},
   "outputs": [
    {
     "data": {
      "image/png": "[encoded data removed]",
      "text/plain": [
       "<Figure size 432x288 with 1 Axes>"
      ]
     },
     "metadata": {},
     "output_type": "display_data"
    }
   ],
   "source": [
    "plt.subplot(1,2,2)\n",
    "sns.lineplot(x=range(1,epochs+1), y=train_acc, label='Training Accuracy')\n",
    "sns.lineplot(x=range(1,epochs+1), y=val_acc, label='Validation Accuracy')\n",
    "plt.title('Accuracy')\n",
    "plt.xlabel('Epochs')\n",
    "plt.ylabel('Accuracy')\n",
    "plt.legend()\n",
    "plt.savefig('hasilplot2.jpeg', dpi=300, bbox_inches='tight')\n",
    "plt.show()"
   ]
  },
  {
   "cell_type": "code",
   "execution_count": 26,
   "metadata": {},
   "outputs": [
    {
     "name": "stdout",
     "output_type": "stream",
     "text": [
      "11/11 [==============================] - 1s 71ms/step\n",
      "              precision    recall  f1-score   support\n",
      "\n",
      "           0       0.87      0.73      0.79       129\n",
      "           1       0.80      0.99      0.89       108\n",
      "           2       0.80      0.77      0.79       105\n",
      "\n",
      "    accuracy                           0.82       342\n",
      "   macro avg       0.83      0.83      0.82       342\n",
      "weighted avg       0.83      0.82      0.82       342\n",
      "\n"
     ]
    }
   ],
   "source": [
    "from sklearn.metrics import classification_report\n",
    "\n",
    "y_pred = model.predict(X_test)\n",
    "y_pred = np.argmax(y_pred, axis=1)\n",
    "y_true = np.argmax(y_test, axis=1)\n",
    "print(classification_report(y_true, y_pred))"
   ]
  },
  {
   "cell_type": "code",
   "execution_count": 27,
   "metadata": {},
   "outputs": [
    {
     "name": "stdout",
     "output_type": "stream",
     "text": [
      "[[ 94  16  19]\n",
      " [  0 107   1]\n",
      " [ 14  10  81]]\n"
     ]
    }
   ],
   "source": [
    "from sklearn.metrics import confusion_matrix\n",
    "\n",
    "conf_mat = confusion_matrix(y_true, y_pred)\n",
    "print(conf_mat)"
   ]
  },
  {
   "cell_type": "code",
   "execution_count": 28,
   "metadata": {},
   "outputs": [
    {
     "data": {
      "image/png": "[encoded data removed]",
      "text/plain": [
       "<Figure size 432x288 with 2 Axes>"
      ]
     },
     "metadata": {},
     "output_type": "display_data"
    }
   ],
   "source": [
    "sns.heatmap(conf_mat, annot=True, cmap='Blues', fmt='d')\n",
    "plt.title('Confusion Matrix')\n",
    "plt.xlabel('Predicted Label')\n",
    "plt.ylabel('True Label')\n",
    "plt.show()"
   ]
  },
  {
   "cell_type": "code",
   "execution_count": 41,
   "metadata": {},
   "outputs": [
    {
     "data": {
      "image/png": "[encoded data removed]",
      "text/plain": [
       "<Figure size 432x288 with 2 Axes>"
      ]
     },
     "metadata": {},
     "output_type": "display_data"
    }
   ],
   "source": [
    "sns.heatmap(conf_mat, annot=True, cmap='Blues', fmt='d')\n",
    "plt.title('Confusion Matrix')\n",
    "plt.xlabel('Predicted Label')\n",
    "plt.ylabel('True Label')\n",
    "plt.savefig('hasil.jpeg', dpi=300, bbox_inches='tight')"
   ]
  },
  {
   "cell_type": "markdown",
   "metadata": {},
   "source": [
    "## Evaluate Model"
   ]
  },
  {
   "cell_type": "code",
   "execution_count": 29,
   "metadata": {},
   "outputs": [
    {
     "name": "stdout",
     "output_type": "stream",
     "text": [
      "11/11 - 1s - loss: 0.9387 - accuracy: 0.8246 - 737ms/epoch - 67ms/step\n",
      "score: 0.94\n",
      "acc: 0.82\n"
     ]
    }
   ],
   "source": [
    "# evaluate model with data test\n",
    "\n",
    "score, acc = model.evaluate(X_test, y_test, verbose = 2, batch_size = batch_size)\n",
    "\n",
    "print(\"score: %.2f\" % (score))\n",
    "print(\"acc: %.2f\" % (acc))"
   ]
  },
  {
   "cell_type": "code",
   "execution_count": null,
   "metadata": {},
   "outputs": [],
   "source": []
  },
  {
   "cell_type": "markdown",
   "metadata": {},
   "source": [
    "## Predict New Dataset"
   ]
  },
  {
   "cell_type": "code",
   "execution_count": 58,
   "metadata": {},
   "outputs": [
    {
     "data": {
      "text/html": [
       "<div>\n",
       "<style scoped>\n",
       "    .dataframe tbody tr th:only-of-type {\n",
       "        vertical-align: middle;\n",
       "    }\n",
       "\n",
       "    .dataframe tbody tr th {\n",
       "        vertical-align: top;\n",
       "    }\n",
       "\n",
       "    .dataframe thead th {\n",
       "        text-align: right;\n",
       "    }\n",
       "</style>\n",
       "<table border=\"1\" class=\"dataframe\">\n",
       "  <thead>\n",
       "    <tr style=\"text-align: right;\">\n",
       "      <th></th>\n",
       "      <th>tweet</th>\n",
       "    </tr>\n",
       "  </thead>\n",
       "  <tbody>\n",
       "    <tr>\n",
       "      <th>0</th>\n",
       "      <td>@M45Broo_ Cebong benar2 panik luar biasa, ini ...</td>\n",
       "    </tr>\n",
       "    <tr>\n",
       "      <th>1</th>\n",
       "      <td>@Relawananies https://t.co/uf5sE0iGLI</td>\n",
       "    </tr>\n",
       "    <tr>\n",
       "      <th>2</th>\n",
       "      <td>RT @BosPurwa: #IndonesiaMemanggil \\n5 Tahun An...</td>\n",
       "    </tr>\n",
       "    <tr>\n",
       "      <th>3</th>\n",
       "      <td>RT @aLy_Bima: Video ini hanya untuk orang yang...</td>\n",
       "    </tr>\n",
       "    <tr>\n",
       "      <th>4</th>\n",
       "      <td>RT @tempodotco: \"Tidak ringan permasalahan di ...</td>\n",
       "    </tr>\n",
       "    <tr>\n",
       "      <th>...</th>\n",
       "      <td>...</td>\n",
       "    </tr>\n",
       "    <tr>\n",
       "      <th>445</th>\n",
       "      <td>RT @Relawananies: Momen haru saat Anies Baswed...</td>\n",
       "    </tr>\n",
       "    <tr>\n",
       "      <th>446</th>\n",
       "      <td>@maspiyuaja Terima kasih om https://t.co/PUgr2...</td>\n",
       "    </tr>\n",
       "    <tr>\n",
       "      <th>447</th>\n",
       "      <td>RT @BosPurwa: #IndonesiaMemanggil \\n5 Tahun An...</td>\n",
       "    </tr>\n",
       "    <tr>\n",
       "      <th>448</th>\n",
       "      <td>RT @OposisiCerdas: Kamhar Lakumani Sebut Anies...</td>\n",
       "    </tr>\n",
       "    <tr>\n",
       "      <th>449</th>\n",
       "      <td>@GunRomli Bosmu ����� gak ngapa ngapain https:...</td>\n",
       "    </tr>\n",
       "  </tbody>\n",
       "</table>\n",
       "<p>450 rows × 1 columns</p>\n",
       "</div>"
      ],
      "text/plain": [
       "                                                 tweet\n",
       "0    @M45Broo_ Cebong benar2 panik luar biasa, ini ...\n",
       "1                @Relawananies https://t.co/uf5sE0iGLI\n",
       "2    RT @BosPurwa: #IndonesiaMemanggil \\n5 Tahun An...\n",
       "3    RT @aLy_Bima: Video ini hanya untuk orang yang...\n",
       "4    RT @tempodotco: \"Tidak ringan permasalahan di ...\n",
       "..                                                 ...\n",
       "445  RT @Relawananies: Momen haru saat Anies Baswed...\n",
       "446  @maspiyuaja Terima kasih om https://t.co/PUgr2...\n",
       "447  RT @BosPurwa: #IndonesiaMemanggil \\n5 Tahun An...\n",
       "448  RT @OposisiCerdas: Kamhar Lakumani Sebut Anies...\n",
       "449  @GunRomli Bosmu ����� gak ngapa ngapain https:...\n",
       "\n",
       "[450 rows x 1 columns]"
      ]
     },
     "execution_count": 58,
     "metadata": {},
     "output_type": "execute_result"
    }
   ],
   "source": [
    "# read new dataset\n",
    "import re\n",
    "import numpy as np\n",
    "import pandas as pd\n",
    "data = pd.read_csv('tweet2.csv')\n",
    "# menghapus kolom id\n",
    "data = data.drop(['id'], axis=1)\n",
    "\n",
    "data"
   ]
  },
  {
   "cell_type": "code",
   "execution_count": 59,
   "metadata": {},
   "outputs": [
    {
     "data": {
      "text/html": [
       "<div>\n",
       "<style scoped>\n",
       "    .dataframe tbody tr th:only-of-type {\n",
       "        vertical-align: middle;\n",
       "    }\n",
       "\n",
       "    .dataframe tbody tr th {\n",
       "        vertical-align: top;\n",
       "    }\n",
       "\n",
       "    .dataframe thead th {\n",
       "        text-align: right;\n",
       "    }\n",
       "</style>\n",
       "<table border=\"1\" class=\"dataframe\">\n",
       "  <thead>\n",
       "    <tr style=\"text-align: right;\">\n",
       "      <th></th>\n",
       "      <th>tweet</th>\n",
       "    </tr>\n",
       "  </thead>\n",
       "  <tbody>\n",
       "    <tr>\n",
       "      <th>0</th>\n",
       "      <td>wahhhaneksasi itu</td>\n",
       "    </tr>\n",
       "    <tr>\n",
       "      <th>1</th>\n",
       "      <td>indonesiamemanggil 5 tahun anies baswedan memi...</td>\n",
       "    </tr>\n",
       "    <tr>\n",
       "      <th>2</th>\n",
       "      <td>awas kena diare lagi om</td>\n",
       "    </tr>\n",
       "    <tr>\n",
       "      <th>3</th>\n",
       "      <td>anies baswedan duduk bareng elite parpol pks k...</td>\n",
       "    </tr>\n",
       "    <tr>\n",
       "      <th>4</th>\n",
       "      <td>kwekkwek</td>\n",
       "    </tr>\n",
       "    <tr>\n",
       "      <th>...</th>\n",
       "      <td>...</td>\n",
       "    </tr>\n",
       "    <tr>\n",
       "      <th>430</th>\n",
       "      <td>kwekkwek</td>\n",
       "    </tr>\n",
       "    <tr>\n",
       "      <th>431</th>\n",
       "      <td>bapak christoforus rea tokoh ummat katolik nam...</td>\n",
       "    </tr>\n",
       "    <tr>\n",
       "      <th>432</th>\n",
       "      <td>sejak kemarin anies baswedan bukan lagi gubern...</td>\n",
       "    </tr>\n",
       "    <tr>\n",
       "      <th>433</th>\n",
       "      <td>video ini hanya untuk orang yang belum tahu pr...</td>\n",
       "    </tr>\n",
       "    <tr>\n",
       "      <th>434</th>\n",
       "      <td>surya paloh optimistis nasdem dengan anies bas...</td>\n",
       "    </tr>\n",
       "  </tbody>\n",
       "</table>\n",
       "<p>435 rows × 1 columns</p>\n",
       "</div>"
      ],
      "text/plain": [
       "                                                 tweet\n",
       "0                                   wahhhaneksasi itu \n",
       "1    indonesiamemanggil 5 tahun anies baswedan memi...\n",
       "2                              awas kena diare lagi om\n",
       "3    anies baswedan duduk bareng elite parpol pks k...\n",
       "4                                            kwekkwek \n",
       "..                                                 ...\n",
       "430                                          kwekkwek \n",
       "431  bapak christoforus rea tokoh ummat katolik nam...\n",
       "432  sejak kemarin anies baswedan bukan lagi gubern...\n",
       "433  video ini hanya untuk orang yang belum tahu pr...\n",
       "434  surya paloh optimistis nasdem dengan anies bas...\n",
       "\n",
       "[435 rows x 1 columns]"
      ]
     },
     "execution_count": 59,
     "metadata": {},
     "output_type": "execute_result"
    }
   ],
   "source": [
    "# data preprocessing\n",
    "\n",
    "def tweetPrepocessing(text):\n",
    "  text = text.lower()\n",
    "  text = re.sub('\\n','', text)\n",
    "  text = re.sub('rt ','', text)\n",
    "  text = re.sub('#','', text)\n",
    "  text = re.sub('@\\w+(?:\\:)\\ ','', text)\n",
    "  text = re.sub(r'(?:\\@|http?\\://|https?\\://|www)\\S+','', text)\n",
    "  text = re.sub('[^a-zA-z0-9\\s]','', text)\n",
    "  text = re.sub('  ',' ', text)\n",
    "\n",
    "  if text == ' ':\n",
    "    return None\n",
    "\n",
    "  return text\n",
    "\n",
    "data = data.sample(frac=1)\n",
    "data['tweet'] = data['tweet'].apply(tweetPrepocessing)\n",
    "data.dropna(inplace=True)\n",
    "data.reset_index(drop=True, inplace = True)\n",
    "\n",
    "data"
   ]
  },
  {
   "cell_type": "code",
   "execution_count": 60,
   "metadata": {},
   "outputs": [
    {
     "name": "stdout",
     "output_type": "stream",
     "text": [
      "[[   0    0    0 ...    0  631   47]\n",
      " [   0    0    0 ...   41   42   43]\n",
      " [   0    0    0 ...  632   79  427]\n",
      " ...\n",
      " [   0    0    0 ...   51    7  265]\n",
      " [   0    0    0 ...   45    1    2]\n",
      " [   0    0    0 ...  150  220 1549]]\n"
     ]
    },
    {
     "data": {
      "text/plain": [
       "(435, 42)"
      ]
     },
     "execution_count": 60,
     "metadata": {},
     "output_type": "execute_result"
    }
   ],
   "source": [
    "from keras.preprocessing.text import Tokenizer\n",
    "from keras.utils import pad_sequences\n",
    "\n",
    "tokenizer = Tokenizer(num_words=5000, split=\" \")\n",
    "\n",
    "tokenizer.fit_on_texts(data['tweet'].values)\n",
    "X = tokenizer.texts_to_sequences(data['tweet'].values)\n",
    "X = pad_sequences(X)\n",
    "print(X)\n",
    "\n",
    "\n",
    "tokenizer.fit_on_texts(data['tweet'].values)\n",
    "\n",
    "X_new = tokenizer.texts_to_sequences(data['tweet'].values)\n",
    "X_new = pad_sequences(X_new)\n",
    "X_new.shape"
   ]
  },
  {
   "cell_type": "code",
   "execution_count": 61,
   "metadata": {},
   "outputs": [],
   "source": [
    "# load model\n",
    "from keras.models import Sequential, load_model\n",
    "mymodel = load_model('sentiment_analysis.h5')"
   ]
  },
  {
   "cell_type": "code",
   "execution_count": 64,
   "metadata": {},
   "outputs": [
    {
     "name": "stdout",
     "output_type": "stream",
     "text": [
      "14/14 [==============================] - 1s 50ms/step\n"
     ]
    }
   ],
   "source": [
    "# predict data\n",
    "\n",
    "pred = mymodel.predict(X_new)\n"
   ]
  },
  {
   "cell_type": "code",
   "execution_count": null,
   "metadata": {},
   "outputs": [],
   "source": []
  },
  {
   "cell_type": "code",
   "execution_count": 53,
   "metadata": {},
   "outputs": [],
   "source": [
    "# labelling\n",
    "\n",
    "def labelling(array):\n",
    "  labels = ['dukungan', 'netral', 'tidak mendukung']\n",
    "  output = []\n",
    "  for a in array:\n",
    "    output.append(labels[np.argmax(a)])\n",
    "  return output\n",
    "\n",
    "label = labelling(pred)"
   ]
  },
  {
   "cell_type": "code",
   "execution_count": null,
   "metadata": {},
   "outputs": [],
   "source": []
  },
  {
   "cell_type": "code",
   "execution_count": 54,
   "metadata": {},
   "outputs": [
    {
     "data": {
      "text/html": [
       "<div>\n",
       "<style scoped>\n",
       "    .dataframe tbody tr th:only-of-type {\n",
       "        vertical-align: middle;\n",
       "    }\n",
       "\n",
       "    .dataframe tbody tr th {\n",
       "        vertical-align: top;\n",
       "    }\n",
       "\n",
       "    .dataframe thead th {\n",
       "        text-align: right;\n",
       "    }\n",
       "</style>\n",
       "<table border=\"1\" class=\"dataframe\">\n",
       "  <thead>\n",
       "    <tr style=\"text-align: right;\">\n",
       "      <th></th>\n",
       "      <th>tweet</th>\n",
       "      <th>label</th>\n",
       "    </tr>\n",
       "  </thead>\n",
       "  <tbody>\n",
       "    <tr>\n",
       "      <th>0</th>\n",
       "      <td>kenduri rakyat jarnas anies baswedan yogyakart...</td>\n",
       "      <td>netral</td>\n",
       "    </tr>\n",
       "    <tr>\n",
       "      <th>1</th>\n",
       "      <td>brengsek anies baswedan gak bisa kerja sekaran...</td>\n",
       "      <td>netral</td>\n",
       "    </tr>\n",
       "    <tr>\n",
       "      <th>2</th>\n",
       "      <td>hanya pandai omdo ajakelebihan bayar dn php</td>\n",
       "      <td>netral</td>\n",
       "    </tr>\n",
       "    <tr>\n",
       "      <th>3</th>\n",
       "      <td>ketum partai gerindra prabowo subianto memilik...</td>\n",
       "      <td>tidak mendukung</td>\n",
       "    </tr>\n",
       "    <tr>\n",
       "      <th>4</th>\n",
       "      <td>indonesiamemanggil 5 tahun anies baswedan memi...</td>\n",
       "      <td>tidak mendukung</td>\n",
       "    </tr>\n",
       "    <tr>\n",
       "      <th>...</th>\n",
       "      <td>...</td>\n",
       "      <td>...</td>\n",
       "    </tr>\n",
       "    <tr>\n",
       "      <th>430</th>\n",
       "      <td>sinyal buat koalisi ak2412 oktoober 2022jender...</td>\n",
       "      <td>netral</td>\n",
       "    </tr>\n",
       "    <tr>\n",
       "      <th>431</th>\n",
       "      <td>janji anies baswedan menjadi jancukkepulauan b...</td>\n",
       "      <td>dukungan</td>\n",
       "    </tr>\n",
       "    <tr>\n",
       "      <th>432</th>\n",
       "      <td>kenapa disaat last lap pencitraan</td>\n",
       "      <td>tidak mendukung</td>\n",
       "    </tr>\n",
       "    <tr>\n",
       "      <th>433</th>\n",
       "      <td>partai koalisi pemerintah 82 suaranya di parle...</td>\n",
       "      <td>dukungan</td>\n",
       "    </tr>\n",
       "    <tr>\n",
       "      <th>434</th>\n",
       "      <td>wow ada babilungeh</td>\n",
       "      <td>tidak mendukung</td>\n",
       "    </tr>\n",
       "  </tbody>\n",
       "</table>\n",
       "<p>435 rows × 2 columns</p>\n",
       "</div>"
      ],
      "text/plain": [
       "                                                 tweet            label\n",
       "0    kenduri rakyat jarnas anies baswedan yogyakart...           netral\n",
       "1    brengsek anies baswedan gak bisa kerja sekaran...           netral\n",
       "2         hanya pandai omdo ajakelebihan bayar dn php            netral\n",
       "3    ketum partai gerindra prabowo subianto memilik...  tidak mendukung\n",
       "4    indonesiamemanggil 5 tahun anies baswedan memi...  tidak mendukung\n",
       "..                                                 ...              ...\n",
       "430  sinyal buat koalisi ak2412 oktoober 2022jender...           netral\n",
       "431  janji anies baswedan menjadi jancukkepulauan b...         dukungan\n",
       "432                 kenapa disaat last lap pencitraan   tidak mendukung\n",
       "433  partai koalisi pemerintah 82 suaranya di parle...         dukungan\n",
       "434                                 wow ada babilungeh  tidak mendukung\n",
       "\n",
       "[435 rows x 2 columns]"
      ]
     },
     "execution_count": 54,
     "metadata": {},
     "output_type": "execute_result"
    }
   ],
   "source": [
    "# add label to data\n",
    "\n",
    "data['label'] = label\n",
    "\n",
    "data"
   ]
  },
  {
   "cell_type": "code",
   "execution_count": 43,
   "metadata": {},
   "outputs": [],
   "source": [
    "# save to new csv\n",
    "\n",
    "data.to_csv('tweet2_new.csv', index=False)"
   ]
  },
  {
   "cell_type": "code",
   "execution_count": null,
   "metadata": {},
   "outputs": [],
   "source": []
  },
  {
   "cell_type": "code",
   "execution_count": null,
   "metadata": {},
   "outputs": [],
   "source": []
  },
  {
   "cell_type": "code",
   "execution_count": null,
   "metadata": {},
   "outputs": [],
   "source": []
  },
  {
   "cell_type": "code",
   "execution_count": null,
   "metadata": {},
   "outputs": [],
   "source": []
  },
  {
   "cell_type": "code",
   "execution_count": null,
   "metadata": {},
   "outputs": [],
   "source": []
  }
 ],
 "metadata": {
  "kernelspec": {
   "display_name": "Python 3 (ipykernel)",
   "language": "python",
   "name": "python3"
  },
  "language_info": {
   "codemirror_mode": {
    "name": "ipython",
    "version": 3
   },
   "file_extension": ".py",
   "mimetype": "text/x-python",
   "name": "python",
   "nbconvert_exporter": "python",
   "pygments_lexer": "ipython3",
   "version": "3.9.7"
  },
  "vscode": {
   "interpreter": {
    "hash": "65e2cb4ba52f491d98b9dab0c6a41d622f0e8e62820fe5497205364b0533bb9e"
   }
  }
 },
 "nbformat": 4,
 "nbformat_minor": 2
}
