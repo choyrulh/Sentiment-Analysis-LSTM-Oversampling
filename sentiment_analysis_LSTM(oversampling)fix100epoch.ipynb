{
 "cells": [
  {
   "cell_type": "code",
   "execution_count": 1,
   "metadata": {},
   "outputs": [
    {
     "name": "stderr",
     "output_type": "stream",
     "text": [
      "2023-02-05 18:41:49.499498: I tensorflow/core/platform/cpu_feature_guard.cc:193] This TensorFlow binary is optimized with oneAPI Deep Neural Network Library (oneDNN) to use the following CPU instructions in performance-critical operations:  AVX2 FMA\n",
      "To enable them in other operations, rebuild TensorFlow with the appropriate compiler flags.\n",
      "2023-02-05 18:41:49.790328: W tensorflow/compiler/xla/stream_executor/platform/default/dso_loader.cc:64] Could not load dynamic library 'libcudart.so.11.0'; dlerror: libcudart.so.11.0: cannot open shared object file: No such file or directory\n",
      "2023-02-05 18:41:49.790400: I tensorflow/compiler/xla/stream_executor/cuda/cudart_stub.cc:29] Ignore above cudart dlerror if you do not have a GPU set up on your machine.\n",
      "2023-02-05 18:41:51.417952: W tensorflow/compiler/xla/stream_executor/platform/default/dso_loader.cc:64] Could not load dynamic library 'libnvinfer.so.7'; dlerror: libnvinfer.so.7: cannot open shared object file: No such file or directory\n",
      "2023-02-05 18:41:51.418175: W tensorflow/compiler/xla/stream_executor/platform/default/dso_loader.cc:64] Could not load dynamic library 'libnvinfer_plugin.so.7'; dlerror: libnvinfer_plugin.so.7: cannot open shared object file: No such file or directory\n",
      "2023-02-05 18:41:51.418196: W tensorflow/compiler/tf2tensorrt/utils/py_utils.cc:38] TF-TRT Warning: Cannot dlopen some TensorRT libraries. If you would like to use Nvidia GPU with TensorRT, please make sure the missing libraries mentioned above are installed properly.\n"
     ]
    }
   ],
   "source": [
    "import re\n",
    "import numpy as np\n",
    "import pandas as pd\n",
    "from sklearn.model_selection import train_test_split\n",
    "import matplotlib.pyplot as plt\n",
    "\n",
    "from keras.models import Sequential, load_model\n",
    "from keras.layers import Dense, LSTM, Embedding, Dropout\n",
    "from keras.preprocessing.text import Tokenizer\n",
    "from keras.utils import pad_sequences"
   ]
  },
  {
   "cell_type": "markdown",
   "metadata": {},
   "source": [
    "## Data Preprocessing"
   ]
  },
  {
   "cell_type": "code",
   "execution_count": 2,
   "metadata": {},
   "outputs": [
    {
     "data": {
      "text/html": [
       "<div>\n",
       "<style scoped>\n",
       "    .dataframe tbody tr th:only-of-type {\n",
       "        vertical-align: middle;\n",
       "    }\n",
       "\n",
       "    .dataframe tbody tr th {\n",
       "        vertical-align: top;\n",
       "    }\n",
       "\n",
       "    .dataframe thead th {\n",
       "        text-align: right;\n",
       "    }\n",
       "</style>\n",
       "<table border=\"1\" class=\"dataframe\">\n",
       "  <thead>\n",
       "    <tr style=\"text-align: right;\">\n",
       "      <th></th>\n",
       "      <th>tweet</th>\n",
       "      <th>label</th>\n",
       "    </tr>\n",
       "  </thead>\n",
       "  <tbody>\n",
       "    <tr>\n",
       "      <th>885</th>\n",
       "      <td>NaN</td>\n",
       "      <td>NaN</td>\n",
       "    </tr>\n",
       "    <tr>\n",
       "      <th>1359</th>\n",
       "      <td>nasdem baper juga wak breok ya</td>\n",
       "      <td>tidak mendukung</td>\n",
       "    </tr>\n",
       "    <tr>\n",
       "      <th>1662</th>\n",
       "      <td>helmifelis goblok mu apdb jakarta itu aja an t...</td>\n",
       "      <td>tidak mendukung</td>\n",
       "    </tr>\n",
       "    <tr>\n",
       "      <th>1501</th>\n",
       "      <td>nasdem  plin plan</td>\n",
       "      <td>hujatan</td>\n",
       "    </tr>\n",
       "    <tr>\n",
       "      <th>353</th>\n",
       "      <td>NaN</td>\n",
       "      <td>NaN</td>\n",
       "    </tr>\n",
       "    <tr>\n",
       "      <th>...</th>\n",
       "      <td>...</td>\n",
       "      <td>...</td>\n",
       "    </tr>\n",
       "    <tr>\n",
       "      <th>749</th>\n",
       "      <td>NaN</td>\n",
       "      <td>NaN</td>\n",
       "    </tr>\n",
       "    <tr>\n",
       "      <th>771</th>\n",
       "      <td>setuju sih kalau menggunakan akal sehat</td>\n",
       "      <td>hujatan</td>\n",
       "    </tr>\n",
       "    <tr>\n",
       "      <th>716</th>\n",
       "      <td>firli bahuri desak kasus formula naik ke peny...</td>\n",
       "      <td>dukungan</td>\n",
       "    </tr>\n",
       "    <tr>\n",
       "      <th>237</th>\n",
       "      <td>NaN</td>\n",
       "      <td>NaN</td>\n",
       "    </tr>\n",
       "    <tr>\n",
       "      <th>886</th>\n",
       "      <td>pilihan surya paloh rasional prestasi kerja a...</td>\n",
       "      <td>dukungan</td>\n",
       "    </tr>\n",
       "  </tbody>\n",
       "</table>\n",
       "<p>1739 rows × 2 columns</p>\n",
       "</div>"
      ],
      "text/plain": [
       "                                                  tweet            label\n",
       "885                                                 NaN              NaN\n",
       "1359                    nasdem baper juga wak breok ya   tidak mendukung\n",
       "1662  helmifelis goblok mu apdb jakarta itu aja an t...  tidak mendukung\n",
       "1501                                  nasdem  plin plan          hujatan\n",
       "353                                                 NaN              NaN\n",
       "...                                                 ...              ...\n",
       "749                                                 NaN              NaN\n",
       "771            setuju sih kalau menggunakan akal sehat           hujatan\n",
       "716    firli bahuri desak kasus formula naik ke peny...         dukungan\n",
       "237                                                 NaN              NaN\n",
       "886    pilihan surya paloh rasional prestasi kerja a...         dukungan\n",
       "\n",
       "[1739 rows x 2 columns]"
      ]
     },
     "execution_count": 2,
     "metadata": {},
     "output_type": "execute_result"
    }
   ],
   "source": [
    "# read dataset\n",
    "\n",
    "dt = pd.read_csv('data_train.csv')\n",
    "dt = dt.sample(frac=1)\n",
    "\n",
    "dt"
   ]
  },
  {
   "cell_type": "code",
   "execution_count": 3,
   "metadata": {},
   "outputs": [
    {
     "data": {
      "text/html": [
       "<div>\n",
       "<style scoped>\n",
       "    .dataframe tbody tr th:only-of-type {\n",
       "        vertical-align: middle;\n",
       "    }\n",
       "\n",
       "    .dataframe tbody tr th {\n",
       "        vertical-align: top;\n",
       "    }\n",
       "\n",
       "    .dataframe thead th {\n",
       "        text-align: right;\n",
       "    }\n",
       "</style>\n",
       "<table border=\"1\" class=\"dataframe\">\n",
       "  <thead>\n",
       "    <tr style=\"text-align: right;\">\n",
       "      <th></th>\n",
       "      <th>tweet</th>\n",
       "      <th>label</th>\n",
       "    </tr>\n",
       "  </thead>\n",
       "  <tbody>\n",
       "    <tr>\n",
       "      <th>1359</th>\n",
       "      <td>nasdem baper juga wak breok ya</td>\n",
       "      <td>tidak mendukung</td>\n",
       "    </tr>\n",
       "    <tr>\n",
       "      <th>1662</th>\n",
       "      <td>helmifelis goblok mu apdb jakarta itu aja an t...</td>\n",
       "      <td>tidak mendukung</td>\n",
       "    </tr>\n",
       "    <tr>\n",
       "      <th>1501</th>\n",
       "      <td>nasdem  plin plan</td>\n",
       "      <td>hujatan</td>\n",
       "    </tr>\n",
       "    <tr>\n",
       "      <th>1443</th>\n",
       "      <td>tatakujiyati fixtech anies baswedan klo gak ju...</td>\n",
       "      <td>hujatan</td>\n",
       "    </tr>\n",
       "    <tr>\n",
       "      <th>979</th>\n",
       "      <td>asmara1701 hhh jgn ngimpi malah partai nasdem...</td>\n",
       "      <td>tidak mendukung</td>\n",
       "    </tr>\n",
       "    <tr>\n",
       "      <th>...</th>\n",
       "      <td>...</td>\n",
       "      <td>...</td>\n",
       "    </tr>\n",
       "    <tr>\n",
       "      <th>423</th>\n",
       "      <td>asmara1701 para jendral2 arsitek rekayasa fs ...</td>\n",
       "      <td>hujatan</td>\n",
       "    </tr>\n",
       "    <tr>\n",
       "      <th>253</th>\n",
       "      <td>nasdem berikan otoritas penuh anies baswedan ...</td>\n",
       "      <td>dukungan</td>\n",
       "    </tr>\n",
       "    <tr>\n",
       "      <th>771</th>\n",
       "      <td>setuju sih kalau menggunakan akal sehat</td>\n",
       "      <td>hujatan</td>\n",
       "    </tr>\n",
       "    <tr>\n",
       "      <th>716</th>\n",
       "      <td>firli bahuri desak kasus formula naik ke peny...</td>\n",
       "      <td>dukungan</td>\n",
       "    </tr>\n",
       "    <tr>\n",
       "      <th>886</th>\n",
       "      <td>pilihan surya paloh rasional prestasi kerja a...</td>\n",
       "      <td>dukungan</td>\n",
       "    </tr>\n",
       "  </tbody>\n",
       "</table>\n",
       "<p>1236 rows × 2 columns</p>\n",
       "</div>"
      ],
      "text/plain": [
       "                                                  tweet            label\n",
       "1359                    nasdem baper juga wak breok ya   tidak mendukung\n",
       "1662  helmifelis goblok mu apdb jakarta itu aja an t...  tidak mendukung\n",
       "1501                                  nasdem  plin plan          hujatan\n",
       "1443  tatakujiyati fixtech anies baswedan klo gak ju...          hujatan\n",
       "979    asmara1701 hhh jgn ngimpi malah partai nasdem...  tidak mendukung\n",
       "...                                                 ...              ...\n",
       "423    asmara1701 para jendral2 arsitek rekayasa fs ...          hujatan\n",
       "253    nasdem berikan otoritas penuh anies baswedan ...         dukungan\n",
       "771            setuju sih kalau menggunakan akal sehat           hujatan\n",
       "716    firli bahuri desak kasus formula naik ke peny...         dukungan\n",
       "886    pilihan surya paloh rasional prestasi kerja a...         dukungan\n",
       "\n",
       "[1236 rows x 2 columns]"
      ]
     },
     "execution_count": 3,
     "metadata": {},
     "output_type": "execute_result"
    }
   ],
   "source": [
    "# delete NaN data\n",
    "dt.dropna(inplace=True)\n",
    "\n",
    "dt"
   ]
  },
  {
   "cell_type": "code",
   "execution_count": 4,
   "metadata": {},
   "outputs": [],
   "source": [
    "# update label\n",
    "\n",
    "dt['label'] = dt['label'].replace({'pujian':'dukungan', 'hujatan':'tidak mendukung'})"
   ]
  },
  {
   "cell_type": "code",
   "execution_count": null,
   "metadata": {},
   "outputs": [],
   "source": []
  },
  {
   "cell_type": "markdown",
   "metadata": {},
   "source": [
    "## Data Preparation"
   ]
  },
  {
   "cell_type": "code",
   "execution_count": 5,
   "metadata": {},
   "outputs": [
    {
     "data": {
      "text/plain": [
       "dukungan           569\n",
       "tidak mendukung    486\n",
       "netral             181\n",
       "Name: label, dtype: int64"
      ]
     },
     "execution_count": 5,
     "metadata": {},
     "output_type": "execute_result"
    },
    {
     "data": {
      "image/png": "[encoded data removed]",
      "text/plain": [
       "<Figure size 432x288 with 1 Axes>"
      ]
     },
     "metadata": {
      "needs_background": "light"
     },
     "output_type": "display_data"
    }
   ],
   "source": [
    "# visualize data\n",
    "\n",
    "dt['label'].value_counts().sort_index().plot.bar()\n",
    "dt['label'].value_counts()"
   ]
  },
  {
   "cell_type": "markdown",
   "metadata": {},
   "source": [
    "# Oversampling"
   ]
  },
  {
   "cell_type": "code",
   "execution_count": 6,
   "metadata": {},
   "outputs": [],
   "source": [
    "minority_class = 'netral'\n",
    "num_samples_to_oversample = dt['label'].value_counts()['dukungan'] - dt['label'].value_counts()[minority_class]"
   ]
  },
  {
   "cell_type": "code",
   "execution_count": 7,
   "metadata": {},
   "outputs": [],
   "source": [
    "minority_df = dt[dt['label'] == minority_class]"
   ]
  },
  {
   "cell_type": "code",
   "execution_count": 8,
   "metadata": {},
   "outputs": [],
   "source": [
    "oversampled_df = minority_df.sample(num_samples_to_oversample, replace=True)\n"
   ]
  },
  {
   "cell_type": "code",
   "execution_count": 9,
   "metadata": {},
   "outputs": [],
   "source": [
    "dt = pd.concat([dt, oversampled_df])"
   ]
  },
  {
   "cell_type": "code",
   "execution_count": 10,
   "metadata": {},
   "outputs": [],
   "source": [
    "minority_class = 'tidak mendukung'\n",
    "num_samples_to_oversample = dt['label'].value_counts()['dukungan'] - dt['label'].value_counts()[minority_class]"
   ]
  },
  {
   "cell_type": "code",
   "execution_count": 11,
   "metadata": {},
   "outputs": [],
   "source": [
    "minority_df = dt[dt['label'] == minority_class]"
   ]
  },
  {
   "cell_type": "code",
   "execution_count": 12,
   "metadata": {},
   "outputs": [],
   "source": [
    "oversampled_df = minority_df.sample(num_samples_to_oversample, replace=True)"
   ]
  },
  {
   "cell_type": "code",
   "execution_count": 13,
   "metadata": {},
   "outputs": [],
   "source": [
    "dt = pd.concat([dt, oversampled_df])"
   ]
  },
  {
   "cell_type": "code",
   "execution_count": 14,
   "metadata": {},
   "outputs": [
    {
     "data": {
      "text/plain": [
       "tidak mendukung    569\n",
       "dukungan           569\n",
       "netral             569\n",
       "Name: label, dtype: int64"
      ]
     },
     "execution_count": 14,
     "metadata": {},
     "output_type": "execute_result"
    },
    {
     "data": {
      "image/png": "[encoded data removed]",
      "text/plain": [
       "<Figure size 432x288 with 1 Axes>"
      ]
     },
     "metadata": {
      "needs_background": "light"
     },
     "output_type": "display_data"
    }
   ],
   "source": [
    "dt['label'].value_counts().sort_index().plot.bar()\n",
    "dt['label'].value_counts()"
   ]
  },
  {
   "cell_type": "code",
   "execution_count": 15,
   "metadata": {},
   "outputs": [
    {
     "name": "stdout",
     "output_type": "stream",
     "text": [
      "[[   0    0    0 ... 2360 2361   23]\n",
      " [   0    0    0 ... 2363  593 1621]\n",
      " [   0    0    0 ...    3 2364 2365]\n",
      " ...\n",
      " [   0    0    0 ...    6  124 2248]\n",
      " [   0    0    0 ...  271  666  705]\n",
      " [   0    0    0 ...   11  854  467]]\n"
     ]
    }
   ],
   "source": [
    "# tokenizer text\n",
    "\n",
    "tokenizer = Tokenizer(num_words=5000, split=\" \")\n",
    "\n",
    "tokenizer.fit_on_texts(dt['tweet'].values)\n",
    "X = tokenizer.texts_to_sequences(dt['tweet'].values)\n",
    "X = pad_sequences(X)\n",
    "print(X)"
   ]
  },
  {
   "cell_type": "code",
   "execution_count": 16,
   "metadata": {},
   "outputs": [
    {
     "data": {
      "text/plain": [
       "array([[0, 0, 1],\n",
       "       [0, 0, 1],\n",
       "       [0, 0, 1],\n",
       "       ...,\n",
       "       [0, 0, 1],\n",
       "       [0, 0, 1],\n",
       "       [0, 0, 1]], dtype=uint8)"
      ]
     },
     "execution_count": 16,
     "metadata": {},
     "output_type": "execute_result"
    }
   ],
   "source": [
    "# get label\n",
    "\n",
    "y = pd.get_dummies(dt['label']).values\n",
    "y"
   ]
  },
  {
   "cell_type": "code",
   "execution_count": 17,
   "metadata": {},
   "outputs": [
    {
     "name": "stdout",
     "output_type": "stream",
     "text": [
      "(1707, 3)\n"
     ]
    }
   ],
   "source": [
    "print(y.shape)"
   ]
  },
  {
   "cell_type": "code",
   "execution_count": null,
   "metadata": {},
   "outputs": [],
   "source": []
  },
  {
   "cell_type": "code",
   "execution_count": 18,
   "metadata": {},
   "outputs": [
    {
     "name": "stdout",
     "output_type": "stream",
     "text": [
      "(1365, 51)\n",
      "(342, 51)\n"
     ]
    }
   ],
   "source": [
    "# split dataset smote tanpa menggunakan tokenizing\n",
    "\n",
    "X_train, X_test, y_train, y_test = train_test_split(X, y, test_size=0.2, random_state=0)\n",
    "\n",
    "print(X_train.shape)\n",
    "print(X_test.shape)"
   ]
  },
  {
   "cell_type": "markdown",
   "metadata": {},
   "source": [
    "## Training Model"
   ]
  },
  {
   "cell_type": "code",
   "execution_count": 19,
   "metadata": {},
   "outputs": [
    {
     "name": "stderr",
     "output_type": "stream",
     "text": [
      "2023-02-05 18:41:56.028364: W tensorflow/compiler/xla/stream_executor/platform/default/dso_loader.cc:64] Could not load dynamic library 'libcudart.so.11.0'; dlerror: libcudart.so.11.0: cannot open shared object file: No such file or directory\n",
      "2023-02-05 18:41:56.028511: W tensorflow/compiler/xla/stream_executor/platform/default/dso_loader.cc:64] Could not load dynamic library 'libcublas.so.11'; dlerror: libcublas.so.11: cannot open shared object file: No such file or directory\n",
      "2023-02-05 18:41:56.028612: W tensorflow/compiler/xla/stream_executor/platform/default/dso_loader.cc:64] Could not load dynamic library 'libcublasLt.so.11'; dlerror: libcublasLt.so.11: cannot open shared object file: No such file or directory\n",
      "2023-02-05 18:41:56.028707: W tensorflow/compiler/xla/stream_executor/platform/default/dso_loader.cc:64] Could not load dynamic library 'libcufft.so.10'; dlerror: libcufft.so.10: cannot open shared object file: No such file or directory\n",
      "2023-02-05 18:41:56.028833: W tensorflow/compiler/xla/stream_executor/platform/default/dso_loader.cc:64] Could not load dynamic library 'libcurand.so.10'; dlerror: libcurand.so.10: cannot open shared object file: No such file or directory\n",
      "2023-02-05 18:41:56.028940: W tensorflow/compiler/xla/stream_executor/platform/default/dso_loader.cc:64] Could not load dynamic library 'libcusolver.so.11'; dlerror: libcusolver.so.11: cannot open shared object file: No such file or directory\n",
      "2023-02-05 18:41:56.029073: W tensorflow/compiler/xla/stream_executor/platform/default/dso_loader.cc:64] Could not load dynamic library 'libcusparse.so.11'; dlerror: libcusparse.so.11: cannot open shared object file: No such file or directory\n",
      "2023-02-05 18:41:56.029204: W tensorflow/compiler/xla/stream_executor/platform/default/dso_loader.cc:64] Could not load dynamic library 'libcudnn.so.8'; dlerror: libcudnn.so.8: cannot open shared object file: No such file or directory\n",
      "2023-02-05 18:41:56.029233: W tensorflow/core/common_runtime/gpu/gpu_device.cc:1934] Cannot dlopen some GPU libraries. Please make sure the missing libraries mentioned above are installed properly if you would like to use GPU. Follow the guide at https://www.tensorflow.org/install/gpu for how to download and setup the required libraries for your platform.\n",
      "Skipping registering GPU devices...\n",
      "2023-02-05 18:41:56.031889: I tensorflow/core/platform/cpu_feature_guard.cc:193] This TensorFlow binary is optimized with oneAPI Deep Neural Network Library (oneDNN) to use the following CPU instructions in performance-critical operations:  AVX2 FMA\n",
      "To enable them in other operations, rebuild TensorFlow with the appropriate compiler flags.\n"
     ]
    },
    {
     "name": "stdout",
     "output_type": "stream",
     "text": [
      "Model: \"sequential\"\n",
      "_________________________________________________________________\n",
      " Layer (type)                Output Shape              Param #   \n",
      "=================================================================\n",
      " embedding (Embedding)       (None, None, 256)         1280000   \n",
      "                                                                 \n",
      " dropout (Dropout)           (None, None, 256)         0         \n",
      "                                                                 \n",
      " lstm (LSTM)                 (None, None, 256)         525312    \n",
      "                                                                 \n",
      " lstm_1 (LSTM)               (None, 256)               525312    \n",
      "                                                                 \n",
      " dense (Dense)               (None, 3)                 771       \n",
      "                                                                 \n",
      "=================================================================\n",
      "Total params: 2,331,395\n",
      "Trainable params: 2,331,395\n",
      "Non-trainable params: 0\n",
      "_________________________________________________________________\n"
     ]
    }
   ],
   "source": [
    "# LSTM Modelling\n",
    "\n",
    "model = Sequential()\n",
    "model.add(Embedding(5000, 256))\n",
    "model.add(Dropout(0.3))\n",
    "model.add(LSTM(256, return_sequences=True, dropout=0.3, recurrent_dropout=0.2))\n",
    "model.add(LSTM(256, dropout=0.3, recurrent_dropout=0.2))\n",
    "model.add(Dense(3, activation='softmax'))\n",
    "model.compile(loss='categorical_crossentropy', optimizer='adam', metrics=['accuracy'])\n",
    "model.summary()"
   ]
  },
  {
   "cell_type": "code",
   "execution_count": null,
   "metadata": {},
   "outputs": [],
   "source": []
  },
  {
   "cell_type": "code",
   "execution_count": 20,
   "metadata": {},
   "outputs": [],
   "source": [
    "import seaborn as sns\n",
    "import matplotlib.pyplot as plt"
   ]
  },
  {
   "cell_type": "code",
   "execution_count": 21,
   "metadata": {},
   "outputs": [
    {
     "name": "stdout",
     "output_type": "stream",
     "text": [
      "Epoch 1/100\n",
      "43/43 - 44s - loss: 1.0482 - accuracy: 0.4505 - val_loss: 0.9351 - val_accuracy: 0.5614 - 44s/epoch - 1s/step\n",
      "Epoch 2/100\n",
      "43/43 - 28s - loss: 0.6181 - accuracy: 0.7487 - val_loss: 0.7839 - val_accuracy: 0.7515 - 28s/epoch - 660ms/step\n",
      "Epoch 3/100\n",
      "43/43 - 28s - loss: 0.2365 - accuracy: 0.9172 - val_loss: 0.5995 - val_accuracy: 0.7661 - 28s/epoch - 662ms/step\n",
      "Epoch 4/100\n",
      "43/43 - 29s - loss: 0.0985 - accuracy: 0.9656 - val_loss: 0.6597 - val_accuracy: 0.7749 - 29s/epoch - 681ms/step\n",
      "Epoch 5/100\n",
      "43/43 - 29s - loss: 0.0504 - accuracy: 0.9832 - val_loss: 0.7957 - val_accuracy: 0.7836 - 29s/epoch - 681ms/step\n",
      "Epoch 6/100\n",
      "43/43 - 30s - loss: 0.0348 - accuracy: 0.9897 - val_loss: 0.7981 - val_accuracy: 0.7632 - 30s/epoch - 690ms/step\n",
      "Epoch 7/100\n",
      "43/43 - 30s - loss: 0.0224 - accuracy: 0.9941 - val_loss: 0.9011 - val_accuracy: 0.8012 - 30s/epoch - 689ms/step\n",
      "Epoch 8/100\n",
      "43/43 - 31s - loss: 0.0103 - accuracy: 0.9985 - val_loss: 0.8870 - val_accuracy: 0.8070 - 31s/epoch - 715ms/step\n",
      "Epoch 9/100\n",
      "43/43 - 30s - loss: 0.0121 - accuracy: 0.9971 - val_loss: 1.0211 - val_accuracy: 0.7865 - 30s/epoch - 697ms/step\n",
      "Epoch 10/100\n",
      "43/43 - 30s - loss: 0.0098 - accuracy: 0.9985 - val_loss: 0.9649 - val_accuracy: 0.8012 - 30s/epoch - 700ms/step\n",
      "Epoch 11/100\n",
      "43/43 - 30s - loss: 0.0079 - accuracy: 0.9978 - val_loss: 1.1837 - val_accuracy: 0.7836 - 30s/epoch - 697ms/step\n",
      "Epoch 12/100\n",
      "43/43 - 30s - loss: 0.0160 - accuracy: 0.9941 - val_loss: 1.1100 - val_accuracy: 0.7632 - 30s/epoch - 705ms/step\n",
      "Epoch 13/100\n",
      "43/43 - 30s - loss: 0.0163 - accuracy: 0.9963 - val_loss: 1.0989 - val_accuracy: 0.7222 - 30s/epoch - 701ms/step\n",
      "Epoch 14/100\n",
      "43/43 - 31s - loss: 0.0354 - accuracy: 0.9919 - val_loss: 1.0310 - val_accuracy: 0.7105 - 31s/epoch - 711ms/step\n",
      "Epoch 15/100\n",
      "43/43 - 31s - loss: 0.0340 - accuracy: 0.9905 - val_loss: 1.1461 - val_accuracy: 0.7544 - 31s/epoch - 710ms/step\n",
      "Epoch 16/100\n",
      "43/43 - 31s - loss: 0.0239 - accuracy: 0.9941 - val_loss: 1.1098 - val_accuracy: 0.7807 - 31s/epoch - 718ms/step\n",
      "Epoch 17/100\n",
      "43/43 - 31s - loss: 0.0067 - accuracy: 0.9985 - val_loss: 1.1234 - val_accuracy: 0.7544 - 31s/epoch - 714ms/step\n",
      "Epoch 18/100\n",
      "43/43 - 31s - loss: 0.0065 - accuracy: 0.9971 - val_loss: 1.0557 - val_accuracy: 0.7749 - 31s/epoch - 714ms/step\n",
      "Epoch 19/100\n",
      "43/43 - 31s - loss: 0.0064 - accuracy: 0.9985 - val_loss: 1.2215 - val_accuracy: 0.7690 - 31s/epoch - 716ms/step\n",
      "Epoch 20/100\n",
      "43/43 - 31s - loss: 0.0065 - accuracy: 0.9985 - val_loss: 1.1307 - val_accuracy: 0.7836 - 31s/epoch - 720ms/step\n",
      "Epoch 21/100\n",
      "43/43 - 31s - loss: 0.0047 - accuracy: 0.9985 - val_loss: 1.2307 - val_accuracy: 0.7778 - 31s/epoch - 726ms/step\n",
      "Epoch 22/100\n",
      "43/43 - 32s - loss: 0.0052 - accuracy: 0.9985 - val_loss: 1.3182 - val_accuracy: 0.7632 - 32s/epoch - 744ms/step\n",
      "Epoch 23/100\n",
      "43/43 - 31s - loss: 0.0045 - accuracy: 0.9985 - val_loss: 1.2459 - val_accuracy: 0.7661 - 31s/epoch - 722ms/step\n",
      "Epoch 24/100\n",
      "43/43 - 31s - loss: 0.0042 - accuracy: 0.9985 - val_loss: 1.3813 - val_accuracy: 0.7661 - 31s/epoch - 729ms/step\n",
      "Epoch 25/100\n",
      "43/43 - 31s - loss: 0.0036 - accuracy: 0.9985 - val_loss: 1.3744 - val_accuracy: 0.7661 - 31s/epoch - 729ms/step\n",
      "Epoch 26/100\n",
      "43/43 - 31s - loss: 0.0089 - accuracy: 0.9971 - val_loss: 1.1143 - val_accuracy: 0.7515 - 31s/epoch - 727ms/step\n",
      "Epoch 27/100\n",
      "43/43 - 32s - loss: 0.0309 - accuracy: 0.9934 - val_loss: 0.9172 - val_accuracy: 0.7719 - 32s/epoch - 738ms/step\n",
      "Epoch 28/100\n",
      "43/43 - 31s - loss: 0.0095 - accuracy: 0.9978 - val_loss: 0.9366 - val_accuracy: 0.7661 - 31s/epoch - 727ms/step\n",
      "Epoch 29/100\n",
      "43/43 - 32s - loss: 0.0053 - accuracy: 0.9985 - val_loss: 1.1471 - val_accuracy: 0.7602 - 32s/epoch - 750ms/step\n",
      "Epoch 30/100\n",
      "43/43 - 32s - loss: 0.0049 - accuracy: 0.9985 - val_loss: 1.1419 - val_accuracy: 0.7661 - 32s/epoch - 739ms/step\n",
      "Epoch 31/100\n",
      "43/43 - 32s - loss: 0.0037 - accuracy: 0.9985 - val_loss: 1.2216 - val_accuracy: 0.7632 - 32s/epoch - 733ms/step\n",
      "Epoch 32/100\n",
      "43/43 - 31s - loss: 0.0045 - accuracy: 0.9971 - val_loss: 1.2496 - val_accuracy: 0.7690 - 31s/epoch - 715ms/step\n",
      "Epoch 33/100\n",
      "43/43 - 30s - loss: 0.0040 - accuracy: 0.9985 - val_loss: 1.2950 - val_accuracy: 0.7602 - 30s/epoch - 699ms/step\n",
      "Epoch 34/100\n",
      "43/43 - 30s - loss: 0.0033 - accuracy: 0.9985 - val_loss: 1.3118 - val_accuracy: 0.7602 - 30s/epoch - 694ms/step\n",
      "Epoch 35/100\n",
      "43/43 - 30s - loss: 0.0035 - accuracy: 0.9985 - val_loss: 1.3339 - val_accuracy: 0.7690 - 30s/epoch - 692ms/step\n",
      "Epoch 36/100\n",
      "43/43 - 30s - loss: 0.0035 - accuracy: 0.9985 - val_loss: 1.3598 - val_accuracy: 0.7778 - 30s/epoch - 697ms/step\n",
      "Epoch 37/100\n",
      "43/43 - 30s - loss: 0.0036 - accuracy: 0.9985 - val_loss: 1.3885 - val_accuracy: 0.7749 - 30s/epoch - 688ms/step\n",
      "Epoch 38/100\n",
      "43/43 - 30s - loss: 0.0077 - accuracy: 0.9963 - val_loss: 1.1420 - val_accuracy: 0.7953 - 30s/epoch - 686ms/step\n",
      "Epoch 39/100\n",
      "43/43 - 30s - loss: 0.0222 - accuracy: 0.9941 - val_loss: 0.8238 - val_accuracy: 0.7836 - 30s/epoch - 689ms/step\n",
      "Epoch 40/100\n",
      "43/43 - 29s - loss: 0.0171 - accuracy: 0.9949 - val_loss: 1.0141 - val_accuracy: 0.7719 - 29s/epoch - 681ms/step\n",
      "Epoch 41/100\n",
      "43/43 - 29s - loss: 0.0043 - accuracy: 0.9978 - val_loss: 1.2127 - val_accuracy: 0.7661 - 29s/epoch - 685ms/step\n",
      "Epoch 42/100\n",
      "43/43 - 30s - loss: 0.0093 - accuracy: 0.9978 - val_loss: 1.2450 - val_accuracy: 0.7544 - 30s/epoch - 691ms/step\n",
      "Epoch 43/100\n",
      "43/43 - 30s - loss: 0.0051 - accuracy: 0.9985 - val_loss: 1.3002 - val_accuracy: 0.7456 - 30s/epoch - 696ms/step\n",
      "Epoch 44/100\n",
      "43/43 - 30s - loss: 0.0039 - accuracy: 0.9985 - val_loss: 1.2758 - val_accuracy: 0.7602 - 30s/epoch - 687ms/step\n",
      "Epoch 45/100\n",
      "43/43 - 29s - loss: 0.0041 - accuracy: 0.9985 - val_loss: 1.3141 - val_accuracy: 0.7661 - 29s/epoch - 684ms/step\n",
      "Epoch 46/100\n",
      "43/43 - 30s - loss: 0.0041 - accuracy: 0.9985 - val_loss: 1.2714 - val_accuracy: 0.7778 - 30s/epoch - 701ms/step\n",
      "Epoch 47/100\n",
      "43/43 - 20s - loss: 0.0033 - accuracy: 0.9985 - val_loss: 1.3196 - val_accuracy: 0.7661 - 20s/epoch - 465ms/step\n",
      "Epoch 48/100\n",
      "43/43 - 16s - loss: 0.0038 - accuracy: 0.9985 - val_loss: 1.3584 - val_accuracy: 0.7544 - 16s/epoch - 365ms/step\n",
      "Epoch 49/100\n",
      "43/43 - 16s - loss: 0.0037 - accuracy: 0.9985 - val_loss: 1.4367 - val_accuracy: 0.7515 - 16s/epoch - 377ms/step\n",
      "Epoch 50/100\n",
      "43/43 - 18s - loss: 0.0041 - accuracy: 0.9971 - val_loss: 1.3609 - val_accuracy: 0.7602 - 18s/epoch - 427ms/step\n",
      "Epoch 51/100\n",
      "43/43 - 17s - loss: 0.0038 - accuracy: 0.9985 - val_loss: 1.3673 - val_accuracy: 0.7573 - 17s/epoch - 400ms/step\n",
      "Epoch 52/100\n",
      "43/43 - 18s - loss: 0.0038 - accuracy: 0.9985 - val_loss: 1.4255 - val_accuracy: 0.7573 - 18s/epoch - 410ms/step\n",
      "Epoch 53/100\n",
      "43/43 - 17s - loss: 0.0033 - accuracy: 0.9985 - val_loss: 1.4684 - val_accuracy: 0.7573 - 17s/epoch - 387ms/step\n",
      "Epoch 54/100\n",
      "43/43 - 16s - loss: 0.0035 - accuracy: 0.9985 - val_loss: 1.4622 - val_accuracy: 0.7573 - 16s/epoch - 382ms/step\n",
      "Epoch 55/100\n",
      "43/43 - 17s - loss: 0.0034 - accuracy: 0.9985 - val_loss: 1.4861 - val_accuracy: 0.7573 - 17s/epoch - 396ms/step\n",
      "Epoch 56/100\n",
      "43/43 - 18s - loss: 0.0037 - accuracy: 0.9985 - val_loss: 1.4481 - val_accuracy: 0.7544 - 18s/epoch - 408ms/step\n",
      "Epoch 57/100\n",
      "43/43 - 16s - loss: 0.0038 - accuracy: 0.9985 - val_loss: 1.4771 - val_accuracy: 0.7544 - 16s/epoch - 380ms/step\n",
      "Epoch 58/100\n",
      "43/43 - 17s - loss: 0.0035 - accuracy: 0.9985 - val_loss: 1.5233 - val_accuracy: 0.7485 - 17s/epoch - 384ms/step\n",
      "Epoch 59/100\n",
      "43/43 - 17s - loss: 0.0034 - accuracy: 0.9985 - val_loss: 1.5493 - val_accuracy: 0.7485 - 17s/epoch - 387ms/step\n",
      "Epoch 60/100\n",
      "43/43 - 16s - loss: 0.0036 - accuracy: 0.9985 - val_loss: 1.5704 - val_accuracy: 0.7485 - 16s/epoch - 377ms/step\n",
      "Epoch 61/100\n",
      "43/43 - 16s - loss: 0.0034 - accuracy: 0.9985 - val_loss: 1.5741 - val_accuracy: 0.7544 - 16s/epoch - 372ms/step\n",
      "Epoch 62/100\n",
      "43/43 - 16s - loss: 0.0032 - accuracy: 0.9985 - val_loss: 1.5388 - val_accuracy: 0.7573 - 16s/epoch - 372ms/step\n",
      "Epoch 63/100\n",
      "43/43 - 16s - loss: 0.0034 - accuracy: 0.9985 - val_loss: 1.5695 - val_accuracy: 0.7602 - 16s/epoch - 366ms/step\n",
      "Epoch 64/100\n",
      "43/43 - 16s - loss: 0.0037 - accuracy: 0.9985 - val_loss: 1.4071 - val_accuracy: 0.7602 - 16s/epoch - 366ms/step\n",
      "Epoch 65/100\n",
      "43/43 - 16s - loss: 0.0038 - accuracy: 0.9985 - val_loss: 1.3904 - val_accuracy: 0.7544 - 16s/epoch - 363ms/step\n",
      "Epoch 66/100\n",
      "43/43 - 16s - loss: 0.0034 - accuracy: 0.9985 - val_loss: 1.4132 - val_accuracy: 0.7515 - 16s/epoch - 361ms/step\n"
     ]
    },
    {
     "name": "stdout",
     "output_type": "stream",
     "text": [
      "Epoch 67/100\n",
      "43/43 - 16s - loss: 0.0030 - accuracy: 0.9985 - val_loss: 1.4474 - val_accuracy: 0.7602 - 16s/epoch - 361ms/step\n",
      "Epoch 68/100\n",
      "43/43 - 16s - loss: 0.0032 - accuracy: 0.9985 - val_loss: 1.4697 - val_accuracy: 0.7602 - 16s/epoch - 361ms/step\n",
      "Epoch 69/100\n",
      "43/43 - 16s - loss: 0.0036 - accuracy: 0.9985 - val_loss: 1.4912 - val_accuracy: 0.7573 - 16s/epoch - 365ms/step\n",
      "Epoch 70/100\n",
      "43/43 - 16s - loss: 0.0033 - accuracy: 0.9985 - val_loss: 1.5121 - val_accuracy: 0.7573 - 16s/epoch - 376ms/step\n",
      "Epoch 71/100\n",
      "43/43 - 16s - loss: 0.0034 - accuracy: 0.9985 - val_loss: 1.5351 - val_accuracy: 0.7602 - 16s/epoch - 363ms/step\n",
      "Epoch 72/100\n",
      "43/43 - 16s - loss: 0.0031 - accuracy: 0.9985 - val_loss: 1.5294 - val_accuracy: 0.7602 - 16s/epoch - 382ms/step\n",
      "Epoch 73/100\n",
      "43/43 - 19s - loss: 0.0399 - accuracy: 0.9868 - val_loss: 1.5077 - val_accuracy: 0.7251 - 19s/epoch - 433ms/step\n",
      "Epoch 74/100\n",
      "43/43 - 19s - loss: 0.0491 - accuracy: 0.9875 - val_loss: 1.2886 - val_accuracy: 0.7573 - 19s/epoch - 439ms/step\n",
      "Epoch 75/100\n",
      "43/43 - 20s - loss: 0.0153 - accuracy: 0.9919 - val_loss: 1.0454 - val_accuracy: 0.7690 - 20s/epoch - 467ms/step\n",
      "Epoch 76/100\n",
      "43/43 - 18s - loss: 0.0100 - accuracy: 0.9978 - val_loss: 1.2293 - val_accuracy: 0.7602 - 18s/epoch - 418ms/step\n",
      "Epoch 77/100\n",
      "43/43 - 17s - loss: 0.0089 - accuracy: 0.9978 - val_loss: 1.1537 - val_accuracy: 0.7690 - 17s/epoch - 392ms/step\n",
      "Epoch 78/100\n",
      "43/43 - 16s - loss: 0.0043 - accuracy: 0.9985 - val_loss: 1.2170 - val_accuracy: 0.7690 - 16s/epoch - 381ms/step\n",
      "Epoch 79/100\n",
      "43/43 - 16s - loss: 0.0038 - accuracy: 0.9985 - val_loss: 1.2736 - val_accuracy: 0.7690 - 16s/epoch - 374ms/step\n",
      "Epoch 80/100\n",
      "43/43 - 16s - loss: 0.0039 - accuracy: 0.9985 - val_loss: 1.2842 - val_accuracy: 0.7807 - 16s/epoch - 373ms/step\n",
      "Epoch 81/100\n",
      "43/43 - 16s - loss: 0.0033 - accuracy: 0.9985 - val_loss: 1.3249 - val_accuracy: 0.7719 - 16s/epoch - 372ms/step\n",
      "Epoch 82/100\n",
      "43/43 - 16s - loss: 0.0056 - accuracy: 0.9978 - val_loss: 1.2682 - val_accuracy: 0.7807 - 16s/epoch - 368ms/step\n",
      "Epoch 83/100\n",
      "43/43 - 16s - loss: 0.0059 - accuracy: 0.9978 - val_loss: 1.3946 - val_accuracy: 0.7602 - 16s/epoch - 373ms/step\n",
      "Epoch 84/100\n",
      "43/43 - 16s - loss: 0.0038 - accuracy: 0.9978 - val_loss: 1.3638 - val_accuracy: 0.7690 - 16s/epoch - 369ms/step\n",
      "Epoch 85/100\n",
      "43/43 - 16s - loss: 0.0043 - accuracy: 0.9985 - val_loss: 1.3463 - val_accuracy: 0.7661 - 16s/epoch - 365ms/step\n",
      "Epoch 86/100\n",
      "43/43 - 16s - loss: 0.0036 - accuracy: 0.9985 - val_loss: 1.3693 - val_accuracy: 0.7632 - 16s/epoch - 364ms/step\n",
      "Epoch 87/100\n",
      "43/43 - 16s - loss: 0.0039 - accuracy: 0.9985 - val_loss: 1.3861 - val_accuracy: 0.7602 - 16s/epoch - 362ms/step\n",
      "Epoch 88/100\n",
      "43/43 - 16s - loss: 0.0033 - accuracy: 0.9985 - val_loss: 1.3961 - val_accuracy: 0.7632 - 16s/epoch - 361ms/step\n",
      "Epoch 89/100\n",
      "43/43 - 16s - loss: 0.0034 - accuracy: 0.9985 - val_loss: 1.4058 - val_accuracy: 0.7632 - 16s/epoch - 381ms/step\n",
      "Epoch 90/100\n",
      "43/43 - 16s - loss: 0.0033 - accuracy: 0.9985 - val_loss: 1.4258 - val_accuracy: 0.7632 - 16s/epoch - 367ms/step\n",
      "Epoch 91/100\n",
      "43/43 - 16s - loss: 0.0033 - accuracy: 0.9985 - val_loss: 1.4401 - val_accuracy: 0.7632 - 16s/epoch - 363ms/step\n",
      "Epoch 92/100\n",
      "43/43 - 16s - loss: 0.0035 - accuracy: 0.9985 - val_loss: 1.4424 - val_accuracy: 0.7632 - 16s/epoch - 364ms/step\n",
      "Epoch 93/100\n",
      "43/43 - 16s - loss: 0.0032 - accuracy: 0.9985 - val_loss: 1.4656 - val_accuracy: 0.7573 - 16s/epoch - 365ms/step\n",
      "Epoch 94/100\n",
      "43/43 - 16s - loss: 0.0034 - accuracy: 0.9985 - val_loss: 1.4682 - val_accuracy: 0.7573 - 16s/epoch - 364ms/step\n",
      "Epoch 95/100\n",
      "43/43 - 16s - loss: 0.0034 - accuracy: 0.9985 - val_loss: 1.4744 - val_accuracy: 0.7573 - 16s/epoch - 364ms/step\n",
      "Epoch 96/100\n",
      "43/43 - 16s - loss: 0.0032 - accuracy: 0.9985 - val_loss: 1.4879 - val_accuracy: 0.7573 - 16s/epoch - 367ms/step\n",
      "Epoch 97/100\n",
      "43/43 - 16s - loss: 0.0031 - accuracy: 0.9985 - val_loss: 1.5019 - val_accuracy: 0.7544 - 16s/epoch - 361ms/step\n",
      "Epoch 98/100\n",
      "43/43 - 16s - loss: 0.0038 - accuracy: 0.9985 - val_loss: 1.4982 - val_accuracy: 0.7573 - 16s/epoch - 363ms/step\n",
      "Epoch 99/100\n",
      "43/43 - 16s - loss: 0.0034 - accuracy: 0.9985 - val_loss: 1.5031 - val_accuracy: 0.7573 - 16s/epoch - 364ms/step\n",
      "Epoch 100/100\n",
      "43/43 - 16s - loss: 0.0031 - accuracy: 0.9985 - val_loss: 1.5046 - val_accuracy: 0.7573 - 16s/epoch - 362ms/step\n"
     ]
    }
   ],
   "source": [
    "batch_size = 32\n",
    "epochs = 100\n",
    "\n",
    "history = model.fit(X_train, y_train, epochs=epochs, batch_size=batch_size, verbose=2, validation_data=(X_test, y_test))"
   ]
  },
  {
   "cell_type": "code",
   "execution_count": null,
   "metadata": {},
   "outputs": [],
   "source": [
    "# save model into file .h5\n",
    "\n",
    "model.save('sentiment_analysis.h5')"
   ]
  },
  {
   "cell_type": "code",
   "execution_count": 22,
   "metadata": {},
   "outputs": [],
   "source": [
    "# Mengambil data dari history pelatihan model\n",
    "train_loss = history.history['loss']\n",
    "val_loss = history.history['val_loss']\n",
    "train_acc = history.history['accuracy']\n",
    "val_acc = history.history['val_accuracy']"
   ]
  },
  {
   "cell_type": "code",
   "execution_count": 23,
   "metadata": {},
   "outputs": [
    {
     "data": {
      "text/plain": [
       "<Figure size 864x360 with 0 Axes>"
      ]
     },
     "metadata": {},
     "output_type": "display_data"
    }
   ],
   "source": [
    "# Membuat plot\n",
    "plt.figure(figsize=(12,5))\n",
    "sns.set_style(\"whitegrid\")"
   ]
  },
  {
   "cell_type": "code",
   "execution_count": 24,
   "metadata": {},
   "outputs": [
    {
     "data": {
      "text/plain": [
       "<matplotlib.legend.Legend at 0x7f8f01214970>"
      ]
     },
     "execution_count": 24,
     "metadata": {},
     "output_type": "execute_result"
    },
    {
     "data": {
      "image/png": "[encoded data removed]",
      "text/plain": [
       "<Figure size 432x288 with 1 Axes>"
      ]
     },
     "metadata": {},
     "output_type": "display_data"
    }
   ],
   "source": [
    "plt.subplot(1,2,1)\n",
    "sns.lineplot(x=range(1,epochs+1), y=train_loss, label='Training Loss')\n",
    "sns.lineplot(x=range(1,epochs+1), y=val_loss, label='Validation Loss')\n",
    "plt.title('Loss')\n",
    "plt.xlabel('Epochs')\n",
    "plt.ylabel('Loss')\n",
    "plt.legend()"
   ]
  },
  {
   "cell_type": "code",
   "execution_count": 25,
   "metadata": {},
   "outputs": [
    {
     "data": {
      "image/png": "[encoded data removed]",
      "text/plain": [
       "<Figure size 432x288 with 1 Axes>"
      ]
     },
     "metadata": {},
     "output_type": "display_data"
    }
   ],
   "source": [
    "plt.subplot(1,2,2)\n",
    "sns.lineplot(x=range(1,epochs+1), y=train_acc, label='Training Accuracy')\n",
    "sns.lineplot(x=range(1,epochs+1), y=val_acc, label='Validation Accuracy')\n",
    "plt.title('Accuracy')\n",
    "plt.xlabel('Epochs')\n",
    "plt.ylabel('Accuracy')\n",
    "plt.legend()\n",
    "\n",
    "plt.show()"
   ]
  },
  {
   "cell_type": "code",
   "execution_count": 26,
   "metadata": {},
   "outputs": [
    {
     "name": "stdout",
     "output_type": "stream",
     "text": [
      "11/11 [==============================] - 1s 66ms/step\n",
      "              precision    recall  f1-score   support\n",
      "\n",
      "           0       0.65      0.84      0.73       116\n",
      "           1       0.83      0.93      0.88       107\n",
      "           2       0.86      0.52      0.65       119\n",
      "\n",
      "    accuracy                           0.76       342\n",
      "   macro avg       0.78      0.76      0.75       342\n",
      "weighted avg       0.78      0.76      0.75       342\n",
      "\n"
     ]
    }
   ],
   "source": [
    "from sklearn.metrics import classification_report\n",
    "\n",
    "y_pred = model.predict(X_test)\n",
    "y_pred = np.argmax(y_pred, axis=1)\n",
    "y_true = np.argmax(y_test, axis=1)\n",
    "print(classification_report(y_true, y_pred))"
   ]
  },
  {
   "cell_type": "code",
   "execution_count": 27,
   "metadata": {},
   "outputs": [
    {
     "name": "stdout",
     "output_type": "stream",
     "text": [
      "[[ 97  10   9]\n",
      " [  6 100   1]\n",
      " [ 46  11  62]]\n"
     ]
    }
   ],
   "source": [
    "from sklearn.metrics import confusion_matrix\n",
    "\n",
    "conf_mat = confusion_matrix(y_true, y_pred)\n",
    "print(conf_mat)"
   ]
  },
  {
   "cell_type": "code",
   "execution_count": 28,
   "metadata": {},
   "outputs": [
    {
     "data": {
      "image/png": "[encoded data removed]",
      "text/plain": [
       "<Figure size 432x288 with 2 Axes>"
      ]
     },
     "metadata": {},
     "output_type": "display_data"
    }
   ],
   "source": [
    "sns.heatmap(conf_mat, annot=True, cmap='Blues', fmt='d')\n",
    "plt.title('Confusion Matrix')\n",
    "plt.xlabel('Predicted Label')\n",
    "plt.ylabel('True Label')\n",
    "plt.show()"
   ]
  },
  {
   "cell_type": "markdown",
   "metadata": {},
   "source": [
    "## Evaluate Model"
   ]
  },
  {
   "cell_type": "code",
   "execution_count": 29,
   "metadata": {},
   "outputs": [
    {
     "name": "stdout",
     "output_type": "stream",
     "text": [
      "11/11 - 1s - loss: 1.5046 - accuracy: 0.7573 - 693ms/epoch - 63ms/step\n",
      "score: 1.50\n",
      "acc: 0.76\n"
     ]
    }
   ],
   "source": [
    "# evaluate model with data test\n",
    "\n",
    "score, acc = model.evaluate(X_test, y_test, verbose = 2, batch_size = batch_size)\n",
    "\n",
    "print(\"score: %.2f\" % (score))\n",
    "print(\"acc: %.2f\" % (acc))"
   ]
  },
  {
   "cell_type": "code",
   "execution_count": null,
   "metadata": {},
   "outputs": [],
   "source": []
  },
  {
   "cell_type": "markdown",
   "metadata": {},
   "source": [
    "## Predict New Dataset"
   ]
  },
  {
   "cell_type": "code",
   "execution_count": 58,
   "metadata": {},
   "outputs": [
    {
     "data": {
      "text/html": [
       "<div>\n",
       "<style scoped>\n",
       "    .dataframe tbody tr th:only-of-type {\n",
       "        vertical-align: middle;\n",
       "    }\n",
       "\n",
       "    .dataframe tbody tr th {\n",
       "        vertical-align: top;\n",
       "    }\n",
       "\n",
       "    .dataframe thead th {\n",
       "        text-align: right;\n",
       "    }\n",
       "</style>\n",
       "<table border=\"1\" class=\"dataframe\">\n",
       "  <thead>\n",
       "    <tr style=\"text-align: right;\">\n",
       "      <th></th>\n",
       "      <th>tweet</th>\n",
       "    </tr>\n",
       "  </thead>\n",
       "  <tbody>\n",
       "    <tr>\n",
       "      <th>0</th>\n",
       "      <td>@M45Broo_ Cebong benar2 panik luar biasa, ini ...</td>\n",
       "    </tr>\n",
       "    <tr>\n",
       "      <th>1</th>\n",
       "      <td>@Relawananies https://t.co/uf5sE0iGLI</td>\n",
       "    </tr>\n",
       "    <tr>\n",
       "      <th>2</th>\n",
       "      <td>RT @BosPurwa: #IndonesiaMemanggil \\n5 Tahun An...</td>\n",
       "    </tr>\n",
       "    <tr>\n",
       "      <th>3</th>\n",
       "      <td>RT @aLy_Bima: Video ini hanya untuk orang yang...</td>\n",
       "    </tr>\n",
       "    <tr>\n",
       "      <th>4</th>\n",
       "      <td>RT @tempodotco: \"Tidak ringan permasalahan di ...</td>\n",
       "    </tr>\n",
       "    <tr>\n",
       "      <th>...</th>\n",
       "      <td>...</td>\n",
       "    </tr>\n",
       "    <tr>\n",
       "      <th>445</th>\n",
       "      <td>RT @Relawananies: Momen haru saat Anies Baswed...</td>\n",
       "    </tr>\n",
       "    <tr>\n",
       "      <th>446</th>\n",
       "      <td>@maspiyuaja Terima kasih om https://t.co/PUgr2...</td>\n",
       "    </tr>\n",
       "    <tr>\n",
       "      <th>447</th>\n",
       "      <td>RT @BosPurwa: #IndonesiaMemanggil \\n5 Tahun An...</td>\n",
       "    </tr>\n",
       "    <tr>\n",
       "      <th>448</th>\n",
       "      <td>RT @OposisiCerdas: Kamhar Lakumani Sebut Anies...</td>\n",
       "    </tr>\n",
       "    <tr>\n",
       "      <th>449</th>\n",
       "      <td>@GunRomli Bosmu ����� gak ngapa ngapain https:...</td>\n",
       "    </tr>\n",
       "  </tbody>\n",
       "</table>\n",
       "<p>450 rows × 1 columns</p>\n",
       "</div>"
      ],
      "text/plain": [
       "                                                 tweet\n",
       "0    @M45Broo_ Cebong benar2 panik luar biasa, ini ...\n",
       "1                @Relawananies https://t.co/uf5sE0iGLI\n",
       "2    RT @BosPurwa: #IndonesiaMemanggil \\n5 Tahun An...\n",
       "3    RT @aLy_Bima: Video ini hanya untuk orang yang...\n",
       "4    RT @tempodotco: \"Tidak ringan permasalahan di ...\n",
       "..                                                 ...\n",
       "445  RT @Relawananies: Momen haru saat Anies Baswed...\n",
       "446  @maspiyuaja Terima kasih om https://t.co/PUgr2...\n",
       "447  RT @BosPurwa: #IndonesiaMemanggil \\n5 Tahun An...\n",
       "448  RT @OposisiCerdas: Kamhar Lakumani Sebut Anies...\n",
       "449  @GunRomli Bosmu ����� gak ngapa ngapain https:...\n",
       "\n",
       "[450 rows x 1 columns]"
      ]
     },
     "execution_count": 58,
     "metadata": {},
     "output_type": "execute_result"
    }
   ],
   "source": [
    "# read new dataset\n",
    "import re\n",
    "import numpy as np\n",
    "import pandas as pd\n",
    "data = pd.read_csv('tweet2.csv')\n",
    "# menghapus kolom id\n",
    "data = data.drop(['id'], axis=1)\n",
    "\n",
    "data"
   ]
  },
  {
   "cell_type": "code",
   "execution_count": 59,
   "metadata": {},
   "outputs": [
    {
     "data": {
      "text/html": [
       "<div>\n",
       "<style scoped>\n",
       "    .dataframe tbody tr th:only-of-type {\n",
       "        vertical-align: middle;\n",
       "    }\n",
       "\n",
       "    .dataframe tbody tr th {\n",
       "        vertical-align: top;\n",
       "    }\n",
       "\n",
       "    .dataframe thead th {\n",
       "        text-align: right;\n",
       "    }\n",
       "</style>\n",
       "<table border=\"1\" class=\"dataframe\">\n",
       "  <thead>\n",
       "    <tr style=\"text-align: right;\">\n",
       "      <th></th>\n",
       "      <th>tweet</th>\n",
       "    </tr>\n",
       "  </thead>\n",
       "  <tbody>\n",
       "    <tr>\n",
       "      <th>0</th>\n",
       "      <td>wahhhaneksasi itu</td>\n",
       "    </tr>\n",
       "    <tr>\n",
       "      <th>1</th>\n",
       "      <td>indonesiamemanggil 5 tahun anies baswedan memi...</td>\n",
       "    </tr>\n",
       "    <tr>\n",
       "      <th>2</th>\n",
       "      <td>awas kena diare lagi om</td>\n",
       "    </tr>\n",
       "    <tr>\n",
       "      <th>3</th>\n",
       "      <td>anies baswedan duduk bareng elite parpol pks k...</td>\n",
       "    </tr>\n",
       "    <tr>\n",
       "      <th>4</th>\n",
       "      <td>kwekkwek</td>\n",
       "    </tr>\n",
       "    <tr>\n",
       "      <th>...</th>\n",
       "      <td>...</td>\n",
       "    </tr>\n",
       "    <tr>\n",
       "      <th>430</th>\n",
       "      <td>kwekkwek</td>\n",
       "    </tr>\n",
       "    <tr>\n",
       "      <th>431</th>\n",
       "      <td>bapak christoforus rea tokoh ummat katolik nam...</td>\n",
       "    </tr>\n",
       "    <tr>\n",
       "      <th>432</th>\n",
       "      <td>sejak kemarin anies baswedan bukan lagi gubern...</td>\n",
       "    </tr>\n",
       "    <tr>\n",
       "      <th>433</th>\n",
       "      <td>video ini hanya untuk orang yang belum tahu pr...</td>\n",
       "    </tr>\n",
       "    <tr>\n",
       "      <th>434</th>\n",
       "      <td>surya paloh optimistis nasdem dengan anies bas...</td>\n",
       "    </tr>\n",
       "  </tbody>\n",
       "</table>\n",
       "<p>435 rows × 1 columns</p>\n",
       "</div>"
      ],
      "text/plain": [
       "                                                 tweet\n",
       "0                                   wahhhaneksasi itu \n",
       "1    indonesiamemanggil 5 tahun anies baswedan memi...\n",
       "2                              awas kena diare lagi om\n",
       "3    anies baswedan duduk bareng elite parpol pks k...\n",
       "4                                            kwekkwek \n",
       "..                                                 ...\n",
       "430                                          kwekkwek \n",
       "431  bapak christoforus rea tokoh ummat katolik nam...\n",
       "432  sejak kemarin anies baswedan bukan lagi gubern...\n",
       "433  video ini hanya untuk orang yang belum tahu pr...\n",
       "434  surya paloh optimistis nasdem dengan anies bas...\n",
       "\n",
       "[435 rows x 1 columns]"
      ]
     },
     "execution_count": 59,
     "metadata": {},
     "output_type": "execute_result"
    }
   ],
   "source": [
    "# data preprocessing\n",
    "\n",
    "def tweetPrepocessing(text):\n",
    "  text = text.lower()\n",
    "  text = re.sub('\\n','', text)\n",
    "  text = re.sub('rt ','', text)\n",
    "  text = re.sub('#','', text)\n",
    "  text = re.sub('@\\w+(?:\\:)\\ ','', text)\n",
    "  text = re.sub(r'(?:\\@|http?\\://|https?\\://|www)\\S+','', text)\n",
    "  text = re.sub('[^a-zA-z0-9\\s]','', text)\n",
    "  text = re.sub('  ',' ', text)\n",
    "\n",
    "  if text == ' ':\n",
    "    return None\n",
    "\n",
    "  return text\n",
    "\n",
    "data = data.sample(frac=1)\n",
    "data['tweet'] = data['tweet'].apply(tweetPrepocessing)\n",
    "data.dropna(inplace=True)\n",
    "data.reset_index(drop=True, inplace = True)\n",
    "\n",
    "data"
   ]
  },
  {
   "cell_type": "code",
   "execution_count": 60,
   "metadata": {},
   "outputs": [
    {
     "name": "stdout",
     "output_type": "stream",
     "text": [
      "[[   0    0    0 ...    0  631   47]\n",
      " [   0    0    0 ...   41   42   43]\n",
      " [   0    0    0 ...  632   79  427]\n",
      " ...\n",
      " [   0    0    0 ...   51    7  265]\n",
      " [   0    0    0 ...   45    1    2]\n",
      " [   0    0    0 ...  150  220 1549]]\n"
     ]
    },
    {
     "data": {
      "text/plain": [
       "(435, 42)"
      ]
     },
     "execution_count": 60,
     "metadata": {},
     "output_type": "execute_result"
    }
   ],
   "source": [
    "from keras.preprocessing.text import Tokenizer\n",
    "from keras.utils import pad_sequences\n",
    "\n",
    "tokenizer = Tokenizer(num_words=5000, split=\" \")\n",
    "\n",
    "tokenizer.fit_on_texts(data['tweet'].values)\n",
    "X = tokenizer.texts_to_sequences(data['tweet'].values)\n",
    "X = pad_sequences(X)\n",
    "print(X)\n",
    "\n",
    "\n",
    "tokenizer.fit_on_texts(data['tweet'].values)\n",
    "\n",
    "X_new = tokenizer.texts_to_sequences(data['tweet'].values)\n",
    "X_new = pad_sequences(X_new)\n",
    "X_new.shape"
   ]
  },
  {
   "cell_type": "code",
   "execution_count": 61,
   "metadata": {},
   "outputs": [],
   "source": [
    "# load model\n",
    "from keras.models import Sequential, load_model\n",
    "mymodel = load_model('sentiment_analysis.h5')"
   ]
  },
  {
   "cell_type": "code",
   "execution_count": 64,
   "metadata": {},
   "outputs": [
    {
     "name": "stdout",
     "output_type": "stream",
     "text": [
      "14/14 [==============================] - 1s 50ms/step\n"
     ]
    }
   ],
   "source": [
    "# predict data\n",
    "\n",
    "pred = mymodel.predict(X_new)\n"
   ]
  },
  {
   "cell_type": "code",
   "execution_count": 66,
   "metadata": {},
   "outputs": [
    {
     "ename": "NameError",
     "evalue": "name 'y_pred' is not defined",
     "output_type": "error",
     "traceback": [
      "\u001b[0;31m---------------------------------------------------------------------------\u001b[0m",
      "\u001b[0;31mNameError\u001b[0m                                 Traceback (most recent call last)",
      "\u001b[0;32m/tmp/ipykernel_11742/2918348846.py\u001b[0m in \u001b[0;36m<module>\u001b[0;34m\u001b[0m\n\u001b[1;32m      1\u001b[0m \u001b[0;32mfrom\u001b[0m \u001b[0msklearn\u001b[0m\u001b[0;34m.\u001b[0m\u001b[0mmetrics\u001b[0m \u001b[0;32mimport\u001b[0m \u001b[0mconfusion_matrix\u001b[0m\u001b[0;34m\u001b[0m\u001b[0;34m\u001b[0m\u001b[0m\n\u001b[1;32m      2\u001b[0m \u001b[0;31m# Membuat Confusion Matrix\u001b[0m\u001b[0;34m\u001b[0m\u001b[0;34m\u001b[0m\u001b[0m\n\u001b[0;32m----> 3\u001b[0;31m \u001b[0mcm\u001b[0m \u001b[0;34m=\u001b[0m \u001b[0mconfusion_matrix\u001b[0m\u001b[0;34m(\u001b[0m\u001b[0my_test\u001b[0m\u001b[0;34m,\u001b[0m \u001b[0my_pred\u001b[0m\u001b[0;34m)\u001b[0m\u001b[0;34m\u001b[0m\u001b[0;34m\u001b[0m\u001b[0m\n\u001b[0m",
      "\u001b[0;31mNameError\u001b[0m: name 'y_pred' is not defined"
     ]
    }
   ],
   "source": []
  },
  {
   "cell_type": "code",
   "execution_count": 53,
   "metadata": {},
   "outputs": [],
   "source": [
    "# labelling\n",
    "\n",
    "def labelling(array):\n",
    "  labels = ['dukungan', 'netral', 'tidak mendukung']\n",
    "  output = []\n",
    "  for a in array:\n",
    "    output.append(labels[np.argmax(a)])\n",
    "  return output\n",
    "\n",
    "label = labelling(pred)"
   ]
  },
  {
   "cell_type": "code",
   "execution_count": null,
   "metadata": {},
   "outputs": [],
   "source": []
  },
  {
   "cell_type": "code",
   "execution_count": 54,
   "metadata": {},
   "outputs": [
    {
     "data": {
      "text/html": [
       "<div>\n",
       "<style scoped>\n",
       "    .dataframe tbody tr th:only-of-type {\n",
       "        vertical-align: middle;\n",
       "    }\n",
       "\n",
       "    .dataframe tbody tr th {\n",
       "        vertical-align: top;\n",
       "    }\n",
       "\n",
       "    .dataframe thead th {\n",
       "        text-align: right;\n",
       "    }\n",
       "</style>\n",
       "<table border=\"1\" class=\"dataframe\">\n",
       "  <thead>\n",
       "    <tr style=\"text-align: right;\">\n",
       "      <th></th>\n",
       "      <th>tweet</th>\n",
       "      <th>label</th>\n",
       "    </tr>\n",
       "  </thead>\n",
       "  <tbody>\n",
       "    <tr>\n",
       "      <th>0</th>\n",
       "      <td>kenduri rakyat jarnas anies baswedan yogyakart...</td>\n",
       "      <td>netral</td>\n",
       "    </tr>\n",
       "    <tr>\n",
       "      <th>1</th>\n",
       "      <td>brengsek anies baswedan gak bisa kerja sekaran...</td>\n",
       "      <td>netral</td>\n",
       "    </tr>\n",
       "    <tr>\n",
       "      <th>2</th>\n",
       "      <td>hanya pandai omdo ajakelebihan bayar dn php</td>\n",
       "      <td>netral</td>\n",
       "    </tr>\n",
       "    <tr>\n",
       "      <th>3</th>\n",
       "      <td>ketum partai gerindra prabowo subianto memilik...</td>\n",
       "      <td>tidak mendukung</td>\n",
       "    </tr>\n",
       "    <tr>\n",
       "      <th>4</th>\n",
       "      <td>indonesiamemanggil 5 tahun anies baswedan memi...</td>\n",
       "      <td>tidak mendukung</td>\n",
       "    </tr>\n",
       "    <tr>\n",
       "      <th>...</th>\n",
       "      <td>...</td>\n",
       "      <td>...</td>\n",
       "    </tr>\n",
       "    <tr>\n",
       "      <th>430</th>\n",
       "      <td>sinyal buat koalisi ak2412 oktoober 2022jender...</td>\n",
       "      <td>netral</td>\n",
       "    </tr>\n",
       "    <tr>\n",
       "      <th>431</th>\n",
       "      <td>janji anies baswedan menjadi jancukkepulauan b...</td>\n",
       "      <td>dukungan</td>\n",
       "    </tr>\n",
       "    <tr>\n",
       "      <th>432</th>\n",
       "      <td>kenapa disaat last lap pencitraan</td>\n",
       "      <td>tidak mendukung</td>\n",
       "    </tr>\n",
       "    <tr>\n",
       "      <th>433</th>\n",
       "      <td>partai koalisi pemerintah 82 suaranya di parle...</td>\n",
       "      <td>dukungan</td>\n",
       "    </tr>\n",
       "    <tr>\n",
       "      <th>434</th>\n",
       "      <td>wow ada babilungeh</td>\n",
       "      <td>tidak mendukung</td>\n",
       "    </tr>\n",
       "  </tbody>\n",
       "</table>\n",
       "<p>435 rows × 2 columns</p>\n",
       "</div>"
      ],
      "text/plain": [
       "                                                 tweet            label\n",
       "0    kenduri rakyat jarnas anies baswedan yogyakart...           netral\n",
       "1    brengsek anies baswedan gak bisa kerja sekaran...           netral\n",
       "2         hanya pandai omdo ajakelebihan bayar dn php            netral\n",
       "3    ketum partai gerindra prabowo subianto memilik...  tidak mendukung\n",
       "4    indonesiamemanggil 5 tahun anies baswedan memi...  tidak mendukung\n",
       "..                                                 ...              ...\n",
       "430  sinyal buat koalisi ak2412 oktoober 2022jender...           netral\n",
       "431  janji anies baswedan menjadi jancukkepulauan b...         dukungan\n",
       "432                 kenapa disaat last lap pencitraan   tidak mendukung\n",
       "433  partai koalisi pemerintah 82 suaranya di parle...         dukungan\n",
       "434                                 wow ada babilungeh  tidak mendukung\n",
       "\n",
       "[435 rows x 2 columns]"
      ]
     },
     "execution_count": 54,
     "metadata": {},
     "output_type": "execute_result"
    }
   ],
   "source": [
    "# add label to data\n",
    "\n",
    "data['label'] = label\n",
    "\n",
    "data"
   ]
  },
  {
   "cell_type": "code",
   "execution_count": 43,
   "metadata": {},
   "outputs": [],
   "source": [
    "# save to new csv\n",
    "\n",
    "data.to_csv('tweet2_new.csv', index=False)"
   ]
  },
  {
   "cell_type": "code",
   "execution_count": null,
   "metadata": {},
   "outputs": [],
   "source": []
  },
  {
   "cell_type": "code",
   "execution_count": null,
   "metadata": {},
   "outputs": [],
   "source": []
  },
  {
   "cell_type": "code",
   "execution_count": null,
   "metadata": {},
   "outputs": [],
   "source": []
  },
  {
   "cell_type": "code",
   "execution_count": null,
   "metadata": {},
   "outputs": [],
   "source": []
  },
  {
   "cell_type": "code",
   "execution_count": null,
   "metadata": {},
   "outputs": [],
   "source": []
  }
 ],
 "metadata": {
  "kernelspec": {
   "display_name": "Python 3 (ipykernel)",
   "language": "python",
   "name": "python3"
  },
  "language_info": {
   "codemirror_mode": {
    "name": "ipython",
    "version": 3
   },
   "file_extension": ".py",
   "mimetype": "text/x-python",
   "name": "python",
   "nbconvert_exporter": "python",
   "pygments_lexer": "ipython3",
   "version": "3.9.7"
  },
  "vscode": {
   "interpreter": {
    "hash": "65e2cb4ba52f491d98b9dab0c6a41d622f0e8e62820fe5497205364b0533bb9e"
   }
  }
 },
 "nbformat": 4,
 "nbformat_minor": 2
}
