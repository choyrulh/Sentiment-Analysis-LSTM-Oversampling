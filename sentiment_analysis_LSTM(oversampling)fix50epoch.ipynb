{
 "cells": [
  {
   "cell_type": "code",
   "execution_count": 1,
   "metadata": {},
   "outputs": [
    {
     "name": "stderr",
     "output_type": "stream",
     "text": [
      "2023-02-05 18:40:05.490946: I tensorflow/core/platform/cpu_feature_guard.cc:193] This TensorFlow binary is optimized with oneAPI Deep Neural Network Library (oneDNN) to use the following CPU instructions in performance-critical operations:  AVX2 FMA\n",
      "To enable them in other operations, rebuild TensorFlow with the appropriate compiler flags.\n",
      "2023-02-05 18:40:09.762296: W tensorflow/compiler/xla/stream_executor/platform/default/dso_loader.cc:64] Could not load dynamic library 'libcudart.so.11.0'; dlerror: libcudart.so.11.0: cannot open shared object file: No such file or directory\n",
      "2023-02-05 18:40:09.762382: I tensorflow/compiler/xla/stream_executor/cuda/cudart_stub.cc:29] Ignore above cudart dlerror if you do not have a GPU set up on your machine.\n",
      "2023-02-05 18:40:21.333109: W tensorflow/compiler/xla/stream_executor/platform/default/dso_loader.cc:64] Could not load dynamic library 'libnvinfer.so.7'; dlerror: libnvinfer.so.7: cannot open shared object file: No such file or directory\n",
      "2023-02-05 18:40:21.334134: W tensorflow/compiler/xla/stream_executor/platform/default/dso_loader.cc:64] Could not load dynamic library 'libnvinfer_plugin.so.7'; dlerror: libnvinfer_plugin.so.7: cannot open shared object file: No such file or directory\n",
      "2023-02-05 18:40:21.334185: W tensorflow/compiler/tf2tensorrt/utils/py_utils.cc:38] TF-TRT Warning: Cannot dlopen some TensorRT libraries. If you would like to use Nvidia GPU with TensorRT, please make sure the missing libraries mentioned above are installed properly.\n"
     ]
    }
   ],
   "source": [
    "import re\n",
    "import numpy as np\n",
    "import pandas as pd\n",
    "from sklearn.model_selection import train_test_split\n",
    "import matplotlib.pyplot as plt\n",
    "\n",
    "from keras.models import Sequential, load_model\n",
    "from keras.layers import Dense, LSTM, Embedding, Dropout\n",
    "from keras.preprocessing.text import Tokenizer\n",
    "from keras.utils import pad_sequences"
   ]
  },
  {
   "cell_type": "markdown",
   "metadata": {},
   "source": [
    "## Data Preprocessing"
   ]
  },
  {
   "cell_type": "code",
   "execution_count": 2,
   "metadata": {},
   "outputs": [
    {
     "data": {
      "text/html": [
       "<div>\n",
       "<style scoped>\n",
       "    .dataframe tbody tr th:only-of-type {\n",
       "        vertical-align: middle;\n",
       "    }\n",
       "\n",
       "    .dataframe tbody tr th {\n",
       "        vertical-align: top;\n",
       "    }\n",
       "\n",
       "    .dataframe thead th {\n",
       "        text-align: right;\n",
       "    }\n",
       "</style>\n",
       "<table border=\"1\" class=\"dataframe\">\n",
       "  <thead>\n",
       "    <tr style=\"text-align: right;\">\n",
       "      <th></th>\n",
       "      <th>tweet</th>\n",
       "      <th>label</th>\n",
       "    </tr>\n",
       "  </thead>\n",
       "  <tbody>\n",
       "    <tr>\n",
       "      <th>237</th>\n",
       "      <td>NaN</td>\n",
       "      <td>NaN</td>\n",
       "    </tr>\n",
       "    <tr>\n",
       "      <th>731</th>\n",
       "      <td>NaN</td>\n",
       "      <td>NaN</td>\n",
       "    </tr>\n",
       "    <tr>\n",
       "      <th>1288</th>\n",
       "      <td>candrasmara program gak bermanfaat buat rakyat...</td>\n",
       "      <td>tidak mendukung</td>\n",
       "    </tr>\n",
       "    <tr>\n",
       "      <th>265</th>\n",
       "      <td>takut lho ya ke anies</td>\n",
       "      <td>pujian</td>\n",
       "    </tr>\n",
       "    <tr>\n",
       "      <th>1298</th>\n",
       "      <td>pilpres di bisa jadi adalah pilpres paling sim...</td>\n",
       "      <td>netral</td>\n",
       "    </tr>\n",
       "    <tr>\n",
       "      <th>...</th>\n",
       "      <td>...</td>\n",
       "      <td>...</td>\n",
       "    </tr>\n",
       "    <tr>\n",
       "      <th>825</th>\n",
       "      <td>NaN</td>\n",
       "      <td>NaN</td>\n",
       "    </tr>\n",
       "    <tr>\n",
       "      <th>450</th>\n",
       "      <td>NaN</td>\n",
       "      <td>NaN</td>\n",
       "    </tr>\n",
       "    <tr>\n",
       "      <th>306</th>\n",
       "      <td>sikap pp mendukung anies baswedan sudah tepat...</td>\n",
       "      <td>dukungan</td>\n",
       "    </tr>\n",
       "    <tr>\n",
       "      <th>1182</th>\n",
       "      <td>masyarakat jakarta telah muak dengan pembodoha...</td>\n",
       "      <td>hujatan</td>\n",
       "    </tr>\n",
       "    <tr>\n",
       "      <th>1022</th>\n",
       "      <td>bapak christoforus rea tokoh ummat katolik nam...</td>\n",
       "      <td>pujian</td>\n",
       "    </tr>\n",
       "  </tbody>\n",
       "</table>\n",
       "<p>1739 rows × 2 columns</p>\n",
       "</div>"
      ],
      "text/plain": [
       "                                                  tweet            label\n",
       "237                                                 NaN              NaN\n",
       "731                                                 NaN              NaN\n",
       "1288  candrasmara program gak bermanfaat buat rakyat...  tidak mendukung\n",
       "265                               takut lho ya ke anies           pujian\n",
       "1298  pilpres di bisa jadi adalah pilpres paling sim...           netral\n",
       "...                                                 ...              ...\n",
       "825                                                 NaN              NaN\n",
       "450                                                 NaN              NaN\n",
       "306    sikap pp mendukung anies baswedan sudah tepat...         dukungan\n",
       "1182  masyarakat jakarta telah muak dengan pembodoha...          hujatan\n",
       "1022  bapak christoforus rea tokoh ummat katolik nam...           pujian\n",
       "\n",
       "[1739 rows x 2 columns]"
      ]
     },
     "execution_count": 2,
     "metadata": {},
     "output_type": "execute_result"
    }
   ],
   "source": [
    "# read dataset\n",
    "\n",
    "dt = pd.read_csv('data_train.csv')\n",
    "dt = dt.sample(frac=1)\n",
    "\n",
    "dt"
   ]
  },
  {
   "cell_type": "code",
   "execution_count": 3,
   "metadata": {},
   "outputs": [
    {
     "data": {
      "text/html": [
       "<div>\n",
       "<style scoped>\n",
       "    .dataframe tbody tr th:only-of-type {\n",
       "        vertical-align: middle;\n",
       "    }\n",
       "\n",
       "    .dataframe tbody tr th {\n",
       "        vertical-align: top;\n",
       "    }\n",
       "\n",
       "    .dataframe thead th {\n",
       "        text-align: right;\n",
       "    }\n",
       "</style>\n",
       "<table border=\"1\" class=\"dataframe\">\n",
       "  <thead>\n",
       "    <tr style=\"text-align: right;\">\n",
       "      <th></th>\n",
       "      <th>tweet</th>\n",
       "      <th>label</th>\n",
       "    </tr>\n",
       "  </thead>\n",
       "  <tbody>\n",
       "    <tr>\n",
       "      <th>1288</th>\n",
       "      <td>candrasmara program gak bermanfaat buat rakyat...</td>\n",
       "      <td>tidak mendukung</td>\n",
       "    </tr>\n",
       "    <tr>\n",
       "      <th>265</th>\n",
       "      <td>takut lho ya ke anies</td>\n",
       "      <td>pujian</td>\n",
       "    </tr>\n",
       "    <tr>\n",
       "      <th>1298</th>\n",
       "      <td>pilpres di bisa jadi adalah pilpres paling sim...</td>\n",
       "      <td>netral</td>\n",
       "    </tr>\n",
       "    <tr>\n",
       "      <th>276</th>\n",
       "      <td>surya paloh hari ini resmi mengumumkan anies ...</td>\n",
       "      <td>dukungan</td>\n",
       "    </tr>\n",
       "    <tr>\n",
       "      <th>404</th>\n",
       "      <td>amin semoga alloh meridhoi</td>\n",
       "      <td>dukungan</td>\n",
       "    </tr>\n",
       "    <tr>\n",
       "      <th>...</th>\n",
       "      <td>...</td>\n",
       "      <td>...</td>\n",
       "    </tr>\n",
       "    <tr>\n",
       "      <th>993</th>\n",
       "      <td>alisyarief nah harus gitu gonggongan mu njing ...</td>\n",
       "      <td>hujatan</td>\n",
       "    </tr>\n",
       "    <tr>\n",
       "      <th>1486</th>\n",
       "      <td>nasdem yg sembrono itu tahun dan makanya persa...</td>\n",
       "      <td>hujatan</td>\n",
       "    </tr>\n",
       "    <tr>\n",
       "      <th>306</th>\n",
       "      <td>sikap pp mendukung anies baswedan sudah tepat...</td>\n",
       "      <td>dukungan</td>\n",
       "    </tr>\n",
       "    <tr>\n",
       "      <th>1182</th>\n",
       "      <td>masyarakat jakarta telah muak dengan pembodoha...</td>\n",
       "      <td>hujatan</td>\n",
       "    </tr>\n",
       "    <tr>\n",
       "      <th>1022</th>\n",
       "      <td>bapak christoforus rea tokoh ummat katolik nam...</td>\n",
       "      <td>pujian</td>\n",
       "    </tr>\n",
       "  </tbody>\n",
       "</table>\n",
       "<p>1236 rows × 2 columns</p>\n",
       "</div>"
      ],
      "text/plain": [
       "                                                  tweet            label\n",
       "1288  candrasmara program gak bermanfaat buat rakyat...  tidak mendukung\n",
       "265                               takut lho ya ke anies           pujian\n",
       "1298  pilpres di bisa jadi adalah pilpres paling sim...           netral\n",
       "276    surya paloh hari ini resmi mengumumkan anies ...         dukungan\n",
       "404                          amin semoga alloh meridhoi         dukungan\n",
       "...                                                 ...              ...\n",
       "993   alisyarief nah harus gitu gonggongan mu njing ...          hujatan\n",
       "1486  nasdem yg sembrono itu tahun dan makanya persa...          hujatan\n",
       "306    sikap pp mendukung anies baswedan sudah tepat...         dukungan\n",
       "1182  masyarakat jakarta telah muak dengan pembodoha...          hujatan\n",
       "1022  bapak christoforus rea tokoh ummat katolik nam...           pujian\n",
       "\n",
       "[1236 rows x 2 columns]"
      ]
     },
     "execution_count": 3,
     "metadata": {},
     "output_type": "execute_result"
    }
   ],
   "source": [
    "# delete NaN data\n",
    "dt.dropna(inplace=True)\n",
    "\n",
    "dt"
   ]
  },
  {
   "cell_type": "code",
   "execution_count": 4,
   "metadata": {},
   "outputs": [],
   "source": [
    "# update label\n",
    "\n",
    "dt['label'] = dt['label'].replace({'pujian':'dukungan', 'hujatan':'tidak mendukung'})"
   ]
  },
  {
   "cell_type": "code",
   "execution_count": null,
   "metadata": {},
   "outputs": [],
   "source": []
  },
  {
   "cell_type": "markdown",
   "metadata": {},
   "source": [
    "## Data Preparation"
   ]
  },
  {
   "cell_type": "code",
   "execution_count": 5,
   "metadata": {},
   "outputs": [
    {
     "data": {
      "text/plain": [
       "dukungan           569\n",
       "tidak mendukung    486\n",
       "netral             181\n",
       "Name: label, dtype: int64"
      ]
     },
     "execution_count": 5,
     "metadata": {},
     "output_type": "execute_result"
    },
    {
     "data": {
      "image/png": "[encoded data removed]",
      "text/plain": [
       "<Figure size 432x288 with 1 Axes>"
      ]
     },
     "metadata": {
      "needs_background": "light"
     },
     "output_type": "display_data"
    }
   ],
   "source": [
    "# visualize data\n",
    "\n",
    "dt['label'].value_counts().sort_index().plot.bar()\n",
    "dt['label'].value_counts()"
   ]
  },
  {
   "cell_type": "markdown",
   "metadata": {},
   "source": [
    "# Oversampling"
   ]
  },
  {
   "cell_type": "code",
   "execution_count": 6,
   "metadata": {},
   "outputs": [],
   "source": [
    "minority_class = 'netral'\n",
    "num_samples_to_oversample = dt['label'].value_counts()['dukungan'] - dt['label'].value_counts()[minority_class]"
   ]
  },
  {
   "cell_type": "code",
   "execution_count": 7,
   "metadata": {},
   "outputs": [],
   "source": [
    "minority_df = dt[dt['label'] == minority_class]"
   ]
  },
  {
   "cell_type": "code",
   "execution_count": 8,
   "metadata": {},
   "outputs": [],
   "source": [
    "oversampled_df = minority_df.sample(num_samples_to_oversample, replace=True)\n"
   ]
  },
  {
   "cell_type": "code",
   "execution_count": 9,
   "metadata": {},
   "outputs": [],
   "source": [
    "dt = pd.concat([dt, oversampled_df])"
   ]
  },
  {
   "cell_type": "code",
   "execution_count": 10,
   "metadata": {},
   "outputs": [],
   "source": [
    "minority_class = 'tidak mendukung'\n",
    "num_samples_to_oversample = dt['label'].value_counts()['dukungan'] - dt['label'].value_counts()[minority_class]"
   ]
  },
  {
   "cell_type": "code",
   "execution_count": 11,
   "metadata": {},
   "outputs": [],
   "source": [
    "minority_df = dt[dt['label'] == minority_class]"
   ]
  },
  {
   "cell_type": "code",
   "execution_count": 12,
   "metadata": {},
   "outputs": [],
   "source": [
    "oversampled_df = minority_df.sample(num_samples_to_oversample, replace=True)"
   ]
  },
  {
   "cell_type": "code",
   "execution_count": 13,
   "metadata": {},
   "outputs": [],
   "source": [
    "dt = pd.concat([dt, oversampled_df])"
   ]
  },
  {
   "cell_type": "code",
   "execution_count": 14,
   "metadata": {},
   "outputs": [
    {
     "data": {
      "text/plain": [
       "tidak mendukung    569\n",
       "dukungan           569\n",
       "netral             569\n",
       "Name: label, dtype: int64"
      ]
     },
     "execution_count": 14,
     "metadata": {},
     "output_type": "execute_result"
    },
    {
     "data": {
      "image/png": "[encoded data removed]",
      "text/plain": [
       "<Figure size 432x288 with 1 Axes>"
      ]
     },
     "metadata": {
      "needs_background": "light"
     },
     "output_type": "display_data"
    }
   ],
   "source": [
    "dt['label'].value_counts().sort_index().plot.bar()\n",
    "dt['label'].value_counts()"
   ]
  },
  {
   "cell_type": "code",
   "execution_count": 15,
   "metadata": {},
   "outputs": [
    {
     "name": "stdout",
     "output_type": "stream",
     "text": [
      "[[   0    0    0 ...  816    6  699]\n",
      " [   0    0    0 ...   22   41    1]\n",
      " [   0    0    0 ...  818 1236 1237]\n",
      " ...\n",
      " [   0    0    0 ... 2220 2221 2222]\n",
      " [   0    0    0 ...  195 2294    1]\n",
      " [   0    0    0 ... 1794 1045  313]]\n"
     ]
    }
   ],
   "source": [
    "# tokenizer text\n",
    "\n",
    "tokenizer = Tokenizer(num_words=5000, split=\" \")\n",
    "\n",
    "tokenizer.fit_on_texts(dt['tweet'].values)\n",
    "X = tokenizer.texts_to_sequences(dt['tweet'].values)\n",
    "X = pad_sequences(X)\n",
    "print(X)"
   ]
  },
  {
   "cell_type": "code",
   "execution_count": 16,
   "metadata": {},
   "outputs": [
    {
     "data": {
      "text/plain": [
       "array([[0, 0, 1],\n",
       "       [1, 0, 0],\n",
       "       [0, 1, 0],\n",
       "       ...,\n",
       "       [0, 0, 1],\n",
       "       [0, 0, 1],\n",
       "       [0, 0, 1]], dtype=uint8)"
      ]
     },
     "execution_count": 16,
     "metadata": {},
     "output_type": "execute_result"
    }
   ],
   "source": [
    "# get label\n",
    "\n",
    "y = pd.get_dummies(dt['label']).values\n",
    "y"
   ]
  },
  {
   "cell_type": "code",
   "execution_count": 17,
   "metadata": {},
   "outputs": [
    {
     "name": "stdout",
     "output_type": "stream",
     "text": [
      "(1707, 3)\n"
     ]
    }
   ],
   "source": [
    "print(y.shape)"
   ]
  },
  {
   "cell_type": "code",
   "execution_count": null,
   "metadata": {},
   "outputs": [],
   "source": []
  },
  {
   "cell_type": "code",
   "execution_count": 18,
   "metadata": {},
   "outputs": [
    {
     "name": "stdout",
     "output_type": "stream",
     "text": [
      "(1365, 51)\n",
      "(342, 51)\n"
     ]
    }
   ],
   "source": [
    "# split dataset smote tanpa menggunakan tokenizing\n",
    "\n",
    "X_train, X_test, y_train, y_test = train_test_split(X, y, test_size=0.2, random_state=0)\n",
    "\n",
    "print(X_train.shape)\n",
    "print(X_test.shape)"
   ]
  },
  {
   "cell_type": "markdown",
   "metadata": {},
   "source": [
    "## Training Model"
   ]
  },
  {
   "cell_type": "code",
   "execution_count": 19,
   "metadata": {},
   "outputs": [
    {
     "name": "stderr",
     "output_type": "stream",
     "text": [
      "2023-02-05 18:40:37.682608: W tensorflow/compiler/xla/stream_executor/platform/default/dso_loader.cc:64] Could not load dynamic library 'libcudart.so.11.0'; dlerror: libcudart.so.11.0: cannot open shared object file: No such file or directory\n",
      "2023-02-05 18:40:37.682713: W tensorflow/compiler/xla/stream_executor/platform/default/dso_loader.cc:64] Could not load dynamic library 'libcublas.so.11'; dlerror: libcublas.so.11: cannot open shared object file: No such file or directory\n",
      "2023-02-05 18:40:37.682790: W tensorflow/compiler/xla/stream_executor/platform/default/dso_loader.cc:64] Could not load dynamic library 'libcublasLt.so.11'; dlerror: libcublasLt.so.11: cannot open shared object file: No such file or directory\n",
      "2023-02-05 18:40:37.682862: W tensorflow/compiler/xla/stream_executor/platform/default/dso_loader.cc:64] Could not load dynamic library 'libcufft.so.10'; dlerror: libcufft.so.10: cannot open shared object file: No such file or directory\n",
      "2023-02-05 18:40:37.682932: W tensorflow/compiler/xla/stream_executor/platform/default/dso_loader.cc:64] Could not load dynamic library 'libcurand.so.10'; dlerror: libcurand.so.10: cannot open shared object file: No such file or directory\n",
      "2023-02-05 18:40:37.683003: W tensorflow/compiler/xla/stream_executor/platform/default/dso_loader.cc:64] Could not load dynamic library 'libcusolver.so.11'; dlerror: libcusolver.so.11: cannot open shared object file: No such file or directory\n",
      "2023-02-05 18:40:37.683072: W tensorflow/compiler/xla/stream_executor/platform/default/dso_loader.cc:64] Could not load dynamic library 'libcusparse.so.11'; dlerror: libcusparse.so.11: cannot open shared object file: No such file or directory\n",
      "2023-02-05 18:40:37.683143: W tensorflow/compiler/xla/stream_executor/platform/default/dso_loader.cc:64] Could not load dynamic library 'libcudnn.so.8'; dlerror: libcudnn.so.8: cannot open shared object file: No such file or directory\n",
      "2023-02-05 18:40:37.683158: W tensorflow/core/common_runtime/gpu/gpu_device.cc:1934] Cannot dlopen some GPU libraries. Please make sure the missing libraries mentioned above are installed properly if you would like to use GPU. Follow the guide at https://www.tensorflow.org/install/gpu for how to download and setup the required libraries for your platform.\n",
      "Skipping registering GPU devices...\n",
      "2023-02-05 18:40:37.683412: I tensorflow/core/platform/cpu_feature_guard.cc:193] This TensorFlow binary is optimized with oneAPI Deep Neural Network Library (oneDNN) to use the following CPU instructions in performance-critical operations:  AVX2 FMA\n",
      "To enable them in other operations, rebuild TensorFlow with the appropriate compiler flags.\n"
     ]
    },
    {
     "name": "stdout",
     "output_type": "stream",
     "text": [
      "Model: \"sequential\"\n",
      "_________________________________________________________________\n",
      " Layer (type)                Output Shape              Param #   \n",
      "=================================================================\n",
      " embedding (Embedding)       (None, None, 256)         1280000   \n",
      "                                                                 \n",
      " dropout (Dropout)           (None, None, 256)         0         \n",
      "                                                                 \n",
      " lstm (LSTM)                 (None, None, 256)         525312    \n",
      "                                                                 \n",
      " lstm_1 (LSTM)               (None, 256)               525312    \n",
      "                                                                 \n",
      " dense (Dense)               (None, 3)                 771       \n",
      "                                                                 \n",
      "=================================================================\n",
      "Total params: 2,331,395\n",
      "Trainable params: 2,331,395\n",
      "Non-trainable params: 0\n",
      "_________________________________________________________________\n"
     ]
    }
   ],
   "source": [
    "# LSTM Modelling\n",
    "\n",
    "model = Sequential()\n",
    "model.add(Embedding(5000, 256))\n",
    "model.add(Dropout(0.3))\n",
    "model.add(LSTM(256, return_sequences=True, dropout=0.3, recurrent_dropout=0.2))\n",
    "model.add(LSTM(256, dropout=0.3, recurrent_dropout=0.2))\n",
    "model.add(Dense(3, activation='softmax'))\n",
    "model.compile(loss='categorical_crossentropy', optimizer='adam', metrics=['accuracy'])\n",
    "model.summary()"
   ]
  },
  {
   "cell_type": "code",
   "execution_count": null,
   "metadata": {},
   "outputs": [],
   "source": []
  },
  {
   "cell_type": "code",
   "execution_count": 20,
   "metadata": {},
   "outputs": [],
   "source": [
    "import seaborn as sns\n",
    "import matplotlib.pyplot as plt"
   ]
  },
  {
   "cell_type": "code",
   "execution_count": 21,
   "metadata": {},
   "outputs": [
    {
     "name": "stdout",
     "output_type": "stream",
     "text": [
      "Epoch 1/50\n",
      "43/43 - 42s - loss: 1.0539 - accuracy: 0.4220 - val_loss: 0.9555 - val_accuracy: 0.5936 - 42s/epoch - 977ms/step\n",
      "Epoch 2/50\n",
      "43/43 - 20s - loss: 0.6345 - accuracy: 0.7524 - val_loss: 0.6582 - val_accuracy: 0.6988 - 20s/epoch - 468ms/step\n",
      "Epoch 3/50\n",
      "43/43 - 16s - loss: 0.2470 - accuracy: 0.9070 - val_loss: 0.5596 - val_accuracy: 0.7807 - 16s/epoch - 377ms/step\n",
      "Epoch 4/50\n",
      "43/43 - 23s - loss: 0.1120 - accuracy: 0.9626 - val_loss: 0.5481 - val_accuracy: 0.8070 - 23s/epoch - 535ms/step\n",
      "Epoch 5/50\n",
      "43/43 - 27s - loss: 0.0599 - accuracy: 0.9817 - val_loss: 0.6927 - val_accuracy: 0.8129 - 27s/epoch - 635ms/step\n",
      "Epoch 6/50\n",
      "43/43 - 28s - loss: 0.0345 - accuracy: 0.9883 - val_loss: 0.7052 - val_accuracy: 0.7953 - 28s/epoch - 656ms/step\n",
      "Epoch 7/50\n",
      "43/43 - 29s - loss: 0.0331 - accuracy: 0.9905 - val_loss: 0.6853 - val_accuracy: 0.7982 - 29s/epoch - 670ms/step\n",
      "Epoch 8/50\n",
      "43/43 - 29s - loss: 0.0212 - accuracy: 0.9949 - val_loss: 0.8094 - val_accuracy: 0.7865 - 29s/epoch - 671ms/step\n",
      "Epoch 9/50\n",
      "43/43 - 29s - loss: 0.0259 - accuracy: 0.9919 - val_loss: 0.6959 - val_accuracy: 0.8129 - 29s/epoch - 679ms/step\n",
      "Epoch 10/50\n",
      "43/43 - 29s - loss: 0.0129 - accuracy: 0.9971 - val_loss: 0.7604 - val_accuracy: 0.8158 - 29s/epoch - 681ms/step\n",
      "Epoch 11/50\n",
      "43/43 - 30s - loss: 0.0104 - accuracy: 0.9971 - val_loss: 0.8254 - val_accuracy: 0.7807 - 30s/epoch - 690ms/step\n",
      "Epoch 12/50\n",
      "43/43 - 29s - loss: 0.0104 - accuracy: 0.9978 - val_loss: 0.7980 - val_accuracy: 0.7807 - 29s/epoch - 675ms/step\n",
      "Epoch 13/50\n",
      "43/43 - 30s - loss: 0.0082 - accuracy: 0.9985 - val_loss: 0.8683 - val_accuracy: 0.7778 - 30s/epoch - 696ms/step\n",
      "Epoch 14/50\n",
      "43/43 - 30s - loss: 0.0089 - accuracy: 0.9971 - val_loss: 0.8464 - val_accuracy: 0.7836 - 30s/epoch - 696ms/step\n",
      "Epoch 15/50\n",
      "43/43 - 30s - loss: 0.0080 - accuracy: 0.9985 - val_loss: 0.8339 - val_accuracy: 0.7719 - 30s/epoch - 702ms/step\n",
      "Epoch 16/50\n",
      "43/43 - 30s - loss: 0.0078 - accuracy: 0.9978 - val_loss: 0.8804 - val_accuracy: 0.7661 - 30s/epoch - 704ms/step\n",
      "Epoch 17/50\n",
      "43/43 - 31s - loss: 0.0063 - accuracy: 0.9985 - val_loss: 0.9595 - val_accuracy: 0.7661 - 31s/epoch - 709ms/step\n",
      "Epoch 18/50\n",
      "43/43 - 31s - loss: 0.0055 - accuracy: 0.9985 - val_loss: 0.9022 - val_accuracy: 0.7690 - 31s/epoch - 719ms/step\n",
      "Epoch 19/50\n",
      "43/43 - 31s - loss: 0.0069 - accuracy: 0.9985 - val_loss: 0.9113 - val_accuracy: 0.7719 - 31s/epoch - 716ms/step\n",
      "Epoch 20/50\n",
      "43/43 - 31s - loss: 0.0088 - accuracy: 0.9978 - val_loss: 0.9435 - val_accuracy: 0.7602 - 31s/epoch - 715ms/step\n",
      "Epoch 21/50\n",
      "43/43 - 31s - loss: 0.0065 - accuracy: 0.9978 - val_loss: 1.0272 - val_accuracy: 0.7895 - 31s/epoch - 715ms/step\n",
      "Epoch 22/50\n",
      "43/43 - 31s - loss: 0.0260 - accuracy: 0.9897 - val_loss: 0.8071 - val_accuracy: 0.7339 - 31s/epoch - 716ms/step\n",
      "Epoch 23/50\n",
      "43/43 - 31s - loss: 0.0189 - accuracy: 0.9934 - val_loss: 0.9569 - val_accuracy: 0.7339 - 31s/epoch - 721ms/step\n",
      "Epoch 24/50\n",
      "43/43 - 31s - loss: 0.0292 - accuracy: 0.9912 - val_loss: 0.8049 - val_accuracy: 0.7778 - 31s/epoch - 724ms/step\n",
      "Epoch 25/50\n",
      "43/43 - 32s - loss: 0.0115 - accuracy: 0.9978 - val_loss: 0.8715 - val_accuracy: 0.7895 - 32s/epoch - 733ms/step\n",
      "Epoch 26/50\n",
      "43/43 - 31s - loss: 0.0392 - accuracy: 0.9912 - val_loss: 0.8656 - val_accuracy: 0.7632 - 31s/epoch - 728ms/step\n",
      "Epoch 27/50\n",
      "43/43 - 31s - loss: 0.0236 - accuracy: 0.9934 - val_loss: 0.8532 - val_accuracy: 0.7778 - 31s/epoch - 732ms/step\n",
      "Epoch 28/50\n",
      "43/43 - 31s - loss: 0.0175 - accuracy: 0.9949 - val_loss: 0.8043 - val_accuracy: 0.8012 - 31s/epoch - 722ms/step\n",
      "Epoch 29/50\n",
      "43/43 - 31s - loss: 0.0062 - accuracy: 0.9971 - val_loss: 0.9237 - val_accuracy: 0.7778 - 31s/epoch - 726ms/step\n",
      "Epoch 30/50\n",
      "43/43 - 31s - loss: 0.0068 - accuracy: 0.9985 - val_loss: 0.8522 - val_accuracy: 0.7807 - 31s/epoch - 725ms/step\n",
      "Epoch 31/50\n",
      "43/43 - 31s - loss: 0.0057 - accuracy: 0.9978 - val_loss: 0.9246 - val_accuracy: 0.7719 - 31s/epoch - 727ms/step\n",
      "Epoch 32/50\n",
      "43/43 - 31s - loss: 0.0053 - accuracy: 0.9985 - val_loss: 0.9343 - val_accuracy: 0.7690 - 31s/epoch - 730ms/step\n",
      "Epoch 33/50\n",
      "43/43 - 33s - loss: 0.0040 - accuracy: 0.9985 - val_loss: 0.9498 - val_accuracy: 0.7749 - 33s/epoch - 775ms/step\n",
      "Epoch 34/50\n",
      "43/43 - 31s - loss: 0.0076 - accuracy: 0.9985 - val_loss: 0.9433 - val_accuracy: 0.7807 - 31s/epoch - 713ms/step\n",
      "Epoch 35/50\n",
      "43/43 - 31s - loss: 0.0065 - accuracy: 0.9978 - val_loss: 0.9375 - val_accuracy: 0.7778 - 31s/epoch - 715ms/step\n",
      "Epoch 36/50\n",
      "43/43 - 30s - loss: 0.0055 - accuracy: 0.9985 - val_loss: 1.0022 - val_accuracy: 0.7632 - 30s/epoch - 701ms/step\n",
      "Epoch 37/50\n",
      "43/43 - 30s - loss: 0.0047 - accuracy: 0.9985 - val_loss: 0.9459 - val_accuracy: 0.7895 - 30s/epoch - 696ms/step\n",
      "Epoch 38/50\n",
      "43/43 - 29s - loss: 0.0075 - accuracy: 0.9978 - val_loss: 1.0685 - val_accuracy: 0.7485 - 29s/epoch - 686ms/step\n",
      "Epoch 39/50\n",
      "43/43 - 30s - loss: 0.0059 - accuracy: 0.9985 - val_loss: 0.9616 - val_accuracy: 0.7602 - 30s/epoch - 690ms/step\n",
      "Epoch 40/50\n",
      "43/43 - 30s - loss: 0.0044 - accuracy: 0.9985 - val_loss: 1.0419 - val_accuracy: 0.7632 - 30s/epoch - 687ms/step\n",
      "Epoch 41/50\n",
      "43/43 - 29s - loss: 0.0048 - accuracy: 0.9985 - val_loss: 1.0450 - val_accuracy: 0.7661 - 29s/epoch - 685ms/step\n",
      "Epoch 42/50\n",
      "43/43 - 29s - loss: 0.0046 - accuracy: 0.9985 - val_loss: 1.0610 - val_accuracy: 0.7661 - 29s/epoch - 685ms/step\n",
      "Epoch 43/50\n",
      "43/43 - 29s - loss: 0.0047 - accuracy: 0.9985 - val_loss: 1.0414 - val_accuracy: 0.7719 - 29s/epoch - 685ms/step\n",
      "Epoch 44/50\n",
      "43/43 - 29s - loss: 0.0044 - accuracy: 0.9985 - val_loss: 1.0444 - val_accuracy: 0.7749 - 29s/epoch - 684ms/step\n",
      "Epoch 45/50\n",
      "43/43 - 29s - loss: 0.0054 - accuracy: 0.9985 - val_loss: 1.0432 - val_accuracy: 0.7749 - 29s/epoch - 684ms/step\n",
      "Epoch 46/50\n",
      "43/43 - 30s - loss: 0.0050 - accuracy: 0.9985 - val_loss: 1.0320 - val_accuracy: 0.7749 - 30s/epoch - 702ms/step\n",
      "Epoch 47/50\n",
      "43/43 - 29s - loss: 0.0049 - accuracy: 0.9985 - val_loss: 1.0451 - val_accuracy: 0.7778 - 29s/epoch - 686ms/step\n",
      "Epoch 48/50\n",
      "43/43 - 29s - loss: 0.0046 - accuracy: 0.9985 - val_loss: 1.0602 - val_accuracy: 0.7807 - 29s/epoch - 684ms/step\n",
      "Epoch 49/50\n",
      "43/43 - 29s - loss: 0.0041 - accuracy: 0.9985 - val_loss: 1.0658 - val_accuracy: 0.7865 - 29s/epoch - 682ms/step\n",
      "Epoch 50/50\n",
      "43/43 - 30s - loss: 0.0042 - accuracy: 0.9985 - val_loss: 1.0646 - val_accuracy: 0.7865 - 30s/epoch - 702ms/step\n"
     ]
    }
   ],
   "source": [
    "batch_size = 32\n",
    "epochs = 50\n",
    "\n",
    "history = model.fit(X_train, y_train, epochs=epochs, batch_size=batch_size, verbose=2, validation_data=(X_test, y_test))"
   ]
  },
  {
   "cell_type": "code",
   "execution_count": null,
   "metadata": {},
   "outputs": [],
   "source": [
    "# save model into file .h5\n",
    "\n",
    "model.save('sentiment_analysis.h5')"
   ]
  },
  {
   "cell_type": "code",
   "execution_count": 22,
   "metadata": {},
   "outputs": [],
   "source": [
    "# Mengambil data dari history pelatihan model\n",
    "train_loss = history.history['loss']\n",
    "val_loss = history.history['val_loss']\n",
    "train_acc = history.history['accuracy']\n",
    "val_acc = history.history['val_accuracy']"
   ]
  },
  {
   "cell_type": "code",
   "execution_count": 23,
   "metadata": {},
   "outputs": [
    {
     "data": {
      "text/plain": [
       "<Figure size 864x360 with 0 Axes>"
      ]
     },
     "metadata": {},
     "output_type": "display_data"
    }
   ],
   "source": [
    "# Membuat plot\n",
    "plt.figure(figsize=(12,5))\n",
    "sns.set_style(\"whitegrid\")"
   ]
  },
  {
   "cell_type": "code",
   "execution_count": 24,
   "metadata": {},
   "outputs": [
    {
     "data": {
      "text/plain": [
       "<matplotlib.legend.Legend at 0x7fcc0570e610>"
      ]
     },
     "execution_count": 24,
     "metadata": {},
     "output_type": "execute_result"
    },
    {
     "data": {
      "image/png": "[encoded data removed]",
      "text/plain": [
       "<Figure size 432x288 with 1 Axes>"
      ]
     },
     "metadata": {},
     "output_type": "display_data"
    }
   ],
   "source": [
    "plt.subplot(1,2,1)\n",
    "sns.lineplot(x=range(1,epochs+1), y=train_loss, label='Training Loss')\n",
    "sns.lineplot(x=range(1,epochs+1), y=val_loss, label='Validation Loss')\n",
    "plt.title('Loss')\n",
    "plt.xlabel('Epochs')\n",
    "plt.ylabel('Loss')\n",
    "plt.legend()"
   ]
  },
  {
   "cell_type": "code",
   "execution_count": 25,
   "metadata": {},
   "outputs": [
    {
     "data": {
      "image/png": "[encoded data removed]",
      "text/plain": [
       "<Figure size 432x288 with 1 Axes>"
      ]
     },
     "metadata": {},
     "output_type": "display_data"
    }
   ],
   "source": [
    "plt.subplot(1,2,2)\n",
    "sns.lineplot(x=range(1,epochs+1), y=train_acc, label='Training Accuracy')\n",
    "sns.lineplot(x=range(1,epochs+1), y=val_acc, label='Validation Accuracy')\n",
    "plt.title('Accuracy')\n",
    "plt.xlabel('Epochs')\n",
    "plt.ylabel('Accuracy')\n",
    "plt.legend()\n",
    "\n",
    "plt.show()"
   ]
  },
  {
   "cell_type": "code",
   "execution_count": 26,
   "metadata": {},
   "outputs": [
    {
     "name": "stdout",
     "output_type": "stream",
     "text": [
      "11/11 [==============================] - 3s 159ms/step\n",
      "              precision    recall  f1-score   support\n",
      "\n",
      "           0       0.84      0.68      0.75       120\n",
      "           1       0.74      0.96      0.84       102\n",
      "           2       0.79      0.74      0.77       120\n",
      "\n",
      "    accuracy                           0.79       342\n",
      "   macro avg       0.79      0.80      0.79       342\n",
      "weighted avg       0.79      0.79      0.78       342\n",
      "\n"
     ]
    }
   ],
   "source": [
    "from sklearn.metrics import classification_report\n",
    "\n",
    "y_pred = model.predict(X_test)\n",
    "y_pred = np.argmax(y_pred, axis=1)\n",
    "y_true = np.argmax(y_test, axis=1)\n",
    "print(classification_report(y_true, y_pred))"
   ]
  },
  {
   "cell_type": "code",
   "execution_count": 27,
   "metadata": {},
   "outputs": [
    {
     "name": "stdout",
     "output_type": "stream",
     "text": [
      "[[82 17 21]\n",
      " [ 2 98  2]\n",
      " [14 17 89]]\n"
     ]
    }
   ],
   "source": [
    "from sklearn.metrics import confusion_matrix\n",
    "\n",
    "conf_mat = confusion_matrix(y_true, y_pred)\n",
    "print(conf_mat)"
   ]
  },
  {
   "cell_type": "code",
   "execution_count": 28,
   "metadata": {},
   "outputs": [
    {
     "data": {
      "image/png": "[encoded data removed]",
      "text/plain": [
       "<Figure size 432x288 with 2 Axes>"
      ]
     },
     "metadata": {},
     "output_type": "display_data"
    }
   ],
   "source": [
    "sns.heatmap(conf_mat, annot=True, cmap='Blues', fmt='d')\n",
    "plt.title('Confusion Matrix')\n",
    "plt.xlabel('Predicted Label')\n",
    "plt.ylabel('True Label')\n",
    "plt.show()"
   ]
  },
  {
   "cell_type": "markdown",
   "metadata": {},
   "source": [
    "## Evaluate Model"
   ]
  },
  {
   "cell_type": "code",
   "execution_count": 29,
   "metadata": {},
   "outputs": [
    {
     "name": "stdout",
     "output_type": "stream",
     "text": [
      "11/11 - 2s - loss: 1.0646 - accuracy: 0.7865 - 2s/epoch - 160ms/step\n",
      "score: 1.06\n",
      "acc: 0.79\n"
     ]
    }
   ],
   "source": [
    "# evaluate model with data test\n",
    "\n",
    "score, acc = model.evaluate(X_test, y_test, verbose = 2, batch_size = batch_size)\n",
    "\n",
    "print(\"score: %.2f\" % (score))\n",
    "print(\"acc: %.2f\" % (acc))"
   ]
  },
  {
   "cell_type": "code",
   "execution_count": null,
   "metadata": {},
   "outputs": [],
   "source": []
  },
  {
   "cell_type": "markdown",
   "metadata": {},
   "source": [
    "## Predict New Dataset"
   ]
  },
  {
   "cell_type": "code",
   "execution_count": 30,
   "metadata": {},
   "outputs": [
    {
     "data": {
      "text/html": [
       "<div>\n",
       "<style scoped>\n",
       "    .dataframe tbody tr th:only-of-type {\n",
       "        vertical-align: middle;\n",
       "    }\n",
       "\n",
       "    .dataframe tbody tr th {\n",
       "        vertical-align: top;\n",
       "    }\n",
       "\n",
       "    .dataframe thead th {\n",
       "        text-align: right;\n",
       "    }\n",
       "</style>\n",
       "<table border=\"1\" class=\"dataframe\">\n",
       "  <thead>\n",
       "    <tr style=\"text-align: right;\">\n",
       "      <th></th>\n",
       "      <th>tweet</th>\n",
       "    </tr>\n",
       "  </thead>\n",
       "  <tbody>\n",
       "    <tr>\n",
       "      <th>0</th>\n",
       "      <td>@M45Broo_ Cebong benar2 panik luar biasa, ini ...</td>\n",
       "    </tr>\n",
       "    <tr>\n",
       "      <th>1</th>\n",
       "      <td>@Relawananies https://t.co/uf5sE0iGLI</td>\n",
       "    </tr>\n",
       "    <tr>\n",
       "      <th>2</th>\n",
       "      <td>RT @BosPurwa: #IndonesiaMemanggil \\n5 Tahun An...</td>\n",
       "    </tr>\n",
       "    <tr>\n",
       "      <th>3</th>\n",
       "      <td>RT @aLy_Bima: Video ini hanya untuk orang yang...</td>\n",
       "    </tr>\n",
       "    <tr>\n",
       "      <th>4</th>\n",
       "      <td>RT @tempodotco: \"Tidak ringan permasalahan di ...</td>\n",
       "    </tr>\n",
       "    <tr>\n",
       "      <th>...</th>\n",
       "      <td>...</td>\n",
       "    </tr>\n",
       "    <tr>\n",
       "      <th>445</th>\n",
       "      <td>RT @Relawananies: Momen haru saat Anies Baswed...</td>\n",
       "    </tr>\n",
       "    <tr>\n",
       "      <th>446</th>\n",
       "      <td>@maspiyuaja Terima kasih om https://t.co/PUgr2...</td>\n",
       "    </tr>\n",
       "    <tr>\n",
       "      <th>447</th>\n",
       "      <td>RT @BosPurwa: #IndonesiaMemanggil \\n5 Tahun An...</td>\n",
       "    </tr>\n",
       "    <tr>\n",
       "      <th>448</th>\n",
       "      <td>RT @OposisiCerdas: Kamhar Lakumani Sebut Anies...</td>\n",
       "    </tr>\n",
       "    <tr>\n",
       "      <th>449</th>\n",
       "      <td>@GunRomli Bosmu ����� gak ngapa ngapain https:...</td>\n",
       "    </tr>\n",
       "  </tbody>\n",
       "</table>\n",
       "<p>450 rows × 1 columns</p>\n",
       "</div>"
      ],
      "text/plain": [
       "                                                 tweet\n",
       "0    @M45Broo_ Cebong benar2 panik luar biasa, ini ...\n",
       "1                @Relawananies https://t.co/uf5sE0iGLI\n",
       "2    RT @BosPurwa: #IndonesiaMemanggil \\n5 Tahun An...\n",
       "3    RT @aLy_Bima: Video ini hanya untuk orang yang...\n",
       "4    RT @tempodotco: \"Tidak ringan permasalahan di ...\n",
       "..                                                 ...\n",
       "445  RT @Relawananies: Momen haru saat Anies Baswed...\n",
       "446  @maspiyuaja Terima kasih om https://t.co/PUgr2...\n",
       "447  RT @BosPurwa: #IndonesiaMemanggil \\n5 Tahun An...\n",
       "448  RT @OposisiCerdas: Kamhar Lakumani Sebut Anies...\n",
       "449  @GunRomli Bosmu ����� gak ngapa ngapain https:...\n",
       "\n",
       "[450 rows x 1 columns]"
      ]
     },
     "execution_count": 30,
     "metadata": {},
     "output_type": "execute_result"
    }
   ],
   "source": [
    "# read new dataset\n",
    "import re\n",
    "import numpy as np\n",
    "import pandas as pd\n",
    "data = pd.read_csv('tweet2.csv')\n",
    "# menghapus kolom id\n",
    "data = data.drop(['id'], axis=1)\n",
    "\n",
    "data"
   ]
  },
  {
   "cell_type": "code",
   "execution_count": 31,
   "metadata": {},
   "outputs": [
    {
     "data": {
      "text/html": [
       "<div>\n",
       "<style scoped>\n",
       "    .dataframe tbody tr th:only-of-type {\n",
       "        vertical-align: middle;\n",
       "    }\n",
       "\n",
       "    .dataframe tbody tr th {\n",
       "        vertical-align: top;\n",
       "    }\n",
       "\n",
       "    .dataframe thead th {\n",
       "        text-align: right;\n",
       "    }\n",
       "</style>\n",
       "<table border=\"1\" class=\"dataframe\">\n",
       "  <thead>\n",
       "    <tr style=\"text-align: right;\">\n",
       "      <th></th>\n",
       "      <th>tweet</th>\n",
       "    </tr>\n",
       "  </thead>\n",
       "  <tbody>\n",
       "    <tr>\n",
       "      <th>0</th>\n",
       "      <td>jalan beda heru budi dan anies baswedan di jak...</td>\n",
       "    </tr>\n",
       "    <tr>\n",
       "      <th>1</th>\n",
       "      <td>simpul relawan anies baswedan siap bersinergi ...</td>\n",
       "    </tr>\n",
       "    <tr>\n",
       "      <th>2</th>\n",
       "      <td>yang sabar ya buzz allah sedang menunjukkan ja...</td>\n",
       "    </tr>\n",
       "    <tr>\n",
       "      <th>3</th>\n",
       "      <td>gelar acara dukungan warga jateng ingin merasa...</td>\n",
       "    </tr>\n",
       "    <tr>\n",
       "      <th>4</th>\n",
       "      <td>awas ada give away baju shopee</td>\n",
       "    </tr>\n",
       "    <tr>\n",
       "      <th>...</th>\n",
       "      <td>...</td>\n",
       "    </tr>\n",
       "    <tr>\n",
       "      <th>430</th>\n",
       "      <td>gelar acara dukungan warga jateng ingin merasa...</td>\n",
       "    </tr>\n",
       "    <tr>\n",
       "      <th>431</th>\n",
       "      <td>kenduri rakyat jarnas anies baswedan memggelar...</td>\n",
       "    </tr>\n",
       "    <tr>\n",
       "      <th>432</th>\n",
       "      <td>warga kota makassar menyambut pelepasan gubern...</td>\n",
       "    </tr>\n",
       "    <tr>\n",
       "      <th>433</th>\n",
       "      <td>relawan jarnas di seluruh indonesia bergerak d...</td>\n",
       "    </tr>\n",
       "    <tr>\n",
       "      <th>434</th>\n",
       "      <td>gelar acara dukungan warga jateng ingin merasa...</td>\n",
       "    </tr>\n",
       "  </tbody>\n",
       "</table>\n",
       "<p>435 rows × 1 columns</p>\n",
       "</div>"
      ],
      "text/plain": [
       "                                                 tweet\n",
       "0    jalan beda heru budi dan anies baswedan di jak...\n",
       "1    simpul relawan anies baswedan siap bersinergi ...\n",
       "2    yang sabar ya buzz allah sedang menunjukkan ja...\n",
       "3    gelar acara dukungan warga jateng ingin merasa...\n",
       "4                      awas ada give away baju shopee \n",
       "..                                                 ...\n",
       "430  gelar acara dukungan warga jateng ingin merasa...\n",
       "431  kenduri rakyat jarnas anies baswedan memggelar...\n",
       "432  warga kota makassar menyambut pelepasan gubern...\n",
       "433  relawan jarnas di seluruh indonesia bergerak d...\n",
       "434  gelar acara dukungan warga jateng ingin merasa...\n",
       "\n",
       "[435 rows x 1 columns]"
      ]
     },
     "execution_count": 31,
     "metadata": {},
     "output_type": "execute_result"
    }
   ],
   "source": [
    "# data preprocessing\n",
    "\n",
    "def tweetPrepocessing(text):\n",
    "  text = text.lower()\n",
    "  text = re.sub('\\n','', text)\n",
    "  text = re.sub('rt ','', text)\n",
    "  text = re.sub('#','', text)\n",
    "  text = re.sub('@\\w+(?:\\:)\\ ','', text)\n",
    "  text = re.sub(r'(?:\\@|http?\\://|https?\\://|www)\\S+','', text)\n",
    "  text = re.sub('[^a-zA-z0-9\\s]','', text)\n",
    "  text = re.sub('  ',' ', text)\n",
    "\n",
    "  if text == ' ':\n",
    "    return None\n",
    "\n",
    "  return text\n",
    "\n",
    "data = data.sample(frac=1)\n",
    "data['tweet'] = data['tweet'].apply(tweetPrepocessing)\n",
    "data.dropna(inplace=True)\n",
    "data.reset_index(drop=True, inplace = True)\n",
    "\n",
    "data"
   ]
  },
  {
   "cell_type": "code",
   "execution_count": 32,
   "metadata": {},
   "outputs": [
    {
     "name": "stdout",
     "output_type": "stream",
     "text": [
      "[[  0   0   0 ...   1   2 631]\n",
      " [  0   0   0 ... 426 162 322]\n",
      " [  0   0   0 ...  33 640 218]\n",
      " ...\n",
      " [  0   0   0 ... 161  11 210]\n",
      " [  0   0   0 ...   3   8 296]\n",
      " [  0   0   0 ...  52   1   2]]\n"
     ]
    },
    {
     "data": {
      "text/plain": [
       "(435, 42)"
      ]
     },
     "execution_count": 32,
     "metadata": {},
     "output_type": "execute_result"
    }
   ],
   "source": [
    "from keras.preprocessing.text import Tokenizer\n",
    "from keras.utils import pad_sequences\n",
    "\n",
    "tokenizer = Tokenizer(num_words=5000, split=\" \")\n",
    "\n",
    "tokenizer.fit_on_texts(data['tweet'].values)\n",
    "X = tokenizer.texts_to_sequences(data['tweet'].values)\n",
    "X = pad_sequences(X)\n",
    "print(X)\n",
    "\n",
    "\n",
    "tokenizer.fit_on_texts(data['tweet'].values)\n",
    "\n",
    "X_new = tokenizer.texts_to_sequences(data['tweet'].values)\n",
    "X_new = pad_sequences(X_new)\n",
    "X_new.shape"
   ]
  },
  {
   "cell_type": "code",
   "execution_count": 33,
   "metadata": {},
   "outputs": [],
   "source": [
    "# load model\n",
    "from keras.models import Sequential, load_model\n",
    "mymodel = load_model('sentiment_analysis.h5')"
   ]
  },
  {
   "cell_type": "code",
   "execution_count": 34,
   "metadata": {},
   "outputs": [
    {
     "name": "stdout",
     "output_type": "stream",
     "text": [
      "14/14 [==============================] - 3s 121ms/step\n"
     ]
    }
   ],
   "source": [
    "# predict data\n",
    "\n",
    "pred = mymodel.predict(X_new)\n"
   ]
  },
  {
   "cell_type": "code",
   "execution_count": null,
   "metadata": {},
   "outputs": [],
   "source": []
  },
  {
   "cell_type": "code",
   "execution_count": 35,
   "metadata": {},
   "outputs": [],
   "source": [
    "# labelling\n",
    "\n",
    "def labelling(array):\n",
    "  labels = ['dukungan', 'netral', 'tidak mendukung']\n",
    "  output = []\n",
    "  for a in array:\n",
    "    output.append(labels[np.argmax(a)])\n",
    "  return output\n",
    "\n",
    "label = labelling(pred)"
   ]
  },
  {
   "cell_type": "code",
   "execution_count": null,
   "metadata": {},
   "outputs": [],
   "source": []
  },
  {
   "cell_type": "code",
   "execution_count": 36,
   "metadata": {},
   "outputs": [
    {
     "data": {
      "text/html": [
       "<div>\n",
       "<style scoped>\n",
       "    .dataframe tbody tr th:only-of-type {\n",
       "        vertical-align: middle;\n",
       "    }\n",
       "\n",
       "    .dataframe tbody tr th {\n",
       "        vertical-align: top;\n",
       "    }\n",
       "\n",
       "    .dataframe thead th {\n",
       "        text-align: right;\n",
       "    }\n",
       "</style>\n",
       "<table border=\"1\" class=\"dataframe\">\n",
       "  <thead>\n",
       "    <tr style=\"text-align: right;\">\n",
       "      <th></th>\n",
       "      <th>tweet</th>\n",
       "      <th>label</th>\n",
       "    </tr>\n",
       "  </thead>\n",
       "  <tbody>\n",
       "    <tr>\n",
       "      <th>0</th>\n",
       "      <td>jalan beda heru budi dan anies baswedan di jak...</td>\n",
       "      <td>tidak mendukung</td>\n",
       "    </tr>\n",
       "    <tr>\n",
       "      <th>1</th>\n",
       "      <td>simpul relawan anies baswedan siap bersinergi ...</td>\n",
       "      <td>dukungan</td>\n",
       "    </tr>\n",
       "    <tr>\n",
       "      <th>2</th>\n",
       "      <td>yang sabar ya buzz allah sedang menunjukkan ja...</td>\n",
       "      <td>dukungan</td>\n",
       "    </tr>\n",
       "    <tr>\n",
       "      <th>3</th>\n",
       "      <td>gelar acara dukungan warga jateng ingin merasa...</td>\n",
       "      <td>dukungan</td>\n",
       "    </tr>\n",
       "    <tr>\n",
       "      <th>4</th>\n",
       "      <td>awas ada give away baju shopee</td>\n",
       "      <td>dukungan</td>\n",
       "    </tr>\n",
       "    <tr>\n",
       "      <th>...</th>\n",
       "      <td>...</td>\n",
       "      <td>...</td>\n",
       "    </tr>\n",
       "    <tr>\n",
       "      <th>430</th>\n",
       "      <td>gelar acara dukungan warga jateng ingin merasa...</td>\n",
       "      <td>dukungan</td>\n",
       "    </tr>\n",
       "    <tr>\n",
       "      <th>431</th>\n",
       "      <td>kenduri rakyat jarnas anies baswedan memggelar...</td>\n",
       "      <td>dukungan</td>\n",
       "    </tr>\n",
       "    <tr>\n",
       "      <th>432</th>\n",
       "      <td>warga kota makassar menyambut pelepasan gubern...</td>\n",
       "      <td>dukungan</td>\n",
       "    </tr>\n",
       "    <tr>\n",
       "      <th>433</th>\n",
       "      <td>relawan jarnas di seluruh indonesia bergerak d...</td>\n",
       "      <td>dukungan</td>\n",
       "    </tr>\n",
       "    <tr>\n",
       "      <th>434</th>\n",
       "      <td>gelar acara dukungan warga jateng ingin merasa...</td>\n",
       "      <td>dukungan</td>\n",
       "    </tr>\n",
       "  </tbody>\n",
       "</table>\n",
       "<p>435 rows × 2 columns</p>\n",
       "</div>"
      ],
      "text/plain": [
       "                                                 tweet            label\n",
       "0    jalan beda heru budi dan anies baswedan di jak...  tidak mendukung\n",
       "1    simpul relawan anies baswedan siap bersinergi ...         dukungan\n",
       "2    yang sabar ya buzz allah sedang menunjukkan ja...         dukungan\n",
       "3    gelar acara dukungan warga jateng ingin merasa...         dukungan\n",
       "4                      awas ada give away baju shopee          dukungan\n",
       "..                                                 ...              ...\n",
       "430  gelar acara dukungan warga jateng ingin merasa...         dukungan\n",
       "431  kenduri rakyat jarnas anies baswedan memggelar...         dukungan\n",
       "432  warga kota makassar menyambut pelepasan gubern...         dukungan\n",
       "433  relawan jarnas di seluruh indonesia bergerak d...         dukungan\n",
       "434  gelar acara dukungan warga jateng ingin merasa...         dukungan\n",
       "\n",
       "[435 rows x 2 columns]"
      ]
     },
     "execution_count": 36,
     "metadata": {},
     "output_type": "execute_result"
    }
   ],
   "source": [
    "# add label to data\n",
    "\n",
    "data['label'] = label\n",
    "\n",
    "data"
   ]
  },
  {
   "cell_type": "code",
   "execution_count": 43,
   "metadata": {},
   "outputs": [],
   "source": [
    "# save to new csv\n",
    "\n",
    "data.to_csv('tweet2_new.csv', index=False)"
   ]
  },
  {
   "cell_type": "code",
   "execution_count": null,
   "metadata": {},
   "outputs": [],
   "source": []
  },
  {
   "cell_type": "code",
   "execution_count": null,
   "metadata": {},
   "outputs": [],
   "source": []
  },
  {
   "cell_type": "code",
   "execution_count": null,
   "metadata": {},
   "outputs": [],
   "source": []
  },
  {
   "cell_type": "code",
   "execution_count": null,
   "metadata": {},
   "outputs": [],
   "source": []
  },
  {
   "cell_type": "code",
   "execution_count": null,
   "metadata": {},
   "outputs": [],
   "source": []
  }
 ],
 "metadata": {
  "kernelspec": {
   "display_name": "Python 3 (ipykernel)",
   "language": "python",
   "name": "python3"
  },
  "language_info": {
   "codemirror_mode": {
    "name": "ipython",
    "version": 3
   },
   "file_extension": ".py",
   "mimetype": "text/x-python",
   "name": "python",
   "nbconvert_exporter": "python",
   "pygments_lexer": "ipython3",
   "version": "3.9.7"
  },
  "vscode": {
   "interpreter": {
    "hash": "65e2cb4ba52f491d98b9dab0c6a41d622f0e8e62820fe5497205364b0533bb9e"
   }
  }
 },
 "nbformat": 4,
 "nbformat_minor": 2
}
