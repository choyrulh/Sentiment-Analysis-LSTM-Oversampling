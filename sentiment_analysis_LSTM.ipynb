{
 "cells": [
  {
   "cell_type": "code",
   "execution_count": 1,
   "metadata": {},
   "outputs": [
    {
     "name": "stderr",
     "output_type": "stream",
     "text": [
      "2023-02-04 23:13:27.953448: I tensorflow/core/platform/cpu_feature_guard.cc:193] This TensorFlow binary is optimized with oneAPI Deep Neural Network Library (oneDNN) to use the following CPU instructions in performance-critical operations:  AVX2 FMA\n",
      "To enable them in other operations, rebuild TensorFlow with the appropriate compiler flags.\n",
      "2023-02-04 23:13:32.364959: W tensorflow/compiler/xla/stream_executor/platform/default/dso_loader.cc:64] Could not load dynamic library 'libcudart.so.11.0'; dlerror: libcudart.so.11.0: cannot open shared object file: No such file or directory\n",
      "2023-02-04 23:13:32.365029: I tensorflow/compiler/xla/stream_executor/cuda/cudart_stub.cc:29] Ignore above cudart dlerror if you do not have a GPU set up on your machine.\n",
      "2023-02-04 23:13:43.440527: W tensorflow/compiler/xla/stream_executor/platform/default/dso_loader.cc:64] Could not load dynamic library 'libnvinfer.so.7'; dlerror: libnvinfer.so.7: cannot open shared object file: No such file or directory\n",
      "2023-02-04 23:13:43.440940: W tensorflow/compiler/xla/stream_executor/platform/default/dso_loader.cc:64] Could not load dynamic library 'libnvinfer_plugin.so.7'; dlerror: libnvinfer_plugin.so.7: cannot open shared object file: No such file or directory\n",
      "2023-02-04 23:13:43.440979: W tensorflow/compiler/tf2tensorrt/utils/py_utils.cc:38] TF-TRT Warning: Cannot dlopen some TensorRT libraries. If you would like to use Nvidia GPU with TensorRT, please make sure the missing libraries mentioned above are installed properly.\n"
     ]
    }
   ],
   "source": [
    "import re\n",
    "import numpy as np\n",
    "import pandas as pd\n",
    "from sklearn.model_selection import train_test_split\n",
    "import matplotlib.pyplot as plt\n",
    "\n",
    "from keras.models import Sequential, load_model\n",
    "from keras.layers import Dense, LSTM, Embedding, Dropout\n",
    "from keras.preprocessing.text import Tokenizer\n",
    "from keras.utils import pad_sequences"
   ]
  },
  {
   "cell_type": "markdown",
   "metadata": {},
   "source": [
    "## Data Preprocessing"
   ]
  },
  {
   "cell_type": "code",
   "execution_count": 28,
   "metadata": {},
   "outputs": [
    {
     "data": {
      "text/html": [
       "<div>\n",
       "<style scoped>\n",
       "    .dataframe tbody tr th:only-of-type {\n",
       "        vertical-align: middle;\n",
       "    }\n",
       "\n",
       "    .dataframe tbody tr th {\n",
       "        vertical-align: top;\n",
       "    }\n",
       "\n",
       "    .dataframe thead th {\n",
       "        text-align: right;\n",
       "    }\n",
       "</style>\n",
       "<table border=\"1\" class=\"dataframe\">\n",
       "  <thead>\n",
       "    <tr style=\"text-align: right;\">\n",
       "      <th></th>\n",
       "      <th>tweet</th>\n",
       "      <th>label</th>\n",
       "    </tr>\n",
       "  </thead>\n",
       "  <tbody>\n",
       "    <tr>\n",
       "      <th>693</th>\n",
       "      <td></td>\n",
       "      <td>NaN</td>\n",
       "    </tr>\n",
       "    <tr>\n",
       "      <th>1489</th>\n",
       "      <td>NaN</td>\n",
       "      <td>NaN</td>\n",
       "    </tr>\n",
       "    <tr>\n",
       "      <th>81</th>\n",
       "      <td>andi arif juga bilang pdip menawarkan capres ...</td>\n",
       "      <td>tidak mendukung</td>\n",
       "    </tr>\n",
       "    <tr>\n",
       "      <th>815</th>\n",
       "      <td>jelas deh siapa yg bakal jd lawan</td>\n",
       "      <td>NaN</td>\n",
       "    </tr>\n",
       "    <tr>\n",
       "      <th>409</th>\n",
       "      <td>waras id coattail effect positif akan dirasak...</td>\n",
       "      <td>dukungan</td>\n",
       "    </tr>\n",
       "    <tr>\n",
       "      <th>...</th>\n",
       "      <td>...</td>\n",
       "      <td>...</td>\n",
       "    </tr>\n",
       "    <tr>\n",
       "      <th>699</th>\n",
       "      <td>NaN</td>\n",
       "      <td>NaN</td>\n",
       "    </tr>\n",
       "    <tr>\n",
       "      <th>455</th>\n",
       "      <td>pengumuman resmi disampaikan langsung oleh ke...</td>\n",
       "      <td>netral</td>\n",
       "    </tr>\n",
       "    <tr>\n",
       "      <th>327</th>\n",
       "      <td>insyaallah anies ri 1</td>\n",
       "      <td>dukungan</td>\n",
       "    </tr>\n",
       "    <tr>\n",
       "      <th>764</th>\n",
       "      <td>ummad islam memang benar wajib memilih pemimp...</td>\n",
       "      <td>dukungan</td>\n",
       "    </tr>\n",
       "    <tr>\n",
       "      <th>1060</th>\n",
       "      <td>dimaki pendemo di depan muka anies baswedan di...</td>\n",
       "      <td>pujian</td>\n",
       "    </tr>\n",
       "  </tbody>\n",
       "</table>\n",
       "<p>1739 rows × 2 columns</p>\n",
       "</div>"
      ],
      "text/plain": [
       "                                                  tweet            label\n",
       "693                                                                  NaN\n",
       "1489                                                NaN              NaN\n",
       "81     andi arif juga bilang pdip menawarkan capres ...  tidak mendukung\n",
       "815                  jelas deh siapa yg bakal jd lawan               NaN\n",
       "409    waras id coattail effect positif akan dirasak...         dukungan\n",
       "...                                                 ...              ...\n",
       "699                                                 NaN              NaN\n",
       "455    pengumuman resmi disampaikan langsung oleh ke...           netral\n",
       "327                               insyaallah anies ri 1         dukungan\n",
       "764    ummad islam memang benar wajib memilih pemimp...         dukungan\n",
       "1060  dimaki pendemo di depan muka anies baswedan di...           pujian\n",
       "\n",
       "[1739 rows x 2 columns]"
      ]
     },
     "execution_count": 28,
     "metadata": {},
     "output_type": "execute_result"
    }
   ],
   "source": [
    "# read dataset\n",
    "\n",
    "dt = pd.read_csv('data_train.csv')\n",
    "dt = dt.sample(frac=1)\n",
    "\n",
    "dt"
   ]
  },
  {
   "cell_type": "code",
   "execution_count": 29,
   "metadata": {},
   "outputs": [
    {
     "data": {
      "text/html": [
       "<div>\n",
       "<style scoped>\n",
       "    .dataframe tbody tr th:only-of-type {\n",
       "        vertical-align: middle;\n",
       "    }\n",
       "\n",
       "    .dataframe tbody tr th {\n",
       "        vertical-align: top;\n",
       "    }\n",
       "\n",
       "    .dataframe thead th {\n",
       "        text-align: right;\n",
       "    }\n",
       "</style>\n",
       "<table border=\"1\" class=\"dataframe\">\n",
       "  <thead>\n",
       "    <tr style=\"text-align: right;\">\n",
       "      <th></th>\n",
       "      <th>tweet</th>\n",
       "      <th>label</th>\n",
       "    </tr>\n",
       "  </thead>\n",
       "  <tbody>\n",
       "    <tr>\n",
       "      <th>81</th>\n",
       "      <td>andi arif juga bilang pdip menawarkan capres ...</td>\n",
       "      <td>tidak mendukung</td>\n",
       "    </tr>\n",
       "    <tr>\n",
       "      <th>409</th>\n",
       "      <td>waras id coattail effect positif akan dirasak...</td>\n",
       "      <td>dukungan</td>\n",
       "    </tr>\n",
       "    <tr>\n",
       "      <th>964</th>\n",
       "      <td>kita lihat strategi apa yang bakal digunakan d...</td>\n",
       "      <td>netral</td>\n",
       "    </tr>\n",
       "    <tr>\n",
       "      <th>1513</th>\n",
       "      <td>ferdinandhutah nasdem mumpung blm makin hancur...</td>\n",
       "      <td>tidak mendukung</td>\n",
       "    </tr>\n",
       "    <tr>\n",
       "      <th>78</th>\n",
       "      <td>jadi kalau ketua dprd dengan sekda kompak ins...</td>\n",
       "      <td>netral</td>\n",
       "    </tr>\n",
       "    <tr>\n",
       "      <th>...</th>\n",
       "      <td>...</td>\n",
       "      <td>...</td>\n",
       "    </tr>\n",
       "    <tr>\n",
       "      <th>1439</th>\n",
       "      <td>nasdem jangan jadi pdip apa kata ketum diangga...</td>\n",
       "      <td>tidak mendukung</td>\n",
       "    </tr>\n",
       "    <tr>\n",
       "      <th>455</th>\n",
       "      <td>pengumuman resmi disampaikan langsung oleh ke...</td>\n",
       "      <td>netral</td>\n",
       "    </tr>\n",
       "    <tr>\n",
       "      <th>327</th>\n",
       "      <td>insyaallah anies ri 1</td>\n",
       "      <td>dukungan</td>\n",
       "    </tr>\n",
       "    <tr>\n",
       "      <th>764</th>\n",
       "      <td>ummad islam memang benar wajib memilih pemimp...</td>\n",
       "      <td>dukungan</td>\n",
       "    </tr>\n",
       "    <tr>\n",
       "      <th>1060</th>\n",
       "      <td>dimaki pendemo di depan muka anies baswedan di...</td>\n",
       "      <td>pujian</td>\n",
       "    </tr>\n",
       "  </tbody>\n",
       "</table>\n",
       "<p>1236 rows × 2 columns</p>\n",
       "</div>"
      ],
      "text/plain": [
       "                                                  tweet            label\n",
       "81     andi arif juga bilang pdip menawarkan capres ...  tidak mendukung\n",
       "409    waras id coattail effect positif akan dirasak...         dukungan\n",
       "964   kita lihat strategi apa yang bakal digunakan d...           netral\n",
       "1513  ferdinandhutah nasdem mumpung blm makin hancur...  tidak mendukung\n",
       "78     jadi kalau ketua dprd dengan sekda kompak ins...           netral\n",
       "...                                                 ...              ...\n",
       "1439  nasdem jangan jadi pdip apa kata ketum diangga...  tidak mendukung\n",
       "455    pengumuman resmi disampaikan langsung oleh ke...           netral\n",
       "327                               insyaallah anies ri 1         dukungan\n",
       "764    ummad islam memang benar wajib memilih pemimp...         dukungan\n",
       "1060  dimaki pendemo di depan muka anies baswedan di...           pujian\n",
       "\n",
       "[1236 rows x 2 columns]"
      ]
     },
     "execution_count": 29,
     "metadata": {},
     "output_type": "execute_result"
    }
   ],
   "source": [
    "# delete NaN data\n",
    "dt.dropna(inplace=True)\n",
    "\n",
    "dt"
   ]
  },
  {
   "cell_type": "code",
   "execution_count": 30,
   "metadata": {},
   "outputs": [
    {
     "data": {
      "text/plain": [
       "dukungan           569\n",
       "tidak mendukung    486\n",
       "netral             181\n",
       "Name: label, dtype: int64"
      ]
     },
     "execution_count": 30,
     "metadata": {},
     "output_type": "execute_result"
    }
   ],
   "source": [
    "# update label\n",
    "\n",
    "dt['label'] = dt['label'].replace({'pujian':'dukungan', 'hujatan':'tidak mendukung'})\n",
    "\n",
    "dt['label'].value_counts()"
   ]
  },
  {
   "cell_type": "markdown",
   "metadata": {},
   "source": [
    "## Data Preparation"
   ]
  },
  {
   "cell_type": "code",
   "execution_count": null,
   "metadata": {},
   "outputs": [],
   "source": []
  },
  {
   "cell_type": "code",
   "execution_count": 31,
   "metadata": {},
   "outputs": [
    {
     "data": {
      "text/plain": [
       "<AxesSubplot:>"
      ]
     },
     "execution_count": 31,
     "metadata": {},
     "output_type": "execute_result"
    },
    {
     "data": {
      "image/png": "[encoded data removed]",
      "text/plain": [
       "<Figure size 432x288 with 1 Axes>"
      ]
     },
     "metadata": {
      "needs_background": "light"
     },
     "output_type": "display_data"
    }
   ],
   "source": [
    "# visualize data\n",
    "\n",
    "dt['label'].value_counts().sort_index().plot.bar()"
   ]
  },
  {
   "cell_type": "code",
   "execution_count": null,
   "metadata": {},
   "outputs": [],
   "source": []
  },
  {
   "cell_type": "code",
   "execution_count": 32,
   "metadata": {},
   "outputs": [
    {
     "name": "stdout",
     "output_type": "stream",
     "text": [
      "[[   0    0    0 ... 1864 1865  835]\n",
      " [   0    0    0 ...  335  217   36]\n",
      " [   0    0    0 ...   29 1868 1124]\n",
      " ...\n",
      " [   0    0    0 ...    1   37  382]\n",
      " [   0    0    0 ... 1861 4595   31]\n",
      " [   0    0    0 ...    2 1829 4597]]\n"
     ]
    }
   ],
   "source": [
    "# tokenizer text\n",
    "\n",
    "tokenizer = Tokenizer(num_words=5000, split=\" \")\n",
    "\n",
    "tokenizer.fit_on_texts(dt['tweet'].values)\n",
    "X = tokenizer.texts_to_sequences(dt['tweet'].values)\n",
    "X = pad_sequences(X)\n",
    "print(X)"
   ]
  },
  {
   "cell_type": "code",
   "execution_count": 33,
   "metadata": {},
   "outputs": [
    {
     "data": {
      "text/plain": [
       "array([[0, 0, 1],\n",
       "       [1, 0, 0],\n",
       "       [0, 1, 0],\n",
       "       ...,\n",
       "       [1, 0, 0],\n",
       "       [1, 0, 0],\n",
       "       [1, 0, 0]], dtype=uint8)"
      ]
     },
     "execution_count": 33,
     "metadata": {},
     "output_type": "execute_result"
    }
   ],
   "source": [
    "# get label\n",
    "\n",
    "y = pd.get_dummies(dt['label']).values\n",
    "y"
   ]
  },
  {
   "cell_type": "code",
   "execution_count": 34,
   "metadata": {},
   "outputs": [
    {
     "name": "stdout",
     "output_type": "stream",
     "text": [
      "(988, 51)\n",
      "(248, 51)\n"
     ]
    }
   ],
   "source": [
    "# split dataset\n",
    "\n",
    "X_train, X_test, y_train, y_test = train_test_split(X, y, test_size=0.2, random_state=0)\n",
    "\n",
    "print(X_train.shape)\n",
    "print(X_test.shape)"
   ]
  },
  {
   "cell_type": "markdown",
   "metadata": {},
   "source": [
    "## Training Model"
   ]
  },
  {
   "cell_type": "code",
   "execution_count": 35,
   "metadata": {},
   "outputs": [
    {
     "name": "stdout",
     "output_type": "stream",
     "text": [
      "Model: \"sequential_2\"\n",
      "_________________________________________________________________\n",
      " Layer (type)                Output Shape              Param #   \n",
      "=================================================================\n",
      " embedding_2 (Embedding)     (None, None, 256)         1280000   \n",
      "                                                                 \n",
      " dropout_2 (Dropout)         (None, None, 256)         0         \n",
      "                                                                 \n",
      " lstm_4 (LSTM)               (None, None, 256)         525312    \n",
      "                                                                 \n",
      " lstm_5 (LSTM)               (None, 256)               525312    \n",
      "                                                                 \n",
      " dense_2 (Dense)             (None, 3)                 771       \n",
      "                                                                 \n",
      "=================================================================\n",
      "Total params: 2,331,395\n",
      "Trainable params: 2,331,395\n",
      "Non-trainable params: 0\n",
      "_________________________________________________________________\n"
     ]
    }
   ],
   "source": [
    "# LSTM Modelling\n",
    "\n",
    "model = Sequential()\n",
    "model.add(Embedding(5000, 256))\n",
    "model.add(Dropout(0.3))\n",
    "model.add(LSTM(256, return_sequences=True, dropout=0.3, recurrent_dropout=0.2))\n",
    "model.add(LSTM(256, dropout=0.3, recurrent_dropout=0.2))\n",
    "model.add(Dense(3, activation='softmax'))\n",
    "model.compile(loss='categorical_crossentropy', optimizer='adam', metrics=['accuracy'])\n",
    "model.summary()"
   ]
  },
  {
   "cell_type": "code",
   "execution_count": 36,
   "metadata": {},
   "outputs": [
    {
     "name": "stdout",
     "output_type": "stream",
     "text": [
      "Epoch 1/25\n",
      "31/31 - 18s - loss: 1.0087 - accuracy: 0.5020 - val_loss: 0.8783 - val_accuracy: 0.5968 - 18s/epoch - 567ms/step\n",
      "Epoch 2/25\n",
      "31/31 - 12s - loss: 0.7905 - accuracy: 0.6842 - val_loss: 0.7859 - val_accuracy: 0.6855 - 12s/epoch - 386ms/step\n",
      "Epoch 3/25\n",
      "31/31 - 12s - loss: 0.4839 - accuracy: 0.8026 - val_loss: 0.8821 - val_accuracy: 0.6532 - 12s/epoch - 380ms/step\n",
      "Epoch 4/25\n",
      "31/31 - 13s - loss: 0.2791 - accuracy: 0.9099 - val_loss: 0.9228 - val_accuracy: 0.7016 - 13s/epoch - 427ms/step\n",
      "Epoch 5/25\n",
      "31/31 - 14s - loss: 0.1153 - accuracy: 0.9626 - val_loss: 1.2446 - val_accuracy: 0.6452 - 14s/epoch - 437ms/step\n",
      "Epoch 6/25\n",
      "31/31 - 12s - loss: 0.0934 - accuracy: 0.9757 - val_loss: 1.1576 - val_accuracy: 0.6492 - 12s/epoch - 390ms/step\n",
      "Epoch 7/25\n",
      "31/31 - 12s - loss: 0.0672 - accuracy: 0.9798 - val_loss: 1.0819 - val_accuracy: 0.6210 - 12s/epoch - 390ms/step\n",
      "Epoch 8/25\n",
      "31/31 - 14s - loss: 0.0491 - accuracy: 0.9868 - val_loss: 1.2039 - val_accuracy: 0.6613 - 14s/epoch - 442ms/step\n",
      "Epoch 9/25\n",
      "31/31 - 13s - loss: 0.0294 - accuracy: 0.9929 - val_loss: 1.3414 - val_accuracy: 0.6411 - 13s/epoch - 419ms/step\n",
      "Epoch 10/25\n",
      "31/31 - 12s - loss: 0.0199 - accuracy: 0.9949 - val_loss: 1.3708 - val_accuracy: 0.6492 - 12s/epoch - 395ms/step\n",
      "Epoch 11/25\n",
      "31/31 - 13s - loss: 0.0093 - accuracy: 0.9990 - val_loss: 1.5429 - val_accuracy: 0.6371 - 13s/epoch - 404ms/step\n",
      "Epoch 12/25\n",
      "31/31 - 12s - loss: 0.0079 - accuracy: 0.9990 - val_loss: 1.6329 - val_accuracy: 0.6573 - 12s/epoch - 391ms/step\n",
      "Epoch 13/25\n",
      "31/31 - 12s - loss: 0.0103 - accuracy: 0.9949 - val_loss: 1.5348 - val_accuracy: 0.6492 - 12s/epoch - 393ms/step\n",
      "Epoch 14/25\n",
      "31/31 - 15s - loss: 0.0096 - accuracy: 0.9970 - val_loss: 1.5416 - val_accuracy: 0.6573 - 15s/epoch - 497ms/step\n",
      "Epoch 15/25\n",
      "31/31 - 15s - loss: 0.0093 - accuracy: 0.9980 - val_loss: 1.6835 - val_accuracy: 0.6532 - 15s/epoch - 473ms/step\n",
      "Epoch 16/25\n",
      "31/31 - 12s - loss: 0.0061 - accuracy: 0.9980 - val_loss: 1.7168 - val_accuracy: 0.6411 - 12s/epoch - 384ms/step\n",
      "Epoch 17/25\n",
      "31/31 - 12s - loss: 0.0038 - accuracy: 0.9990 - val_loss: 1.8052 - val_accuracy: 0.6573 - 12s/epoch - 387ms/step\n",
      "Epoch 18/25\n",
      "31/31 - 12s - loss: 0.0031 - accuracy: 0.9990 - val_loss: 1.8657 - val_accuracy: 0.6532 - 12s/epoch - 386ms/step\n",
      "Epoch 19/25\n",
      "31/31 - 13s - loss: 0.0038 - accuracy: 0.9990 - val_loss: 1.8633 - val_accuracy: 0.6452 - 13s/epoch - 417ms/step\n",
      "Epoch 20/25\n",
      "31/31 - 13s - loss: 0.0036 - accuracy: 0.9990 - val_loss: 1.9861 - val_accuracy: 0.6573 - 13s/epoch - 421ms/step\n",
      "Epoch 21/25\n",
      "31/31 - 13s - loss: 0.0025 - accuracy: 0.9990 - val_loss: 1.9884 - val_accuracy: 0.6452 - 13s/epoch - 419ms/step\n",
      "Epoch 22/25\n",
      "31/31 - 13s - loss: 0.0033 - accuracy: 0.9980 - val_loss: 2.1191 - val_accuracy: 0.6411 - 13s/epoch - 422ms/step\n",
      "Epoch 23/25\n",
      "31/31 - 13s - loss: 0.0038 - accuracy: 0.9990 - val_loss: 2.0516 - val_accuracy: 0.6573 - 13s/epoch - 406ms/step\n",
      "Epoch 24/25\n",
      "31/31 - 13s - loss: 0.0041 - accuracy: 0.9970 - val_loss: 2.0637 - val_accuracy: 0.6532 - 13s/epoch - 404ms/step\n",
      "Epoch 25/25\n",
      "31/31 - 12s - loss: 0.0035 - accuracy: 0.9990 - val_loss: 2.0915 - val_accuracy: 0.6492 - 12s/epoch - 389ms/step\n"
     ]
    }
   ],
   "source": [
    "# train model\n",
    "\n",
    "batch_size = 32\n",
    "epochs = 25\n",
    "\n",
    "history = model.fit(X_train, y_train, epochs=epochs, batch_size=batch_size, verbose=2, validation_data=(X_test, y_test))"
   ]
  },
  {
   "cell_type": "code",
   "execution_count": 37,
   "metadata": {},
   "outputs": [
    {
     "ename": "AttributeError",
     "evalue": "'History' object has no attribute 'save'",
     "output_type": "error",
     "traceback": [
      "\u001b[0;31m---------------------------------------------------------------------------\u001b[0m",
      "\u001b[0;31mAttributeError\u001b[0m                            Traceback (most recent call last)",
      "\u001b[0;32m/tmp/ipykernel_21949/2386794999.py\u001b[0m in \u001b[0;36m<module>\u001b[0;34m\u001b[0m\n\u001b[1;32m      1\u001b[0m \u001b[0;31m# save model into file .h5\u001b[0m\u001b[0;34m\u001b[0m\u001b[0;34m\u001b[0m\u001b[0m\n\u001b[1;32m      2\u001b[0m \u001b[0;34m\u001b[0m\u001b[0m\n\u001b[0;32m----> 3\u001b[0;31m \u001b[0mhistory\u001b[0m\u001b[0;34m.\u001b[0m\u001b[0msave\u001b[0m\u001b[0;34m(\u001b[0m\u001b[0;34m'sentiment_analysis.h5'\u001b[0m\u001b[0;34m)\u001b[0m\u001b[0;34m\u001b[0m\u001b[0;34m\u001b[0m\u001b[0m\n\u001b[0m",
      "\u001b[0;31mAttributeError\u001b[0m: 'History' object has no attribute 'save'"
     ]
    }
   ],
   "source": [
    "# save model into file .h5\n",
    "\n",
    "model.save('sentiment_analysis.h5')"
   ]
  },
  {
   "cell_type": "code",
   "execution_count": 38,
   "metadata": {},
   "outputs": [],
   "source": [
    "import seaborn as sns\n",
    "import string"
   ]
  },
  {
   "cell_type": "code",
   "execution_count": 39,
   "metadata": {},
   "outputs": [],
   "source": [
    "# Mengambil data dari history pelatihan model\n",
    "train_loss = history.history['loss']\n",
    "val_loss = history.history['val_loss']\n",
    "train_acc = history.history['accuracy']\n",
    "val_acc = history.history['val_accuracy']"
   ]
  },
  {
   "cell_type": "code",
   "execution_count": 40,
   "metadata": {},
   "outputs": [
    {
     "data": {
      "text/plain": [
       "<Figure size 864x360 with 0 Axes>"
      ]
     },
     "metadata": {},
     "output_type": "display_data"
    }
   ],
   "source": [
    "# Membuat plot\n",
    "plt.figure(figsize=(12,5))\n",
    "sns.set_style(\"whitegrid\")"
   ]
  },
  {
   "cell_type": "code",
   "execution_count": 41,
   "metadata": {},
   "outputs": [
    {
     "data": {
      "text/plain": [
       "<matplotlib.legend.Legend at 0x7f493c2f5be0>"
      ]
     },
     "execution_count": 41,
     "metadata": {},
     "output_type": "execute_result"
    },
    {
     "data": {
      "image/png": "[encoded data removed]",
      "text/plain": [
       "<Figure size 432x288 with 1 Axes>"
      ]
     },
     "metadata": {},
     "output_type": "display_data"
    }
   ],
   "source": [
    "plt.subplot(1,2,1)\n",
    "sns.lineplot(x=range(1,epochs+1), y=train_loss, label='Training Loss')\n",
    "sns.lineplot(x=range(1,epochs+1), y=val_loss, label='Validation Loss')\n",
    "plt.title('Loss')\n",
    "plt.xlabel('Epochs')\n",
    "plt.ylabel('Loss')\n",
    "plt.legend()"
   ]
  },
  {
   "cell_type": "code",
   "execution_count": 42,
   "metadata": {},
   "outputs": [
    {
     "data": {
      "image/png": "[encoded data removed]",
      "text/plain": [
       "<Figure size 432x288 with 1 Axes>"
      ]
     },
     "metadata": {},
     "output_type": "display_data"
    }
   ],
   "source": [
    "plt.subplot(1,2,2)\n",
    "sns.lineplot(x=range(1,epochs+1), y=train_acc, label='Training Accuracy')\n",
    "sns.lineplot(x=range(1,epochs+1), y=val_acc, label='Validation Accuracy')\n",
    "plt.title('Accuracy')\n",
    "plt.xlabel('Epochs')\n",
    "plt.ylabel('Accuracy')\n",
    "plt.legend()\n",
    "\n",
    "plt.show()"
   ]
  },
  {
   "cell_type": "code",
   "execution_count": 44,
   "metadata": {},
   "outputs": [
    {
     "name": "stdout",
     "output_type": "stream",
     "text": [
      "8/8 [==============================] - 1s 56ms/step\n",
      "              precision    recall  f1-score   support\n",
      "\n",
      "           0       0.71      0.74      0.72       118\n",
      "           1       0.32      0.33      0.33        27\n",
      "           2       0.66      0.63      0.65       103\n",
      "\n",
      "    accuracy                           0.65       248\n",
      "   macro avg       0.57      0.57      0.57       248\n",
      "weighted avg       0.65      0.65      0.65       248\n",
      "\n"
     ]
    }
   ],
   "source": [
    "from sklearn.metrics import classification_report\n",
    "\n",
    "y_pred = model.predict(X_test)\n",
    "y_pred = np.argmax(y_pred, axis=1)\n",
    "y_true = np.argmax(y_test, axis=1)\n",
    "print(classification_report(y_true, y_pred))"
   ]
  },
  {
   "cell_type": "code",
   "execution_count": 45,
   "metadata": {},
   "outputs": [
    {
     "name": "stdout",
     "output_type": "stream",
     "text": [
      "[[87  8 23]\n",
      " [ 8  9 10]\n",
      " [27 11 65]]\n"
     ]
    }
   ],
   "source": [
    "from sklearn.metrics import confusion_matrix\n",
    "\n",
    "conf_mat = confusion_matrix(y_true, y_pred)\n",
    "print(conf_mat)"
   ]
  },
  {
   "cell_type": "code",
   "execution_count": 46,
   "metadata": {},
   "outputs": [
    {
     "data": {
      "image/png": "[encoded data removed]",
      "text/plain": [
       "<Figure size 432x288 with 2 Axes>"
      ]
     },
     "metadata": {},
     "output_type": "display_data"
    }
   ],
   "source": [
    "sns.heatmap(conf_mat, annot=True, cmap='Blues', fmt='d')\n",
    "plt.title('Confusion Matrix')\n",
    "plt.xlabel('Predicted Label')\n",
    "plt.ylabel('True Label')\n",
    "plt.show()"
   ]
  },
  {
   "cell_type": "code",
   "execution_count": null,
   "metadata": {},
   "outputs": [],
   "source": []
  },
  {
   "cell_type": "markdown",
   "metadata": {},
   "source": [
    "## Evaluate Model"
   ]
  },
  {
   "cell_type": "code",
   "execution_count": 43,
   "metadata": {},
   "outputs": [
    {
     "name": "stdout",
     "output_type": "stream",
     "text": [
      "8/8 - 0s - loss: 2.0915 - accuracy: 0.6492 - 438ms/epoch - 55ms/step\n",
      "score: 2.09\n",
      "acc: 0.65\n"
     ]
    }
   ],
   "source": [
    "# evaluate model with data test\n",
    "\n",
    "score, acc = model.evaluate(X_test, y_test, verbose = 2, batch_size = batch_size)\n",
    "\n",
    "print(\"score: %.2f\" % (score))\n",
    "print(\"acc: %.2f\" % (acc))"
   ]
  },
  {
   "cell_type": "markdown",
   "metadata": {},
   "source": [
    "## Predict New Dataset"
   ]
  },
  {
   "cell_type": "code",
   "execution_count": 1,
   "metadata": {},
   "outputs": [
    {
     "data": {
      "text/html": [
       "<div>\n",
       "<style scoped>\n",
       "    .dataframe tbody tr th:only-of-type {\n",
       "        vertical-align: middle;\n",
       "    }\n",
       "\n",
       "    .dataframe tbody tr th {\n",
       "        vertical-align: top;\n",
       "    }\n",
       "\n",
       "    .dataframe thead th {\n",
       "        text-align: right;\n",
       "    }\n",
       "</style>\n",
       "<table border=\"1\" class=\"dataframe\">\n",
       "  <thead>\n",
       "    <tr style=\"text-align: right;\">\n",
       "      <th></th>\n",
       "      <th>tweet</th>\n",
       "    </tr>\n",
       "  </thead>\n",
       "  <tbody>\n",
       "    <tr>\n",
       "      <th>0</th>\n",
       "      <td>@M45Broo_ Cebong benar2 panik luar biasa, ini ...</td>\n",
       "    </tr>\n",
       "    <tr>\n",
       "      <th>1</th>\n",
       "      <td>@Relawananies https://t.co/uf5sE0iGLI</td>\n",
       "    </tr>\n",
       "    <tr>\n",
       "      <th>2</th>\n",
       "      <td>RT @BosPurwa: #IndonesiaMemanggil \\n5 Tahun An...</td>\n",
       "    </tr>\n",
       "    <tr>\n",
       "      <th>3</th>\n",
       "      <td>RT @aLy_Bima: Video ini hanya untuk orang yang...</td>\n",
       "    </tr>\n",
       "    <tr>\n",
       "      <th>4</th>\n",
       "      <td>RT @tempodotco: \"Tidak ringan permasalahan di ...</td>\n",
       "    </tr>\n",
       "    <tr>\n",
       "      <th>...</th>\n",
       "      <td>...</td>\n",
       "    </tr>\n",
       "    <tr>\n",
       "      <th>445</th>\n",
       "      <td>RT @Relawananies: Momen haru saat Anies Baswed...</td>\n",
       "    </tr>\n",
       "    <tr>\n",
       "      <th>446</th>\n",
       "      <td>@maspiyuaja Terima kasih om https://t.co/PUgr2...</td>\n",
       "    </tr>\n",
       "    <tr>\n",
       "      <th>447</th>\n",
       "      <td>RT @BosPurwa: #IndonesiaMemanggil \\n5 Tahun An...</td>\n",
       "    </tr>\n",
       "    <tr>\n",
       "      <th>448</th>\n",
       "      <td>RT @OposisiCerdas: Kamhar Lakumani Sebut Anies...</td>\n",
       "    </tr>\n",
       "    <tr>\n",
       "      <th>449</th>\n",
       "      <td>@GunRomli Bosmu ����� gak ngapa ngapain https:...</td>\n",
       "    </tr>\n",
       "  </tbody>\n",
       "</table>\n",
       "<p>450 rows × 1 columns</p>\n",
       "</div>"
      ],
      "text/plain": [
       "                                                 tweet\n",
       "0    @M45Broo_ Cebong benar2 panik luar biasa, ini ...\n",
       "1                @Relawananies https://t.co/uf5sE0iGLI\n",
       "2    RT @BosPurwa: #IndonesiaMemanggil \\n5 Tahun An...\n",
       "3    RT @aLy_Bima: Video ini hanya untuk orang yang...\n",
       "4    RT @tempodotco: \"Tidak ringan permasalahan di ...\n",
       "..                                                 ...\n",
       "445  RT @Relawananies: Momen haru saat Anies Baswed...\n",
       "446  @maspiyuaja Terima kasih om https://t.co/PUgr2...\n",
       "447  RT @BosPurwa: #IndonesiaMemanggil \\n5 Tahun An...\n",
       "448  RT @OposisiCerdas: Kamhar Lakumani Sebut Anies...\n",
       "449  @GunRomli Bosmu ����� gak ngapa ngapain https:...\n",
       "\n",
       "[450 rows x 1 columns]"
      ]
     },
     "execution_count": 1,
     "metadata": {},
     "output_type": "execute_result"
    }
   ],
   "source": [
    "# read new dataset\n",
    "import re\n",
    "import numpy as np\n",
    "import pandas as pd\n",
    "data = pd.read_csv('tweet2.csv')\n",
    "# menghapus kolom id\n",
    "data = data.drop(['id'], axis=1)\n",
    "\n",
    "data"
   ]
  },
  {
   "cell_type": "code",
   "execution_count": 2,
   "metadata": {},
   "outputs": [
    {
     "data": {
      "text/html": [
       "<div>\n",
       "<style scoped>\n",
       "    .dataframe tbody tr th:only-of-type {\n",
       "        vertical-align: middle;\n",
       "    }\n",
       "\n",
       "    .dataframe tbody tr th {\n",
       "        vertical-align: top;\n",
       "    }\n",
       "\n",
       "    .dataframe thead th {\n",
       "        text-align: right;\n",
       "    }\n",
       "</style>\n",
       "<table border=\"1\" class=\"dataframe\">\n",
       "  <thead>\n",
       "    <tr style=\"text-align: right;\">\n",
       "      <th></th>\n",
       "      <th>tweet</th>\n",
       "    </tr>\n",
       "  </thead>\n",
       "  <tbody>\n",
       "    <tr>\n",
       "      <th>0</th>\n",
       "      <td>warga kota makassar menyambut pelepasan gubern...</td>\n",
       "    </tr>\n",
       "    <tr>\n",
       "      <th>1</th>\n",
       "      <td>terimakasih pak anies baswedannct ballondor ga...</td>\n",
       "    </tr>\n",
       "    <tr>\n",
       "      <th>2</th>\n",
       "      <td>jika memang ini di lakukan untuk menjatuhkan p...</td>\n",
       "    </tr>\n",
       "    <tr>\n",
       "      <th>3</th>\n",
       "      <td>mending ma gatot sih ingat dia menantu nya he...</td>\n",
       "    </tr>\n",
       "    <tr>\n",
       "      <th>4</th>\n",
       "      <td>rakyat tahu mana pemimpin yg baik jujur amanah...</td>\n",
       "    </tr>\n",
       "    <tr>\n",
       "      <th>...</th>\n",
       "      <td>...</td>\n",
       "    </tr>\n",
       "    <tr>\n",
       "      <th>430</th>\n",
       "      <td>partai koalisi pemerintah 82 suaranya di parle...</td>\n",
       "    </tr>\n",
       "    <tr>\n",
       "      <th>431</th>\n",
       "      <td>cuma 2 perahu ngakunya ratusan</td>\n",
       "    </tr>\n",
       "    <tr>\n",
       "      <th>432</th>\n",
       "      <td>kenduri rakyat jarnas anies baswedan memggelar...</td>\n",
       "    </tr>\n",
       "    <tr>\n",
       "      <th>433</th>\n",
       "      <td>maklum aja duaduanya pecatan mau gimana lagi</td>\n",
       "    </tr>\n",
       "    <tr>\n",
       "      <th>434</th>\n",
       "      <td>sejak kemarin anies baswedan bukan lagi gubern...</td>\n",
       "    </tr>\n",
       "  </tbody>\n",
       "</table>\n",
       "<p>435 rows × 1 columns</p>\n",
       "</div>"
      ],
      "text/plain": [
       "                                                 tweet\n",
       "0    warga kota makassar menyambut pelepasan gubern...\n",
       "1    terimakasih pak anies baswedannct ballondor ga...\n",
       "2    jika memang ini di lakukan untuk menjatuhkan p...\n",
       "3     mending ma gatot sih ingat dia menantu nya he...\n",
       "4    rakyat tahu mana pemimpin yg baik jujur amanah...\n",
       "..                                                 ...\n",
       "430  partai koalisi pemerintah 82 suaranya di parle...\n",
       "431                    cuma 2 perahu ngakunya ratusan \n",
       "432  kenduri rakyat jarnas anies baswedan memggelar...\n",
       "433       maklum aja duaduanya pecatan mau gimana lagi\n",
       "434  sejak kemarin anies baswedan bukan lagi gubern...\n",
       "\n",
       "[435 rows x 1 columns]"
      ]
     },
     "execution_count": 2,
     "metadata": {},
     "output_type": "execute_result"
    }
   ],
   "source": [
    "# data preprocessing\n",
    "\n",
    "def tweetPrepocessing(text):\n",
    "  text = text.lower()\n",
    "  text = re.sub('\\n','', text)\n",
    "  text = re.sub('rt ','', text)\n",
    "  text = re.sub('#','', text)\n",
    "  text = re.sub('@\\w+(?:\\:)\\ ','', text)\n",
    "  text = re.sub(r'(?:\\@|http?\\://|https?\\://|www)\\S+','', text)\n",
    "  text = re.sub('[^a-zA-z0-9\\s]','', text)\n",
    "  text = re.sub('  ',' ', text)\n",
    "\n",
    "  if text == ' ':\n",
    "    return None\n",
    "\n",
    "  return text\n",
    "\n",
    "data = data.sample(frac=1)\n",
    "data['tweet'] = data['tweet'].apply(tweetPrepocessing)\n",
    "data.dropna(inplace=True)\n",
    "data.reset_index(drop=True, inplace = True)\n",
    "\n",
    "data"
   ]
  },
  {
   "cell_type": "code",
   "execution_count": 3,
   "metadata": {},
   "outputs": [
    {
     "name": "stderr",
     "output_type": "stream",
     "text": [
      "2023-01-22 11:41:05.401851: I tensorflow/core/platform/cpu_feature_guard.cc:193] This TensorFlow binary is optimized with oneAPI Deep Neural Network Library (oneDNN) to use the following CPU instructions in performance-critical operations:  AVX2 FMA\n",
      "To enable them in other operations, rebuild TensorFlow with the appropriate compiler flags.\n",
      "2023-01-22 11:41:08.637763: W tensorflow/compiler/xla/stream_executor/platform/default/dso_loader.cc:64] Could not load dynamic library 'libcudart.so.11.0'; dlerror: libcudart.so.11.0: cannot open shared object file: No such file or directory\n",
      "2023-01-22 11:41:08.637827: I tensorflow/compiler/xla/stream_executor/cuda/cudart_stub.cc:29] Ignore above cudart dlerror if you do not have a GPU set up on your machine.\n",
      "2023-01-22 11:41:19.943653: W tensorflow/compiler/xla/stream_executor/platform/default/dso_loader.cc:64] Could not load dynamic library 'libnvinfer.so.7'; dlerror: libnvinfer.so.7: cannot open shared object file: No such file or directory\n",
      "2023-01-22 11:41:19.943969: W tensorflow/compiler/xla/stream_executor/platform/default/dso_loader.cc:64] Could not load dynamic library 'libnvinfer_plugin.so.7'; dlerror: libnvinfer_plugin.so.7: cannot open shared object file: No such file or directory\n",
      "2023-01-22 11:41:19.944006: W tensorflow/compiler/tf2tensorrt/utils/py_utils.cc:38] TF-TRT Warning: Cannot dlopen some TensorRT libraries. If you would like to use Nvidia GPU with TensorRT, please make sure the missing libraries mentioned above are installed properly.\n"
     ]
    },
    {
     "name": "stdout",
     "output_type": "stream",
     "text": [
      "[[  0   0   0 ... 136  11 164]\n",
      " [  0   0   0 ... 430 165 321]\n",
      " [  0   0   0 ... 434 640  13]\n",
      " ...\n",
      " [  0   0   0 ...  20 182 183]\n",
      " [  0   0   0 ...  14 381  79]\n",
      " [  0   0   0 ...  51   7 269]]\n"
     ]
    },
    {
     "data": {
      "text/plain": [
       "(435, 42)"
      ]
     },
     "execution_count": 3,
     "metadata": {},
     "output_type": "execute_result"
    }
   ],
   "source": [
    "from keras.preprocessing.text import Tokenizer\n",
    "from keras.utils import pad_sequences\n",
    "\n",
    "tokenizer = Tokenizer(num_words=5000, split=\" \")\n",
    "\n",
    "tokenizer.fit_on_texts(data['tweet'].values)\n",
    "X = tokenizer.texts_to_sequences(data['tweet'].values)\n",
    "X = pad_sequences(X)\n",
    "print(X)\n",
    "\n",
    "\n",
    "tokenizer.fit_on_texts(data['tweet'].values)\n",
    "\n",
    "X_new = tokenizer.texts_to_sequences(data['tweet'].values)\n",
    "X_new = pad_sequences(X_new)\n",
    "X_new.shape"
   ]
  },
  {
   "cell_type": "code",
   "execution_count": 5,
   "metadata": {},
   "outputs": [
    {
     "name": "stderr",
     "output_type": "stream",
     "text": [
      "2023-01-22 11:41:39.306401: W tensorflow/compiler/xla/stream_executor/platform/default/dso_loader.cc:64] Could not load dynamic library 'libcudart.so.11.0'; dlerror: libcudart.so.11.0: cannot open shared object file: No such file or directory\n",
      "2023-01-22 11:41:39.306513: W tensorflow/compiler/xla/stream_executor/platform/default/dso_loader.cc:64] Could not load dynamic library 'libcublas.so.11'; dlerror: libcublas.so.11: cannot open shared object file: No such file or directory\n",
      "2023-01-22 11:41:39.306599: W tensorflow/compiler/xla/stream_executor/platform/default/dso_loader.cc:64] Could not load dynamic library 'libcublasLt.so.11'; dlerror: libcublasLt.so.11: cannot open shared object file: No such file or directory\n",
      "2023-01-22 11:41:39.306682: W tensorflow/compiler/xla/stream_executor/platform/default/dso_loader.cc:64] Could not load dynamic library 'libcufft.so.10'; dlerror: libcufft.so.10: cannot open shared object file: No such file or directory\n",
      "2023-01-22 11:41:39.306764: W tensorflow/compiler/xla/stream_executor/platform/default/dso_loader.cc:64] Could not load dynamic library 'libcurand.so.10'; dlerror: libcurand.so.10: cannot open shared object file: No such file or directory\n",
      "2023-01-22 11:41:39.306846: W tensorflow/compiler/xla/stream_executor/platform/default/dso_loader.cc:64] Could not load dynamic library 'libcusolver.so.11'; dlerror: libcusolver.so.11: cannot open shared object file: No such file or directory\n",
      "2023-01-22 11:41:39.306927: W tensorflow/compiler/xla/stream_executor/platform/default/dso_loader.cc:64] Could not load dynamic library 'libcusparse.so.11'; dlerror: libcusparse.so.11: cannot open shared object file: No such file or directory\n",
      "2023-01-22 11:41:39.307009: W tensorflow/compiler/xla/stream_executor/platform/default/dso_loader.cc:64] Could not load dynamic library 'libcudnn.so.8'; dlerror: libcudnn.so.8: cannot open shared object file: No such file or directory\n",
      "2023-01-22 11:41:39.307025: W tensorflow/core/common_runtime/gpu/gpu_device.cc:1934] Cannot dlopen some GPU libraries. Please make sure the missing libraries mentioned above are installed properly if you would like to use GPU. Follow the guide at https://www.tensorflow.org/install/gpu for how to download and setup the required libraries for your platform.\n",
      "Skipping registering GPU devices...\n",
      "2023-01-22 11:41:39.344135: I tensorflow/core/platform/cpu_feature_guard.cc:193] This TensorFlow binary is optimized with oneAPI Deep Neural Network Library (oneDNN) to use the following CPU instructions in performance-critical operations:  AVX2 FMA\n",
      "To enable them in other operations, rebuild TensorFlow with the appropriate compiler flags.\n"
     ]
    }
   ],
   "source": [
    "# load model\n",
    "from keras.models import Sequential, load_model\n",
    "mymodel = load_model('sentiment_analysis.h5')"
   ]
  },
  {
   "cell_type": "code",
   "execution_count": 6,
   "metadata": {},
   "outputs": [
    {
     "name": "stdout",
     "output_type": "stream",
     "text": [
      "14/14 [==============================] - 2s 48ms/step\n"
     ]
    }
   ],
   "source": [
    "# predict data\n",
    "\n",
    "pred = mymodel.predict(X_new)"
   ]
  },
  {
   "cell_type": "code",
   "execution_count": 7,
   "metadata": {},
   "outputs": [],
   "source": [
    "# labelling\n",
    "\n",
    "def labelling(array):\n",
    "  labels = ['dukungan', 'netral', 'tidak mendukung']\n",
    "  output = []\n",
    "  for a in array:\n",
    "    output.append(labels[np.argmax(a)])\n",
    "  return output\n",
    "\n",
    "label = labelling(pred)"
   ]
  },
  {
   "cell_type": "code",
   "execution_count": 8,
   "metadata": {},
   "outputs": [
    {
     "data": {
      "text/plain": [
       "['netral',\n",
       " 'dukungan',\n",
       " 'dukungan',\n",
       " 'tidak mendukung',\n",
       " 'netral',\n",
       " 'netral',\n",
       " 'tidak mendukung',\n",
       " 'netral',\n",
       " 'dukungan',\n",
       " 'dukungan',\n",
       " 'netral',\n",
       " 'netral',\n",
       " 'dukungan',\n",
       " 'tidak mendukung',\n",
       " 'tidak mendukung',\n",
       " 'dukungan',\n",
       " 'netral',\n",
       " 'netral',\n",
       " 'dukungan',\n",
       " 'dukungan',\n",
       " 'netral',\n",
       " 'netral',\n",
       " 'dukungan',\n",
       " 'tidak mendukung',\n",
       " 'dukungan',\n",
       " 'dukungan',\n",
       " 'netral',\n",
       " 'netral',\n",
       " 'dukungan',\n",
       " 'tidak mendukung',\n",
       " 'dukungan',\n",
       " 'tidak mendukung',\n",
       " 'netral',\n",
       " 'netral',\n",
       " 'netral',\n",
       " 'netral',\n",
       " 'tidak mendukung',\n",
       " 'dukungan',\n",
       " 'netral',\n",
       " 'dukungan',\n",
       " 'dukungan',\n",
       " 'netral',\n",
       " 'dukungan',\n",
       " 'netral',\n",
       " 'netral',\n",
       " 'netral',\n",
       " 'netral',\n",
       " 'netral',\n",
       " 'dukungan',\n",
       " 'netral',\n",
       " 'netral',\n",
       " 'dukungan',\n",
       " 'dukungan',\n",
       " 'dukungan',\n",
       " 'netral',\n",
       " 'tidak mendukung',\n",
       " 'netral',\n",
       " 'tidak mendukung',\n",
       " 'dukungan',\n",
       " 'netral',\n",
       " 'tidak mendukung',\n",
       " 'dukungan',\n",
       " 'netral',\n",
       " 'dukungan',\n",
       " 'dukungan',\n",
       " 'dukungan',\n",
       " 'dukungan',\n",
       " 'dukungan',\n",
       " 'netral',\n",
       " 'dukungan',\n",
       " 'tidak mendukung',\n",
       " 'tidak mendukung',\n",
       " 'tidak mendukung',\n",
       " 'tidak mendukung',\n",
       " 'netral',\n",
       " 'tidak mendukung',\n",
       " 'netral',\n",
       " 'dukungan',\n",
       " 'netral',\n",
       " 'dukungan',\n",
       " 'netral',\n",
       " 'dukungan',\n",
       " 'tidak mendukung',\n",
       " 'dukungan',\n",
       " 'dukungan',\n",
       " 'netral',\n",
       " 'netral',\n",
       " 'netral',\n",
       " 'netral',\n",
       " 'netral',\n",
       " 'netral',\n",
       " 'netral',\n",
       " 'dukungan',\n",
       " 'netral',\n",
       " 'dukungan',\n",
       " 'netral',\n",
       " 'tidak mendukung',\n",
       " 'dukungan',\n",
       " 'dukungan',\n",
       " 'tidak mendukung',\n",
       " 'dukungan',\n",
       " 'netral',\n",
       " 'netral',\n",
       " 'dukungan',\n",
       " 'dukungan',\n",
       " 'netral',\n",
       " 'netral',\n",
       " 'tidak mendukung',\n",
       " 'dukungan',\n",
       " 'netral',\n",
       " 'tidak mendukung',\n",
       " 'netral',\n",
       " 'dukungan',\n",
       " 'dukungan',\n",
       " 'dukungan',\n",
       " 'netral',\n",
       " 'tidak mendukung',\n",
       " 'dukungan',\n",
       " 'netral',\n",
       " 'tidak mendukung',\n",
       " 'netral',\n",
       " 'netral',\n",
       " 'dukungan',\n",
       " 'dukungan',\n",
       " 'dukungan',\n",
       " 'tidak mendukung',\n",
       " 'dukungan',\n",
       " 'netral',\n",
       " 'dukungan',\n",
       " 'dukungan',\n",
       " 'dukungan',\n",
       " 'netral',\n",
       " 'dukungan',\n",
       " 'tidak mendukung',\n",
       " 'dukungan',\n",
       " 'netral',\n",
       " 'netral',\n",
       " 'dukungan',\n",
       " 'netral',\n",
       " 'netral',\n",
       " 'netral',\n",
       " 'netral',\n",
       " 'netral',\n",
       " 'dukungan',\n",
       " 'netral',\n",
       " 'netral',\n",
       " 'dukungan',\n",
       " 'netral',\n",
       " 'tidak mendukung',\n",
       " 'netral',\n",
       " 'netral',\n",
       " 'netral',\n",
       " 'netral',\n",
       " 'netral',\n",
       " 'tidak mendukung',\n",
       " 'dukungan',\n",
       " 'dukungan',\n",
       " 'dukungan',\n",
       " 'netral',\n",
       " 'dukungan',\n",
       " 'dukungan',\n",
       " 'dukungan',\n",
       " 'netral',\n",
       " 'netral',\n",
       " 'netral',\n",
       " 'netral',\n",
       " 'netral',\n",
       " 'netral',\n",
       " 'dukungan',\n",
       " 'tidak mendukung',\n",
       " 'netral',\n",
       " 'dukungan',\n",
       " 'netral',\n",
       " 'netral',\n",
       " 'dukungan',\n",
       " 'netral',\n",
       " 'netral',\n",
       " 'netral',\n",
       " 'netral',\n",
       " 'netral',\n",
       " 'tidak mendukung',\n",
       " 'dukungan',\n",
       " 'dukungan',\n",
       " 'netral',\n",
       " 'netral',\n",
       " 'tidak mendukung',\n",
       " 'tidak mendukung',\n",
       " 'netral',\n",
       " 'dukungan',\n",
       " 'netral',\n",
       " 'netral',\n",
       " 'dukungan',\n",
       " 'netral',\n",
       " 'netral',\n",
       " 'netral',\n",
       " 'netral',\n",
       " 'dukungan',\n",
       " 'netral',\n",
       " 'netral',\n",
       " 'netral',\n",
       " 'dukungan',\n",
       " 'netral',\n",
       " 'netral',\n",
       " 'netral',\n",
       " 'netral',\n",
       " 'netral',\n",
       " 'netral',\n",
       " 'netral',\n",
       " 'dukungan',\n",
       " 'netral',\n",
       " 'dukungan',\n",
       " 'netral',\n",
       " 'netral',\n",
       " 'dukungan',\n",
       " 'netral',\n",
       " 'dukungan',\n",
       " 'dukungan',\n",
       " 'dukungan',\n",
       " 'netral',\n",
       " 'dukungan',\n",
       " 'netral',\n",
       " 'netral',\n",
       " 'netral',\n",
       " 'dukungan',\n",
       " 'dukungan',\n",
       " 'tidak mendukung',\n",
       " 'tidak mendukung',\n",
       " 'tidak mendukung',\n",
       " 'dukungan',\n",
       " 'dukungan',\n",
       " 'netral',\n",
       " 'netral',\n",
       " 'dukungan',\n",
       " 'dukungan',\n",
       " 'netral',\n",
       " 'dukungan',\n",
       " 'netral',\n",
       " 'dukungan',\n",
       " 'tidak mendukung',\n",
       " 'tidak mendukung',\n",
       " 'dukungan',\n",
       " 'dukungan',\n",
       " 'netral',\n",
       " 'netral',\n",
       " 'dukungan',\n",
       " 'netral',\n",
       " 'netral',\n",
       " 'tidak mendukung',\n",
       " 'netral',\n",
       " 'tidak mendukung',\n",
       " 'netral',\n",
       " 'tidak mendukung',\n",
       " 'dukungan',\n",
       " 'netral',\n",
       " 'dukungan',\n",
       " 'dukungan',\n",
       " 'dukungan',\n",
       " 'dukungan',\n",
       " 'dukungan',\n",
       " 'tidak mendukung',\n",
       " 'netral',\n",
       " 'netral',\n",
       " 'dukungan',\n",
       " 'netral',\n",
       " 'netral',\n",
       " 'dukungan',\n",
       " 'dukungan',\n",
       " 'netral',\n",
       " 'netral',\n",
       " 'dukungan',\n",
       " 'tidak mendukung',\n",
       " 'dukungan',\n",
       " 'netral',\n",
       " 'netral',\n",
       " 'netral',\n",
       " 'dukungan',\n",
       " 'netral',\n",
       " 'netral',\n",
       " 'netral',\n",
       " 'dukungan',\n",
       " 'dukungan',\n",
       " 'netral',\n",
       " 'netral',\n",
       " 'netral',\n",
       " 'dukungan',\n",
       " 'netral',\n",
       " 'dukungan',\n",
       " 'netral',\n",
       " 'netral',\n",
       " 'netral',\n",
       " 'dukungan',\n",
       " 'netral',\n",
       " 'tidak mendukung',\n",
       " 'netral',\n",
       " 'netral',\n",
       " 'netral',\n",
       " 'netral',\n",
       " 'netral',\n",
       " 'tidak mendukung',\n",
       " 'netral',\n",
       " 'netral',\n",
       " 'tidak mendukung',\n",
       " 'dukungan',\n",
       " 'netral',\n",
       " 'dukungan',\n",
       " 'netral',\n",
       " 'dukungan',\n",
       " 'netral',\n",
       " 'netral',\n",
       " 'dukungan',\n",
       " 'dukungan',\n",
       " 'tidak mendukung',\n",
       " 'dukungan',\n",
       " 'tidak mendukung',\n",
       " 'netral',\n",
       " 'dukungan',\n",
       " 'dukungan',\n",
       " 'netral',\n",
       " 'netral',\n",
       " 'netral',\n",
       " 'dukungan',\n",
       " 'dukungan',\n",
       " 'dukungan',\n",
       " 'netral',\n",
       " 'netral',\n",
       " 'tidak mendukung',\n",
       " 'netral',\n",
       " 'netral',\n",
       " 'dukungan',\n",
       " 'netral',\n",
       " 'tidak mendukung',\n",
       " 'netral',\n",
       " 'dukungan',\n",
       " 'dukungan',\n",
       " 'netral',\n",
       " 'dukungan',\n",
       " 'netral',\n",
       " 'netral',\n",
       " 'netral',\n",
       " 'netral',\n",
       " 'netral',\n",
       " 'netral',\n",
       " 'netral',\n",
       " 'netral',\n",
       " 'netral',\n",
       " 'netral',\n",
       " 'netral',\n",
       " 'netral',\n",
       " 'netral',\n",
       " 'netral',\n",
       " 'netral',\n",
       " 'netral',\n",
       " 'netral',\n",
       " 'tidak mendukung',\n",
       " 'netral',\n",
       " 'netral',\n",
       " 'netral',\n",
       " 'netral',\n",
       " 'dukungan',\n",
       " 'netral',\n",
       " 'netral',\n",
       " 'dukungan',\n",
       " 'netral',\n",
       " 'netral',\n",
       " 'netral',\n",
       " 'dukungan',\n",
       " 'netral',\n",
       " 'tidak mendukung',\n",
       " 'netral',\n",
       " 'netral',\n",
       " 'dukungan',\n",
       " 'netral',\n",
       " 'netral',\n",
       " 'netral',\n",
       " 'dukungan',\n",
       " 'netral',\n",
       " 'dukungan',\n",
       " 'netral',\n",
       " 'netral',\n",
       " 'netral',\n",
       " 'dukungan',\n",
       " 'tidak mendukung',\n",
       " 'dukungan',\n",
       " 'netral',\n",
       " 'dukungan',\n",
       " 'dukungan',\n",
       " 'netral',\n",
       " 'dukungan',\n",
       " 'dukungan',\n",
       " 'tidak mendukung',\n",
       " 'tidak mendukung',\n",
       " 'tidak mendukung',\n",
       " 'dukungan',\n",
       " 'netral',\n",
       " 'dukungan',\n",
       " 'dukungan',\n",
       " 'dukungan',\n",
       " 'dukungan',\n",
       " 'tidak mendukung',\n",
       " 'dukungan',\n",
       " 'dukungan',\n",
       " 'dukungan',\n",
       " 'tidak mendukung',\n",
       " 'netral',\n",
       " 'dukungan',\n",
       " 'dukungan',\n",
       " 'dukungan',\n",
       " 'dukungan',\n",
       " 'tidak mendukung',\n",
       " 'netral',\n",
       " 'netral',\n",
       " 'tidak mendukung',\n",
       " 'dukungan',\n",
       " 'dukungan',\n",
       " 'tidak mendukung',\n",
       " 'dukungan',\n",
       " 'dukungan',\n",
       " 'netral',\n",
       " 'tidak mendukung',\n",
       " 'dukungan',\n",
       " 'tidak mendukung',\n",
       " 'dukungan',\n",
       " 'dukungan',\n",
       " 'dukungan',\n",
       " 'netral',\n",
       " 'dukungan',\n",
       " 'tidak mendukung',\n",
       " 'dukungan',\n",
       " 'dukungan',\n",
       " 'dukungan',\n",
       " 'dukungan',\n",
       " 'tidak mendukung',\n",
       " 'dukungan',\n",
       " 'dukungan',\n",
       " 'netral']"
      ]
     },
     "execution_count": 8,
     "metadata": {},
     "output_type": "execute_result"
    }
   ],
   "source": [
    "label"
   ]
  },
  {
   "cell_type": "code",
   "execution_count": 9,
   "metadata": {},
   "outputs": [
    {
     "data": {
      "text/html": [
       "<div>\n",
       "<style scoped>\n",
       "    .dataframe tbody tr th:only-of-type {\n",
       "        vertical-align: middle;\n",
       "    }\n",
       "\n",
       "    .dataframe tbody tr th {\n",
       "        vertical-align: top;\n",
       "    }\n",
       "\n",
       "    .dataframe thead th {\n",
       "        text-align: right;\n",
       "    }\n",
       "</style>\n",
       "<table border=\"1\" class=\"dataframe\">\n",
       "  <thead>\n",
       "    <tr style=\"text-align: right;\">\n",
       "      <th></th>\n",
       "      <th>tweet</th>\n",
       "      <th>label</th>\n",
       "    </tr>\n",
       "  </thead>\n",
       "  <tbody>\n",
       "    <tr>\n",
       "      <th>0</th>\n",
       "      <td>warga kota makassar menyambut pelepasan gubern...</td>\n",
       "      <td>netral</td>\n",
       "    </tr>\n",
       "    <tr>\n",
       "      <th>1</th>\n",
       "      <td>terimakasih pak anies baswedannct ballondor ga...</td>\n",
       "      <td>dukungan</td>\n",
       "    </tr>\n",
       "    <tr>\n",
       "      <th>2</th>\n",
       "      <td>jika memang ini di lakukan untuk menjatuhkan p...</td>\n",
       "      <td>dukungan</td>\n",
       "    </tr>\n",
       "    <tr>\n",
       "      <th>3</th>\n",
       "      <td>mending ma gatot sih ingat dia menantu nya he...</td>\n",
       "      <td>tidak mendukung</td>\n",
       "    </tr>\n",
       "    <tr>\n",
       "      <th>4</th>\n",
       "      <td>rakyat tahu mana pemimpin yg baik jujur amanah...</td>\n",
       "      <td>netral</td>\n",
       "    </tr>\n",
       "    <tr>\n",
       "      <th>...</th>\n",
       "      <td>...</td>\n",
       "      <td>...</td>\n",
       "    </tr>\n",
       "    <tr>\n",
       "      <th>430</th>\n",
       "      <td>partai koalisi pemerintah 82 suaranya di parle...</td>\n",
       "      <td>dukungan</td>\n",
       "    </tr>\n",
       "    <tr>\n",
       "      <th>431</th>\n",
       "      <td>cuma 2 perahu ngakunya ratusan</td>\n",
       "      <td>tidak mendukung</td>\n",
       "    </tr>\n",
       "    <tr>\n",
       "      <th>432</th>\n",
       "      <td>kenduri rakyat jarnas anies baswedan memggelar...</td>\n",
       "      <td>dukungan</td>\n",
       "    </tr>\n",
       "    <tr>\n",
       "      <th>433</th>\n",
       "      <td>maklum aja duaduanya pecatan mau gimana lagi</td>\n",
       "      <td>dukungan</td>\n",
       "    </tr>\n",
       "    <tr>\n",
       "      <th>434</th>\n",
       "      <td>sejak kemarin anies baswedan bukan lagi gubern...</td>\n",
       "      <td>netral</td>\n",
       "    </tr>\n",
       "  </tbody>\n",
       "</table>\n",
       "<p>435 rows × 2 columns</p>\n",
       "</div>"
      ],
      "text/plain": [
       "                                                 tweet            label\n",
       "0    warga kota makassar menyambut pelepasan gubern...           netral\n",
       "1    terimakasih pak anies baswedannct ballondor ga...         dukungan\n",
       "2    jika memang ini di lakukan untuk menjatuhkan p...         dukungan\n",
       "3     mending ma gatot sih ingat dia menantu nya he...  tidak mendukung\n",
       "4    rakyat tahu mana pemimpin yg baik jujur amanah...           netral\n",
       "..                                                 ...              ...\n",
       "430  partai koalisi pemerintah 82 suaranya di parle...         dukungan\n",
       "431                    cuma 2 perahu ngakunya ratusan   tidak mendukung\n",
       "432  kenduri rakyat jarnas anies baswedan memggelar...         dukungan\n",
       "433       maklum aja duaduanya pecatan mau gimana lagi         dukungan\n",
       "434  sejak kemarin anies baswedan bukan lagi gubern...           netral\n",
       "\n",
       "[435 rows x 2 columns]"
      ]
     },
     "execution_count": 9,
     "metadata": {},
     "output_type": "execute_result"
    }
   ],
   "source": [
    "# add label to data\n",
    "\n",
    "data['label'] = label\n",
    "\n",
    "data"
   ]
  },
  {
   "cell_type": "code",
   "execution_count": 43,
   "metadata": {},
   "outputs": [],
   "source": [
    "# save to new csv\n",
    "\n",
    "data.to_csv('tweet2_new.csv', index=False)"
   ]
  },
  {
   "cell_type": "code",
   "execution_count": null,
   "metadata": {},
   "outputs": [],
   "source": []
  },
  {
   "cell_type": "code",
   "execution_count": null,
   "metadata": {},
   "outputs": [],
   "source": []
  },
  {
   "cell_type": "code",
   "execution_count": null,
   "metadata": {},
   "outputs": [],
   "source": []
  },
  {
   "cell_type": "code",
   "execution_count": null,
   "metadata": {},
   "outputs": [],
   "source": []
  },
  {
   "cell_type": "code",
   "execution_count": null,
   "metadata": {},
   "outputs": [],
   "source": []
  }
 ],
 "metadata": {
  "kernelspec": {
   "display_name": "Python 3 (ipykernel)",
   "language": "python",
   "name": "python3"
  },
  "language_info": {
   "codemirror_mode": {
    "name": "ipython",
    "version": 3
   },
   "file_extension": ".py",
   "mimetype": "text/x-python",
   "name": "python",
   "nbconvert_exporter": "python",
   "pygments_lexer": "ipython3",
   "version": "3.9.7"
  },
  "vscode": {
   "interpreter": {
    "hash": "65e2cb4ba52f491d98b9dab0c6a41d622f0e8e62820fe5497205364b0533bb9e"
   }
  }
 },
 "nbformat": 4,
 "nbformat_minor": 2
}
